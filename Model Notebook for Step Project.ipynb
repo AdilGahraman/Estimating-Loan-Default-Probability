{
 "cells": [
  {
   "cell_type": "markdown",
   "id": "a69a9ae8",
   "metadata": {},
   "source": [
    " <font color='purple'><h1><center>Model Building for [Step Project](https://www.kaggle.com/c/iba-ml2-mid-project)</center></h1>"
   ]
  },
  {
   "cell_type": "code",
   "execution_count": 1,
   "id": "2834bd1e",
   "metadata": {},
   "outputs": [],
   "source": [
    "#importing main libraries;\n",
    "\n",
    "import pandas as pd\n",
    "import numpy as np\n",
    "import seaborn as sns\n",
    "import matplotlib.pyplot as plt\n",
    "\n",
    "#importing preprocessing features;\n",
    "from sklearn.model_selection import train_test_split\n",
    "from sklearn.model_selection import StratifiedShuffleSplit\n",
    "from sklearn.model_selection import GridSearchCV\n",
    "from sklearn.model_selection import StratifiedKFold\n",
    "from sklearn.preprocessing import PolynomialFeatures\n",
    "\n",
    "#scaler\n",
    "from sklearn.preprocessing import StandardScaler\n",
    "from sklearn.preprocessing import MinMaxScaler\n",
    "from sklearn.preprocessing import RobustScaler\n",
    "from sklearn.preprocessing import MaxAbsScaler\n",
    "from sklearn.preprocessing import Normalizer\n",
    "from sklearn.preprocessing import QuantileTransformer\n",
    "\n",
    "#encoder\n",
    "from sklearn.preprocessing import OneHotEncoder\n",
    "from sklearn.preprocessing import LabelEncoder\n",
    "\n",
    "#imputer\n",
    "from sklearn.impute import SimpleImputer\n",
    "from sklearn.compose import ColumnTransformer\n",
    "\n",
    "#importing algortihms\n",
    "from sklearn.linear_model import LogisticRegression\n",
    "from sklearn.linear_model import LogisticRegressionCV\n",
    "from sklearn.naive_bayes import GaussianNB\n",
    "from sklearn.tree import DecisionTreeClassifier\n",
    "from sklearn.neighbors import KNeighborsClassifier\n",
    "from sklearn.ensemble import AdaBoostClassifier\n",
    "from sklearn.svm import SVC\n",
    "from xgboost import XGBClassifier\n",
    "from sklearn.ensemble import GradientBoostingClassifier\n",
    "from sklearn.ensemble import RandomForestClassifier\n",
    "from sklearn.ensemble import VotingClassifier\n",
    "from catboost import CatBoostClassifier\n",
    "\n",
    "\n",
    "#pipeline\n",
    "from sklearn.pipeline import Pipeline\n",
    "from IPython.core.display import HTML\n",
    "from sklearn.utils import estimator_html_repr\n",
    "\n",
    "#outlier detection\n",
    "from sklearn.ensemble import IsolationForest\n",
    "from sklearn.covariance import EllipticEnvelope\n",
    "from sklearn.neighbors import LocalOutlierFactor\n",
    "\n",
    "#metrics\n",
    "from sklearn.metrics import classification_report, confusion_matrix, accuracy_score\n",
    "from sklearn.metrics import roc_curve, roc_auc_score, auc, make_scorer\n",
    "\n",
    "%matplotlib inline"
   ]
  },
  {
   "cell_type": "code",
   "execution_count": 2,
   "id": "b83154b3",
   "metadata": {},
   "outputs": [],
   "source": [
    "df = pd.read_csv('train.csv', index_col='Id') #We don't really need the ID column to be found in the train dataset, therefore I setting it as index"
   ]
  },
  {
   "cell_type": "code",
   "execution_count": 3,
   "id": "609552de",
   "metadata": {},
   "outputs": [],
   "source": [
    "df_test = pd.read_csv('test.csv', index_col='Id') #Same applies to the ID column of test dataset."
   ]
  },
  {
   "cell_type": "code",
   "execution_count": 4,
   "id": "1c72f758",
   "metadata": {},
   "outputs": [],
   "source": [
    "import warnings\n",
    "warnings.filterwarnings('ignore')  #just to ignore warnings related to graphs and other codes."
   ]
  },
  {
   "cell_type": "code",
   "execution_count": 5,
   "id": "08aedaf6",
   "metadata": {},
   "outputs": [],
   "source": [
    "df['credit_line_utilization'] = df['credit_line_utilization'].str.replace(',' , '.').astype(float) "
   ]
  },
  {
   "cell_type": "code",
   "execution_count": 6,
   "id": "0fcc7340",
   "metadata": {},
   "outputs": [],
   "source": [
    "df_test['credit_line_utilization'] = df_test['credit_line_utilization'].str.replace(',' , '.').astype(float)"
   ]
  },
  {
   "cell_type": "markdown",
   "id": "97cc0365",
   "metadata": {},
   "source": [
    "<i> <font size='4'> There were comma(',') instead of dot('.') in the credit_line_utilization column in both test and train datasets, therefore I cleaned these and changed the datatype to float.</font>"
   ]
  },
  {
   "cell_type": "markdown",
   "id": "49d28d16",
   "metadata": {},
   "source": [
    "### <font size='5'> Outlier Handling"
   ]
  },
  {
   "cell_type": "code",
   "execution_count": 7,
   "id": "63d52529",
   "metadata": {
    "scrolled": true
   },
   "outputs": [
    {
     "data": {
      "text/plain": [
       "age                                                 7144\n",
       "number_dependent_family_members                     4216\n",
       "monthly_income                                      6016\n",
       "number_of_credit_lines                              6154\n",
       "real_estate_loans                                   3806\n",
       "ratio_debt_payment_to_income                        5608\n",
       "credit_line_utilization                             6346\n",
       "number_of_previous_late_payments_up_to_59_days      4195\n",
       "number_of_previous_late_payments_up_to_89_days      5845\n",
       "number_of_previous_late_payments_90_days_or_more    3621\n",
       "defaulted_on_loan                                      0\n",
       "dtype: int64"
      ]
     },
     "execution_count": 7,
     "metadata": {},
     "output_type": "execute_result"
    }
   ],
   "source": [
    "df.isna().sum()"
   ]
  },
  {
   "cell_type": "code",
   "execution_count": 8,
   "id": "0c593e1c",
   "metadata": {
    "scrolled": true
   },
   "outputs": [
    {
     "data": {
      "text/plain": [
       "52951"
      ]
     },
     "execution_count": 8,
     "metadata": {},
     "output_type": "execute_result"
    }
   ],
   "source": [
    "df.isna().sum().sum()"
   ]
  },
  {
   "cell_type": "markdown",
   "id": "7025f794",
   "metadata": {},
   "source": [
    "<i><font size='4'> <font color='red'> To increase model accuracy </font>, I am adding <font color='red'> new column (Debt Payment) </font> which is created with Monthly_Income and Ratio_debt_payment_to_income columns. For exporting output from the test dataset, I have to add this new column to the test dataset as well, otherwise I will get an 'error'. By adding this column I increased my accuracy score."
   ]
  },
  {
   "cell_type": "code",
   "execution_count": 9,
   "id": "e903dc83",
   "metadata": {},
   "outputs": [],
   "source": [
    "df_test['Debt Amount'] = df_test['monthly_income'] * df_test['ratio_debt_payment_to_income'] # as stated above, I am inserting\n",
    "# new column to test dataset as well."
   ]
  },
  {
   "cell_type": "code",
   "execution_count": null,
   "id": "b457a8ba",
   "metadata": {},
   "outputs": [],
   "source": []
  },
  {
   "cell_type": "code",
   "execution_count": 10,
   "id": "e75c5db6",
   "metadata": {},
   "outputs": [],
   "source": [
    "X = df.drop(columns=\"defaulted_on_loan\",axis=1)\n",
    "y = df[\"defaulted_on_loan\"]"
   ]
  },
  {
   "cell_type": "code",
   "execution_count": 11,
   "id": "f8a01cca",
   "metadata": {},
   "outputs": [],
   "source": [
    "X_train = df.drop(columns=\"defaulted_on_loan\",axis=1)\n",
    "y_train = df[\"defaulted_on_loan\"]"
   ]
  },
  {
   "cell_type": "code",
   "execution_count": 12,
   "id": "cfbe34bb",
   "metadata": {},
   "outputs": [],
   "source": [
    "X['Debt Amount'] = X['monthly_income'] * X['ratio_debt_payment_to_income'] #creating new column called \"Debt Amount\""
   ]
  },
  {
   "cell_type": "markdown",
   "id": "00a6cd85",
   "metadata": {},
   "source": [
    "<i><font size='3.5'>For each column, I calculated z-score and changed value of the rows of column to 'NaN' whereas z-score is more than 3 which we can call Outliers. Later, inside of the pipeline, these NaN values will be imputed, which means we are not losing any rows with dropping outlier values."
   ]
  },
  {
   "cell_type": "code",
   "execution_count": 13,
   "id": "038596b4",
   "metadata": {},
   "outputs": [],
   "source": [
    "X['age_z_score'] = (X['age'] - X.age.mean()) / X.age.std()\n",
    "X['number_dependent_family_members_score'] = (X['number_dependent_family_members'] - X.number_dependent_family_members.mean()) / X.number_dependent_family_members.std()\n",
    "X['monthly_income_score'] = (X['monthly_income'] - X.monthly_income.mean()) / X.monthly_income.std()\n",
    "X['number_of_credit_lines_score'] = (X['number_of_credit_lines'] - X.number_of_credit_lines.mean()) / X.number_of_credit_lines.std()\n",
    "X['real_estate_loans_score'] = (X['real_estate_loans'] - X.real_estate_loans.mean()) / X.real_estate_loans.std()\n",
    "X['ratio_debt_payment_to_income_score'] = (X['ratio_debt_payment_to_income'] - X.ratio_debt_payment_to_income.mean()) / X.ratio_debt_payment_to_income.std()\n",
    "X['credit_line_utilization_score'] = (X['credit_line_utilization'] - X.credit_line_utilization.mean()) / X.credit_line_utilization.std()\n",
    "X['number_of_previous_late_payments_up_to_59_days_score'] = (X['number_of_previous_late_payments_up_to_59_days'] - X.number_of_previous_late_payments_up_to_59_days.mean()) / X.number_of_previous_late_payments_up_to_59_days.std()\n",
    "X['number_of_previous_late_payments_up_to_89_days_score'] = (X['number_of_previous_late_payments_up_to_89_days'] - X.number_of_previous_late_payments_up_to_89_days.mean()) / X.number_of_previous_late_payments_up_to_89_days.std()\n",
    "X['number_of_previous_late_payments_90_days_or_more_score'] = (X['number_of_previous_late_payments_90_days_or_more'] - X.number_of_previous_late_payments_90_days_or_more.mean()) / X.number_of_previous_late_payments_90_days_or_more.std()\n",
    "X['Debt Amount Score'] = (X['Debt Amount'] - X['Debt Amount'].mean()) / X['Debt Amount'].std() "
   ]
  },
  {
   "cell_type": "code",
   "execution_count": 14,
   "id": "918d09ad",
   "metadata": {},
   "outputs": [],
   "source": [
    "X.loc[X['age_z_score'] > 3, 'age'] = np.nan\n",
    "X.loc[X['number_dependent_family_members_score'] > 3, 'number_dependent_family_members'] = np.nan\n",
    "X.loc[X['monthly_income_score'] > 3, 'monthly_income'] = np.nan\n",
    "X.loc[X['number_of_credit_lines_score'] > 3, 'number_of_credit_lines'] = np.nan\n",
    "X.loc[X['real_estate_loans_score'] > 3, 'real_estate_loans'] = np.nan\n",
    "X.loc[X['ratio_debt_payment_to_income_score'] > 3, 'ratio_debt_payment_to_income'] = np.nan\n",
    "X.loc[X['credit_line_utilization_score'] > 3, 'credit_line_utilization'] = np.nan\n",
    "X.loc[X['number_of_previous_late_payments_up_to_59_days_score'] > 3, 'number_of_previous_late_payments_up_to_59_days'] = np.nan\n",
    "X.loc[X['number_of_previous_late_payments_up_to_89_days_score'] > 3, 'number_of_previous_late_payments_up_to_89_days'] = np.nan\n",
    "X.loc[X['number_of_previous_late_payments_90_days_or_more_score'] > 3, 'number_of_previous_late_payments_90_days_or_more'] = np.nan\n",
    "X.loc[X['Debt Amount Score'] > 3, 'Debt Amount'] = np.nan"
   ]
  },
  {
   "cell_type": "code",
   "execution_count": 15,
   "id": "bc7904a7",
   "metadata": {},
   "outputs": [],
   "source": [
    "X = X.drop(columns=['age_z_score', 'number_dependent_family_members_score','monthly_income_score','number_of_credit_lines_score','real_estate_loans_score','ratio_debt_payment_to_income_score','credit_line_utilization_score','number_of_previous_late_payments_up_to_59_days_score','number_of_previous_late_payments_up_to_89_days_score','number_of_previous_late_payments_90_days_or_more_score','Debt Amount Score'])"
   ]
  },
  {
   "cell_type": "code",
   "execution_count": null,
   "id": "c3f97f6b",
   "metadata": {},
   "outputs": [],
   "source": []
  },
  {
   "cell_type": "code",
   "execution_count": 16,
   "id": "63dbf590",
   "metadata": {},
   "outputs": [],
   "source": [
    "numeric = X_train.columns.to_list() #(All of our columns are numeric except target column)"
   ]
  },
  {
   "cell_type": "code",
   "execution_count": 17,
   "id": "42f302de",
   "metadata": {},
   "outputs": [],
   "source": [
    "categorical = []  "
   ]
  },
  {
   "cell_type": "markdown",
   "id": "eba27e53",
   "metadata": {},
   "source": [
    "### <font size='5'> Model Fitting"
   ]
  },
  {
   "cell_type": "code",
   "execution_count": 18,
   "id": "00b48434",
   "metadata": {},
   "outputs": [],
   "source": [
    "X_train, X_test, y_train, y_test = train_test_split(X,y,test_size = 0.3,random_state=42)"
   ]
  },
  {
   "cell_type": "code",
   "execution_count": 19,
   "id": "e0459b90",
   "metadata": {},
   "outputs": [],
   "source": [
    "# Imputer_num = SimpleImputer(strategy='median')\n",
    "# X_train[numeric] = Imputer_num.fit_transform(X_train[numeric])   #mean is the best"
   ]
  },
  {
   "cell_type": "code",
   "execution_count": 20,
   "id": "98f27aa1",
   "metadata": {},
   "outputs": [],
   "source": [
    "# elliptic= EllipticEnvelope(contamination=0.01)\n",
    "# pred_outlier = elliptic.fit_predict(X_train)\n",
    "# mask = pred_outlier != -1\n",
    "\n",
    "# X_train_eli, y_train_eli = X_train.iloc[mask, :], y_train[mask]\n",
    "#  # Outliers are detected and filtered out."
   ]
  },
  {
   "cell_type": "code",
   "execution_count": 21,
   "id": "f9dbf286",
   "metadata": {},
   "outputs": [],
   "source": [
    "# iso = IsolationForest(contamination=0.01)\n",
    "# outlier_pred = iso.fit_predict(X_train[numeric])\n",
    "# mask = outlier_pred != -1\n",
    "\n",
    "# X_train_iso, y_train_iso = X_train.iloc[mask, :], y_train[mask]\n",
    "#  # Outliers are detected and filtered out."
   ]
  },
  {
   "cell_type": "markdown",
   "id": "bc0965f9",
   "metadata": {},
   "source": [
    "<i> <font size='4'>I tried 2 types of Outlier detection, but none of them gave better result than the manual outlier removal as implemented above."
   ]
  },
  {
   "cell_type": "markdown",
   "id": "2150d989",
   "metadata": {},
   "source": [
    "## XGBClassifier"
   ]
  },
  {
   "cell_type": "code",
   "execution_count": 22,
   "id": "1a92bb69",
   "metadata": {
    "scrolled": true
   },
   "outputs": [
    {
     "name": "stdout",
     "output_type": "stream",
     "text": [
      "[11:57:05] WARNING: C:/Users/Administrator/workspace/xgboost-win64_release_1.5.1/src/learner.cc:1115: Starting in XGBoost 1.3.0, the default evaluation metric used with the objective 'binary:logistic' was changed from 'error' to 'logloss'. Explicitly set eval_metric if you'd like to restore the old behavior.\n",
      "              precision    recall  f1-score   support\n",
      "\n",
      "           0       0.94      0.99      0.97     20149\n",
      "           1       0.60      0.15      0.23      1500\n",
      "\n",
      "    accuracy                           0.93     21649\n",
      "   macro avg       0.77      0.57      0.60     21649\n",
      "weighted avg       0.92      0.93      0.91     21649\n",
      "\n"
     ]
    }
   ],
   "source": [
    "categorical_transformer=Pipeline(steps=[\n",
    "    ('impute', SimpleImputer(strategy='most_frequent')), \n",
    "    ('one_hot_encoding', OneHotEncoder(handle_unknown = \"ignore\"))\n",
    "])\n",
    "\n",
    "numeric_transformer=Pipeline(steps=[\n",
    "    ('impute', SimpleImputer(strategy='median')), \n",
    "    ('scaler', StandardScaler())\n",
    "])\n",
    "\n",
    "column_transformer=ColumnTransformer(transformers=[\n",
    "    ('numeric', numeric_transformer, numeric),\n",
    "    ('categorical', categorical_transformer, categorical)\n",
    "])\n",
    "\n",
    "model_xgb=Pipeline(steps=[\n",
    "    ('preprocessing', column_transformer),\n",
    "    ('classifier', XGBClassifier(gamma=5, max_depth=3, min_child_weight=5, subsample=1.0, colsample_bytree=0.8))\n",
    "])                    \n",
    "model_xgb.fit(X_train, y_train)\n",
    "print(classification_report(y_test, model_xgb.predict(X_test)))"
   ]
  },
  {
   "cell_type": "markdown",
   "id": "2562dc04",
   "metadata": {},
   "source": [
    "<i> <font size='4'> I did run GridSearch for hyperparameter tuning of XGBoost Classifier, It took a lot of computing power and time, therefore, I am directly using the best paramteres above and gridsearch part will be commented out."
   ]
  },
  {
   "cell_type": "code",
   "execution_count": 23,
   "id": "1447defb",
   "metadata": {},
   "outputs": [],
   "source": [
    "# param_space = {\n",
    "#         'classifier__min_child_weight': [1, 5, 10],\n",
    "#         'classifier__gamma': [0.5, 1, 1.5, 2, 5],\n",
    "#         'classifier__subsample': [0.6, 0.8, 1.0],\n",
    "#         'classifier__colsample_bytree': [0.6, 0.8, 1.0],\n",
    "#         'classifier__max_depth': [3, 4, 5]\n",
    "# }"
   ]
  },
  {
   "cell_type": "code",
   "execution_count": 24,
   "id": "bd914f78",
   "metadata": {},
   "outputs": [],
   "source": [
    "# gridsearch=GridSearchCV(model_pipeline1,param_space,cv=StratifiedKFold()) #Utilized StratifiedKFold in gridsearch"
   ]
  },
  {
   "cell_type": "markdown",
   "id": "518b35e5",
   "metadata": {},
   "source": [
    "This gridsearch is taking a lot of computing power :) took me to run for more than 1 hour."
   ]
  },
  {
   "cell_type": "code",
   "execution_count": 25,
   "id": "6415a1ea",
   "metadata": {
    "scrolled": true
   },
   "outputs": [],
   "source": [
    "# gridsearch.fit(X_train, y_train)"
   ]
  },
  {
   "cell_type": "code",
   "execution_count": 26,
   "id": "53d29b89",
   "metadata": {
    "scrolled": true
   },
   "outputs": [],
   "source": [
    "# final_model = gridsearch.best_estimator_\n",
    "# final_model.fit(X_train,y_train)"
   ]
  },
  {
   "cell_type": "code",
   "execution_count": 27,
   "id": "f888c009",
   "metadata": {
    "scrolled": false
   },
   "outputs": [
    {
     "data": {
      "image/png": "[encoded data removed]",
      "text/plain": [
       "<Figure size 432x432 with 1 Axes>"
      ]
     },
     "metadata": {},
     "output_type": "display_data"
    }
   ],
   "source": [
    "plt.style.use('fivethirtyeight')\n",
    "prediction = model_xgb.predict_proba(X_test)[:,1]\n",
    "fpr, tpr, thresholds = roc_curve(y_test, prediction)\n",
    "fig, ax = plt.subplots(figsize=(6,6))\n",
    "plt.plot(fpr, tpr, color='r')\n",
    "\n",
    "plt.plot(fpr, fpr, linestyle = 'dashed', color = 'b')\n",
    "\n",
    "plt.xlabel('False positive rate')\n",
    "\n",
    "plt.ylabel('True positive rate')\n",
    "\n",
    "AUROC = np.round(roc_auc_score(y_test, prediction), 6)\n",
    "\n",
    "plt.title(f'XGBoost Classifier ROC curve; AUROC: {AUROC}');\n",
    "\n",
    "plt.show()"
   ]
  },
  {
   "cell_type": "code",
   "execution_count": null,
   "id": "0ffcc381",
   "metadata": {},
   "outputs": [],
   "source": []
  },
  {
   "cell_type": "code",
   "execution_count": 28,
   "id": "d7195a44",
   "metadata": {},
   "outputs": [],
   "source": [
    "# y_pred=final_model1.predict_proba(test)[:,1]\n",
    "# pred=pd.DataFrame(y_pred)\n",
    "# test.reset_index(inplace=True)"
   ]
  },
  {
   "cell_type": "code",
   "execution_count": 29,
   "id": "18eb18b1",
   "metadata": {},
   "outputs": [],
   "source": [
    "# dataset=pd.concat([test['Id'], pred], axis=1)\n",
    "# dataset.columns=['Id','Predicted']\n",
    "# dataset.to_csv('XGB5_SKF.csv',index=False)"
   ]
  },
  {
   "cell_type": "markdown",
   "id": "3377d388",
   "metadata": {},
   "source": [
    "## RandomForestClassifier"
   ]
  },
  {
   "cell_type": "code",
   "execution_count": 30,
   "id": "9d86657d",
   "metadata": {},
   "outputs": [
    {
     "name": "stdout",
     "output_type": "stream",
     "text": [
      "              precision    recall  f1-score   support\n",
      "\n",
      "           0       0.93      1.00      0.96     20149\n",
      "           1       0.00      0.00      0.00      1500\n",
      "\n",
      "    accuracy                           0.93     21649\n",
      "   macro avg       0.47      0.50      0.48     21649\n",
      "weighted avg       0.87      0.93      0.90     21649\n",
      "\n"
     ]
    }
   ],
   "source": [
    "categorical_transformer=Pipeline(steps=[\n",
    "    ('impute', SimpleImputer(strategy='most_frequent')), \n",
    "    ('one_hot_encoding', OneHotEncoder(handle_unknown = \"ignore\"))\n",
    "])\n",
    "\n",
    "numeric_transformer=Pipeline(steps=[\n",
    "    ('impute', SimpleImputer(strategy='median')), \n",
    "    ('scaler', StandardScaler())\n",
    "])\n",
    "\n",
    "column_transformer=ColumnTransformer(transformers=[\n",
    "    ('numeric', numeric_transformer, numeric),\n",
    "    ('categorical', categorical_transformer, categorical)\n",
    "])\n",
    "\n",
    "model_rf=Pipeline(steps=[\n",
    "    ('preprocessing', column_transformer),\n",
    "    ('classifier', RandomForestClassifier(max_depth=2, random_state=0))\n",
    "])                    \n",
    "model_rf.fit(X_train, y_train)\n",
    "print(classification_report(y_test, model_rf.predict(X_test)))"
   ]
  },
  {
   "cell_type": "code",
   "execution_count": 31,
   "id": "fbb19b49",
   "metadata": {},
   "outputs": [
    {
     "data": {
      "image/png": "[encoded data removed]",
      "text/plain": [
       "<Figure size 432x432 with 1 Axes>"
      ]
     },
     "metadata": {},
     "output_type": "display_data"
    }
   ],
   "source": [
    "plt.style.use('fivethirtyeight')\n",
    "prediction = model_rf.predict_proba(X_test)[:,1]\n",
    "fpr, tpr, thresholds = roc_curve(y_test, prediction)\n",
    "fig, ax = plt.subplots(figsize=(6,6))\n",
    "plt.plot(fpr, tpr, color='r')\n",
    "\n",
    "plt.plot(fpr, fpr, linestyle = 'dashed', color = 'b')\n",
    "\n",
    "plt.xlabel('False positive rate')\n",
    "\n",
    "plt.ylabel('True positive rate')\n",
    "\n",
    "AUROC = np.round(roc_auc_score(y_test, prediction), 6)\n",
    "\n",
    "plt.title(f'Random Forest Classifier ROC curve; AUROC: {AUROC}');\n",
    "\n",
    "plt.show()"
   ]
  },
  {
   "cell_type": "raw",
   "id": "58cc2ab1",
   "metadata": {},
   "source": []
  },
  {
   "cell_type": "markdown",
   "id": "31c03379",
   "metadata": {},
   "source": [
    "## GradientBoostingClassifier"
   ]
  },
  {
   "cell_type": "code",
   "execution_count": 32,
   "id": "2d06ac97",
   "metadata": {},
   "outputs": [
    {
     "name": "stdout",
     "output_type": "stream",
     "text": [
      "              precision    recall  f1-score   support\n",
      "\n",
      "           0       0.94      0.99      0.96     20149\n",
      "           1       0.51      0.17      0.25      1500\n",
      "\n",
      "    accuracy                           0.93     21649\n",
      "   macro avg       0.73      0.58      0.61     21649\n",
      "weighted avg       0.91      0.93      0.91     21649\n",
      "\n"
     ]
    }
   ],
   "source": [
    "categorical_transformer=Pipeline(steps=[\n",
    "    ('impute', SimpleImputer(strategy='most_frequent')), \n",
    "    ('one_hot_encoding', OneHotEncoder(handle_unknown = \"ignore\"))\n",
    "])\n",
    "\n",
    "numeric_transformer=Pipeline(steps=[\n",
    "    ('impute', SimpleImputer(strategy='median')), \n",
    "    ('scaler', StandardScaler())\n",
    "])\n",
    "\n",
    "column_transformer=ColumnTransformer(transformers=[\n",
    "    ('numeric', numeric_transformer, numeric),\n",
    "    ('categorical', categorical_transformer, categorical)\n",
    "])\n",
    "\n",
    "model_gb=Pipeline(steps=[\n",
    "    ('preprocessing', column_transformer),\n",
    "    ('classifier', GradientBoostingClassifier(n_estimators=300, learning_rate=.1, max_depth= 5))\n",
    "])                    \n",
    "model_gb.fit(X_train, y_train)\n",
    "print(classification_report(y_test, model_gb.predict(X_test)))"
   ]
  },
  {
   "cell_type": "code",
   "execution_count": 33,
   "id": "0c07e0be",
   "metadata": {},
   "outputs": [
    {
     "data": {
      "image/png": "[encoded data removed]",
      "text/plain": [
       "<Figure size 432x432 with 1 Axes>"
      ]
     },
     "metadata": {},
     "output_type": "display_data"
    }
   ],
   "source": [
    "plt.style.use('fivethirtyeight')\n",
    "prediction = model_gb.predict_proba(X_test)[:,1]\n",
    "fpr, tpr, thresholds = roc_curve(y_test, prediction)\n",
    "fig, ax = plt.subplots(figsize=(6,6))\n",
    "plt.plot(fpr, tpr, color='r')\n",
    "\n",
    "plt.plot(fpr, fpr, linestyle = 'dashed', color = 'b')\n",
    "\n",
    "plt.xlabel('False positive rate')\n",
    "\n",
    "plt.ylabel('True positive rate')\n",
    "\n",
    "AUROC = np.round(roc_auc_score(y_test, prediction), 6)\n",
    "\n",
    "plt.title(f'Gradient Boosting Classifier ROC curve; AUROC: {AUROC}');\n",
    "\n",
    "plt.show()"
   ]
  },
  {
   "cell_type": "raw",
   "id": "d0912290",
   "metadata": {},
   "source": []
  },
  {
   "cell_type": "markdown",
   "id": "3d0eb280",
   "metadata": {},
   "source": [
    "## Voting Classifier "
   ]
  },
  {
   "cell_type": "code",
   "execution_count": 34,
   "id": "ea9ef5a3",
   "metadata": {},
   "outputs": [],
   "source": [
    "clf1 = RandomForestClassifier(max_depth=2, random_state=0)"
   ]
  },
  {
   "cell_type": "code",
   "execution_count": 35,
   "id": "a282a281",
   "metadata": {},
   "outputs": [],
   "source": [
    "clf2 = XGBClassifier(gamma=5, max_depth=3, min_child_weight=5, subsample=1.0, colsample_bytree=0.8)#using gridsearch best params"
   ]
  },
  {
   "cell_type": "code",
   "execution_count": 36,
   "id": "919781dc",
   "metadata": {},
   "outputs": [],
   "source": [
    "clf3 = GradientBoostingClassifier(n_estimators=300, learning_rate=.1, max_depth= 5)"
   ]
  },
  {
   "cell_type": "code",
   "execution_count": 37,
   "id": "df1d2cca",
   "metadata": {},
   "outputs": [
    {
     "name": "stdout",
     "output_type": "stream",
     "text": [
      "[11:57:42] WARNING: C:/Users/Administrator/workspace/xgboost-win64_release_1.5.1/src/learner.cc:1115: Starting in XGBoost 1.3.0, the default evaluation metric used with the objective 'binary:logistic' was changed from 'error' to 'logloss'. Explicitly set eval_metric if you'd like to restore the old behavior.\n",
      "              precision    recall  f1-score   support\n",
      "\n",
      "           0       0.94      0.99      0.97     20149\n",
      "           1       0.61      0.12      0.20      1500\n",
      "\n",
      "    accuracy                           0.93     21649\n",
      "   macro avg       0.78      0.56      0.58     21649\n",
      "weighted avg       0.92      0.93      0.91     21649\n",
      "\n"
     ]
    }
   ],
   "source": [
    "categorical_transformer=Pipeline(steps=[\n",
    "    ('impute', SimpleImputer(strategy='most_frequent')), \n",
    "    ('one_hot_encoding', OneHotEncoder(handle_unknown = \"ignore\"))\n",
    "])\n",
    "\n",
    "numeric_transformer=Pipeline(steps=[\n",
    "    ('impute', SimpleImputer(strategy='median')), \n",
    "    ('scaler', StandardScaler())\n",
    "])\n",
    "\n",
    "column_transformer=ColumnTransformer(transformers=[\n",
    "    ('numeric', numeric_transformer, numeric),\n",
    "    ('categorical', categorical_transformer, categorical)\n",
    "])\n",
    "\n",
    "voting_model=Pipeline(steps=[\n",
    "    ('preprocessing', column_transformer),\n",
    "    ('classifier', VotingClassifier(estimators=[('rf', clf1),('xgb', clf2),('gbc', clf3)], voting='soft', weights=[1,2,2]))\n",
    "])                    \n",
    "voting_model.fit(X_train, y_train)\n",
    "print(classification_report(y_test, voting_model.predict(X_test)))"
   ]
  },
  {
   "cell_type": "code",
   "execution_count": 38,
   "id": "b4ca371d",
   "metadata": {},
   "outputs": [
    {
     "data": {
      "image/png": "[encoded data removed]",
      "text/plain": [
       "<Figure size 432x432 with 1 Axes>"
      ]
     },
     "metadata": {},
     "output_type": "display_data"
    }
   ],
   "source": [
    "plt.style.use('fivethirtyeight')\n",
    "prediction = voting_model.predict_proba(X_test)[:,1]\n",
    "fpr, tpr, thresholds = roc_curve(y_test, prediction)\n",
    "fig, ax = plt.subplots(figsize=(6,6))\n",
    "plt.plot(fpr, tpr, color='r')\n",
    "\n",
    "plt.plot(fpr, fpr, linestyle = 'dashed', color = 'b')\n",
    "\n",
    "plt.xlabel('False positive rate')\n",
    "\n",
    "plt.ylabel('True positive rate')\n",
    "\n",
    "AUROC = np.round(roc_auc_score(y_test, prediction), 6)\n",
    "\n",
    "plt.title(f'Voting Classifier ROC curve; AUROC: {AUROC}');\n",
    "\n",
    "plt.show()"
   ]
  },
  {
   "cell_type": "markdown",
   "id": "839c635d",
   "metadata": {},
   "source": [
    "## CatBoost Classifier"
   ]
  },
  {
   "cell_type": "code",
   "execution_count": 39,
   "id": "da538bb9",
   "metadata": {},
   "outputs": [
    {
     "data": {
      "text/plain": [
       "Pipeline(steps=[('preprocessing',\n",
       "                 ColumnTransformer(transformers=[('numeric',\n",
       "                                                  Pipeline(steps=[('impute',\n",
       "                                                                   SimpleImputer(strategy='median')),\n",
       "                                                                  ('scaler',\n",
       "                                                                   MinMaxScaler())]),\n",
       "                                                  ['age',\n",
       "                                                   'number_dependent_family_members',\n",
       "                                                   'monthly_income',\n",
       "                                                   'number_of_credit_lines',\n",
       "                                                   'real_estate_loans',\n",
       "                                                   'ratio_debt_payment_to_income',\n",
       "                                                   'credit_line_utilization',\n",
       "                                                   'number_of_previous_late_payments_up_to_59_days',\n",
       "                                                   'number_of_previous_late_payments_up_to_89_days',\n",
       "                                                   'number_of_previous_late_payments_90_days_or_more']),\n",
       "                                                 ('categorical',\n",
       "                                                  Pipeline(steps=[('impute',\n",
       "                                                                   SimpleImputer(strategy='most_frequent')),\n",
       "                                                                  ('one_hot_encoding',\n",
       "                                                                   OneHotEncoder(handle_unknown='ignore'))]),\n",
       "                                                  [])])),\n",
       "                ('classifier',\n",
       "                 <catboost.core.CatBoostClassifier object at 0x000001687AB18BB0>)])"
      ]
     },
     "execution_count": 39,
     "metadata": {},
     "output_type": "execute_result"
    }
   ],
   "source": [
    "categorical_transformer=Pipeline(steps=[\n",
    "    ('impute', SimpleImputer(strategy='most_frequent')), \n",
    "    ('one_hot_encoding', OneHotEncoder(handle_unknown = \"ignore\"))\n",
    "])\n",
    "\n",
    "numeric_transformer=Pipeline(steps=[\n",
    "    ('impute', SimpleImputer(strategy='median')), \n",
    "    ('scaler', MinMaxScaler())\n",
    "])\n",
    "\n",
    "column_transformer=ColumnTransformer(transformers=[\n",
    "    ('numeric', numeric_transformer, numeric),\n",
    "    ('categorical', categorical_transformer, categorical)\n",
    "])\n",
    "\n",
    "model_cat=Pipeline(steps=[\n",
    "    ('preprocessing', column_transformer),\n",
    "    ('classifier', CatBoostClassifier(silent=True, iterations=2000, learning_rate=0.01, l2_leaf_reg=3.5, depth=8, rsm=0.98, loss_function='Logloss', eval_metric='AUC',random_seed=42))\n",
    "])  \n",
    "\n",
    "model_cat.fit(X_train, y_train)\n",
    "# print(classification_report(y_test, model_cat.predict(X_test)))"
   ]
  },
  {
   "cell_type": "code",
   "execution_count": 40,
   "id": "2be92ca4",
   "metadata": {},
   "outputs": [
    {
     "data": {
      "image/png": "[encoded data removed]",
      "text/plain": [
       "<Figure size 432x432 with 1 Axes>"
      ]
     },
     "metadata": {},
     "output_type": "display_data"
    }
   ],
   "source": [
    "plt.style.use('fivethirtyeight')\n",
    "prediction = model_cat.predict_proba(X_test)[:,1]\n",
    "fpr, tpr, thresholds = roc_curve(y_test, prediction)\n",
    "fig, ax = plt.subplots(figsize=(6,6))\n",
    "plt.plot(fpr, tpr, color='r')\n",
    "\n",
    "plt.plot(fpr, fpr, linestyle = 'dashed', color = 'b')\n",
    "\n",
    "plt.xlabel('False positive rate')\n",
    "\n",
    "plt.ylabel('True positive rate')\n",
    "\n",
    "AUROC = np.round(roc_auc_score(y_test, prediction), 6)\n",
    "\n",
    "plt.title(f'Voting Classifier ROC curve; AUROC: {AUROC}');\n",
    "\n",
    "plt.show()"
   ]
  },
  {
   "cell_type": "code",
   "execution_count": 41,
   "id": "562d15ae",
   "metadata": {},
   "outputs": [],
   "source": [
    "# model_cat.get_params()"
   ]
  },
  {
   "cell_type": "code",
   "execution_count": 42,
   "id": "f38e7211",
   "metadata": {},
   "outputs": [],
   "source": [
    "# param_space = {\n",
    "#         'classifier__iterations': [1000, 1500, 2000],\n",
    "#         'classifier__depth': [3, 5, 7],\n",
    "#         'classifier__l2_leaf_reg': [2, 2.5, 3.5],\n",
    "#         'classifier__learning_rate': [0.01, 0.02, 0.1],\n",
    "#         'classifier__rsm': [0.9, 0.95]\n",
    "# }"
   ]
  },
  {
   "cell_type": "code",
   "execution_count": 43,
   "id": "3322bbe9",
   "metadata": {},
   "outputs": [],
   "source": [
    "# gridsearch=GridSearchCV(model_cat,param_space,cv=StratifiedKFold()) "
   ]
  },
  {
   "cell_type": "code",
   "execution_count": 44,
   "id": "ac6c5376",
   "metadata": {
    "scrolled": true
   },
   "outputs": [],
   "source": [
    "# gridsearch.fit(X_train, y_train)"
   ]
  },
  {
   "cell_type": "code",
   "execution_count": 45,
   "id": "beea1e43",
   "metadata": {},
   "outputs": [],
   "source": [
    "# final_model = gridsearch.best_estimator_\n",
    "# final_model.fit(X_train,y_train)"
   ]
  },
  {
   "cell_type": "markdown",
   "id": "2a7b1daf",
   "metadata": {},
   "source": [
    "### Submission Prediction"
   ]
  },
  {
   "cell_type": "code",
   "execution_count": 46,
   "id": "26ae0816",
   "metadata": {},
   "outputs": [],
   "source": [
    "test = df_test"
   ]
  },
  {
   "cell_type": "code",
   "execution_count": 47,
   "id": "be658c23",
   "metadata": {},
   "outputs": [
    {
     "data": {
      "text/html": [
       "<div>\n",
       "<style scoped>\n",
       "    .dataframe tbody tr th:only-of-type {\n",
       "        vertical-align: middle;\n",
       "    }\n",
       "\n",
       "    .dataframe tbody tr th {\n",
       "        vertical-align: top;\n",
       "    }\n",
       "\n",
       "    .dataframe thead th {\n",
       "        text-align: right;\n",
       "    }\n",
       "</style>\n",
       "<table border=\"1\" class=\"dataframe\">\n",
       "  <thead>\n",
       "    <tr style=\"text-align: right;\">\n",
       "      <th></th>\n",
       "      <th>age</th>\n",
       "      <th>number_dependent_family_members</th>\n",
       "      <th>monthly_income</th>\n",
       "      <th>number_of_credit_lines</th>\n",
       "      <th>real_estate_loans</th>\n",
       "      <th>ratio_debt_payment_to_income</th>\n",
       "      <th>credit_line_utilization</th>\n",
       "      <th>number_of_previous_late_payments_up_to_59_days</th>\n",
       "      <th>number_of_previous_late_payments_up_to_89_days</th>\n",
       "      <th>number_of_previous_late_payments_90_days_or_more</th>\n",
       "      <th>Debt Amount</th>\n",
       "    </tr>\n",
       "    <tr>\n",
       "      <th>Id</th>\n",
       "      <th></th>\n",
       "      <th></th>\n",
       "      <th></th>\n",
       "      <th></th>\n",
       "      <th></th>\n",
       "      <th></th>\n",
       "      <th></th>\n",
       "      <th></th>\n",
       "      <th></th>\n",
       "      <th></th>\n",
       "      <th></th>\n",
       "    </tr>\n",
       "  </thead>\n",
       "  <tbody>\n",
       "    <tr>\n",
       "      <th>1</th>\n",
       "      <td>30.0</td>\n",
       "      <td>2.0</td>\n",
       "      <td>2200.0</td>\n",
       "      <td>0.0</td>\n",
       "      <td>0.0</td>\n",
       "      <td>0.000000</td>\n",
       "      <td>1.000000</td>\n",
       "      <td>NaN</td>\n",
       "      <td>0.0</td>\n",
       "      <td>0.0</td>\n",
       "      <td>0.000000</td>\n",
       "    </tr>\n",
       "    <tr>\n",
       "      <th>2</th>\n",
       "      <td>25.0</td>\n",
       "      <td>2.0</td>\n",
       "      <td>1500.0</td>\n",
       "      <td>3.0</td>\n",
       "      <td>0.0</td>\n",
       "      <td>0.269820</td>\n",
       "      <td>NaN</td>\n",
       "      <td>1.0</td>\n",
       "      <td>1.0</td>\n",
       "      <td>3.0</td>\n",
       "      <td>404.730180</td>\n",
       "    </tr>\n",
       "    <tr>\n",
       "      <th>3</th>\n",
       "      <td>48.0</td>\n",
       "      <td>2.0</td>\n",
       "      <td>7163.0</td>\n",
       "      <td>12.0</td>\n",
       "      <td>0.0</td>\n",
       "      <td>0.011865</td>\n",
       "      <td>0.065854</td>\n",
       "      <td>0.0</td>\n",
       "      <td>0.0</td>\n",
       "      <td>0.0</td>\n",
       "      <td>84.988135</td>\n",
       "    </tr>\n",
       "    <tr>\n",
       "      <th>4</th>\n",
       "      <td>57.0</td>\n",
       "      <td>0.0</td>\n",
       "      <td>6214.0</td>\n",
       "      <td>6.0</td>\n",
       "      <td>1.0</td>\n",
       "      <td>0.423652</td>\n",
       "      <td>NaN</td>\n",
       "      <td>0.0</td>\n",
       "      <td>0.0</td>\n",
       "      <td>0.0</td>\n",
       "      <td>2632.576349</td>\n",
       "    </tr>\n",
       "    <tr>\n",
       "      <th>5</th>\n",
       "      <td>41.0</td>\n",
       "      <td>0.0</td>\n",
       "      <td>1438.0</td>\n",
       "      <td>5.0</td>\n",
       "      <td>0.0</td>\n",
       "      <td>0.282835</td>\n",
       "      <td>0.937578</td>\n",
       "      <td>2.0</td>\n",
       "      <td>0.0</td>\n",
       "      <td>0.0</td>\n",
       "      <td>406.717164</td>\n",
       "    </tr>\n",
       "    <tr>\n",
       "      <th>...</th>\n",
       "      <td>...</td>\n",
       "      <td>...</td>\n",
       "      <td>...</td>\n",
       "      <td>...</td>\n",
       "      <td>...</td>\n",
       "      <td>...</td>\n",
       "      <td>...</td>\n",
       "      <td>...</td>\n",
       "      <td>...</td>\n",
       "      <td>...</td>\n",
       "      <td>...</td>\n",
       "    </tr>\n",
       "    <tr>\n",
       "      <th>48104</th>\n",
       "      <td>NaN</td>\n",
       "      <td>0.0</td>\n",
       "      <td>2750.0</td>\n",
       "      <td>NaN</td>\n",
       "      <td>NaN</td>\n",
       "      <td>0.865503</td>\n",
       "      <td>0.137762</td>\n",
       "      <td>0.0</td>\n",
       "      <td>0.0</td>\n",
       "      <td>0.0</td>\n",
       "      <td>2380.134496</td>\n",
       "    </tr>\n",
       "    <tr>\n",
       "      <th>48105</th>\n",
       "      <td>40.0</td>\n",
       "      <td>3.0</td>\n",
       "      <td>4584.0</td>\n",
       "      <td>7.0</td>\n",
       "      <td>1.0</td>\n",
       "      <td>0.456489</td>\n",
       "      <td>0.438481</td>\n",
       "      <td>0.0</td>\n",
       "      <td>0.0</td>\n",
       "      <td>0.0</td>\n",
       "      <td>2092.543513</td>\n",
       "    </tr>\n",
       "    <tr>\n",
       "      <th>48106</th>\n",
       "      <td>58.0</td>\n",
       "      <td>0.0</td>\n",
       "      <td>5100.0</td>\n",
       "      <td>NaN</td>\n",
       "      <td>NaN</td>\n",
       "      <td>0.443442</td>\n",
       "      <td>0.529435</td>\n",
       "      <td>1.0</td>\n",
       "      <td>0.0</td>\n",
       "      <td>0.0</td>\n",
       "      <td>2261.556556</td>\n",
       "    </tr>\n",
       "    <tr>\n",
       "      <th>48107</th>\n",
       "      <td>70.0</td>\n",
       "      <td>0.0</td>\n",
       "      <td>4760.0</td>\n",
       "      <td>9.0</td>\n",
       "      <td>0.0</td>\n",
       "      <td>0.152069</td>\n",
       "      <td>0.078475</td>\n",
       "      <td>0.0</td>\n",
       "      <td>0.0</td>\n",
       "      <td>0.0</td>\n",
       "      <td>723.847931</td>\n",
       "    </tr>\n",
       "    <tr>\n",
       "      <th>48108</th>\n",
       "      <td>NaN</td>\n",
       "      <td>0.0</td>\n",
       "      <td>3500.0</td>\n",
       "      <td>4.0</td>\n",
       "      <td>0.0</td>\n",
       "      <td>0.011425</td>\n",
       "      <td>0.030646</td>\n",
       "      <td>0.0</td>\n",
       "      <td>0.0</td>\n",
       "      <td>0.0</td>\n",
       "      <td>39.988574</td>\n",
       "    </tr>\n",
       "  </tbody>\n",
       "</table>\n",
       "<p>48108 rows × 11 columns</p>\n",
       "</div>"
      ],
      "text/plain": [
       "        age  number_dependent_family_members  monthly_income  \\\n",
       "Id                                                             \n",
       "1      30.0                              2.0          2200.0   \n",
       "2      25.0                              2.0          1500.0   \n",
       "3      48.0                              2.0          7163.0   \n",
       "4      57.0                              0.0          6214.0   \n",
       "5      41.0                              0.0          1438.0   \n",
       "...     ...                              ...             ...   \n",
       "48104   NaN                              0.0          2750.0   \n",
       "48105  40.0                              3.0          4584.0   \n",
       "48106  58.0                              0.0          5100.0   \n",
       "48107  70.0                              0.0          4760.0   \n",
       "48108   NaN                              0.0          3500.0   \n",
       "\n",
       "       number_of_credit_lines  real_estate_loans  \\\n",
       "Id                                                 \n",
       "1                         0.0                0.0   \n",
       "2                         3.0                0.0   \n",
       "3                        12.0                0.0   \n",
       "4                         6.0                1.0   \n",
       "5                         5.0                0.0   \n",
       "...                       ...                ...   \n",
       "48104                     NaN                NaN   \n",
       "48105                     7.0                1.0   \n",
       "48106                     NaN                NaN   \n",
       "48107                     9.0                0.0   \n",
       "48108                     4.0                0.0   \n",
       "\n",
       "       ratio_debt_payment_to_income  credit_line_utilization  \\\n",
       "Id                                                             \n",
       "1                          0.000000                 1.000000   \n",
       "2                          0.269820                      NaN   \n",
       "3                          0.011865                 0.065854   \n",
       "4                          0.423652                      NaN   \n",
       "5                          0.282835                 0.937578   \n",
       "...                             ...                      ...   \n",
       "48104                      0.865503                 0.137762   \n",
       "48105                      0.456489                 0.438481   \n",
       "48106                      0.443442                 0.529435   \n",
       "48107                      0.152069                 0.078475   \n",
       "48108                      0.011425                 0.030646   \n",
       "\n",
       "       number_of_previous_late_payments_up_to_59_days  \\\n",
       "Id                                                      \n",
       "1                                                 NaN   \n",
       "2                                                 1.0   \n",
       "3                                                 0.0   \n",
       "4                                                 0.0   \n",
       "5                                                 2.0   \n",
       "...                                               ...   \n",
       "48104                                             0.0   \n",
       "48105                                             0.0   \n",
       "48106                                             1.0   \n",
       "48107                                             0.0   \n",
       "48108                                             0.0   \n",
       "\n",
       "       number_of_previous_late_payments_up_to_89_days  \\\n",
       "Id                                                      \n",
       "1                                                 0.0   \n",
       "2                                                 1.0   \n",
       "3                                                 0.0   \n",
       "4                                                 0.0   \n",
       "5                                                 0.0   \n",
       "...                                               ...   \n",
       "48104                                             0.0   \n",
       "48105                                             0.0   \n",
       "48106                                             0.0   \n",
       "48107                                             0.0   \n",
       "48108                                             0.0   \n",
       "\n",
       "       number_of_previous_late_payments_90_days_or_more  Debt Amount  \n",
       "Id                                                                    \n",
       "1                                                   0.0     0.000000  \n",
       "2                                                   3.0   404.730180  \n",
       "3                                                   0.0    84.988135  \n",
       "4                                                   0.0  2632.576349  \n",
       "5                                                   0.0   406.717164  \n",
       "...                                                 ...          ...  \n",
       "48104                                               0.0  2380.134496  \n",
       "48105                                               0.0  2092.543513  \n",
       "48106                                               0.0  2261.556556  \n",
       "48107                                               0.0   723.847931  \n",
       "48108                                               0.0    39.988574  \n",
       "\n",
       "[48108 rows x 11 columns]"
      ]
     },
     "execution_count": 47,
     "metadata": {},
     "output_type": "execute_result"
    }
   ],
   "source": [
    "test"
   ]
  },
  {
   "cell_type": "code",
   "execution_count": 48,
   "id": "fe3971e6",
   "metadata": {
    "scrolled": true
   },
   "outputs": [],
   "source": [
    "y_pred=model_cat.predict_proba(test)[:,1]\n",
    "pred=pd.DataFrame(y_pred)\n",
    "test.reset_index(inplace=True)"
   ]
  },
  {
   "cell_type": "code",
   "execution_count": 49,
   "id": "f3bbc627",
   "metadata": {},
   "outputs": [],
   "source": [
    "dataset=pd.concat([test['Id'], pred], axis=1)\n",
    "dataset.columns=['Id','Predicted']\n",
    "dataset.to_csv('CatBoostFinal_Model9.csv',index=False)"
   ]
  },
  {
   "cell_type": "markdown",
   "id": "eaacf28f",
   "metadata": {},
   "source": [
    "### Conclusions"
   ]
  },
  {
   "cell_type": "markdown",
   "id": "7fcaa2c9",
   "metadata": {},
   "source": [
    "First, I have tried several methods for Outlier Detection, none of them increased my accuracy as replacing outlier values with 'NaN' based on z-score method. Other than that, I introduced new column called Debt Payment, after thinking a bit, I realized given 'monthly_income' and 'Ratio_debt_payment_to_income' columns, we can calculate the total debt payment. Overall, introducing new column, increased my score."
   ]
  },
  {
   "cell_type": "markdown",
   "id": "ab666ae7",
   "metadata": {},
   "source": [
    "I did run my model several algorithms:\n",
    "\n",
    "- XGBClassifier()\n",
    "- RandomForestClassifier()\n",
    "- GradientBoostingClassifier()\n",
    "- VotingClassifier()\n",
    "- CatBoostClassifier()"
   ]
  },
  {
   "cell_type": "markdown",
   "id": "b447ff8e",
   "metadata": {},
   "source": [
    "<i>I commented out the gridsearch parts as they are taking a lot computer power and time to run. I just added the best paramters to the models inside pipeline."
   ]
  },
  {
   "cell_type": "markdown",
   "id": "6d34b479",
   "metadata": {},
   "source": [
    "Inside, of the Pipeline, I used Simple Imputation with 'median' strategy and StandardScaler()"
   ]
  },
  {
   "cell_type": "markdown",
   "id": "3c8638f2",
   "metadata": {},
   "source": [
    "I used ROC AUC curve as the evaluation metric along with Classification Report which includes F1 ,Precision, Recall scores."
   ]
  },
  {
   "cell_type": "markdown",
   "id": "cec48537",
   "metadata": {},
   "source": [
    "<font size='4' >Best, result was gained on <font color='red'>CatBoostClassifier() </font>algorithm, after doing hyperparameter tuning with gridsearch. "
   ]
  }
 ],
 "metadata": {
  "kernelspec": {
   "display_name": "Python 3 (ipykernel)",
   "language": "python",
   "name": "python3"
  },
  "language_info": {
   "codemirror_mode": {
    "name": "ipython",
    "version": 3
   },
   "file_extension": ".py",
   "mimetype": "text/x-python",
   "name": "python",
   "nbconvert_exporter": "python",
   "pygments_lexer": "ipython3",
   "version": "3.9.7"
  }
 },
 "nbformat": 4,
 "nbformat_minor": 5
}
