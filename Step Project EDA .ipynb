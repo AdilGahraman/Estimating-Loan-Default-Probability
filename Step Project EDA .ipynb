{
 "cells": [
  {
   "cell_type": "markdown",
   "id": "b71f81dd",
   "metadata": {},
   "source": [
    " <font color='purple'><h1><center>Explatory Data Analysis for [Step Project](https://www.kaggle.com/c/iba-ml2-mid-project)</center></h1>"
   ]
  },
  {
   "cell_type": "code",
   "execution_count": 1,
   "id": "484aa86a",
   "metadata": {},
   "outputs": [],
   "source": [
    "#importing main libraries;\n",
    "\n",
    "import pandas as pd\n",
    "import numpy as np\n",
    "import seaborn as sns\n",
    "import matplotlib.pyplot as plt\n",
    "\n",
    "#importing preprocessing features;\n",
    "from sklearn.model_selection import train_test_split\n",
    "from sklearn.model_selection import StratifiedShuffleSplit\n",
    "from sklearn.model_selection import GridSearchCV\n",
    "from sklearn.model_selection import StratifiedKFold\n",
    "from sklearn.preprocessing import PolynomialFeatures\n",
    "\n",
    "#scaler\n",
    "from sklearn.preprocessing import StandardScaler\n",
    "from sklearn.preprocessing import MinMaxScaler\n",
    "from sklearn.preprocessing import RobustScaler\n",
    "from sklearn.preprocessing import MaxAbsScaler\n",
    "from sklearn.preprocessing import Normalizer\n",
    "from sklearn.preprocessing import QuantileTransformer\n",
    "\n",
    "#encoder\n",
    "from sklearn.preprocessing import OneHotEncoder\n",
    "from sklearn.preprocessing import LabelEncoder\n",
    "\n",
    "#imputer\n",
    "from sklearn.impute import SimpleImputer\n",
    "from sklearn.compose import ColumnTransformer\n",
    "\n",
    "#importing algortihms\n",
    "from sklearn.linear_model import LogisticRegression\n",
    "from sklearn.linear_model import LogisticRegressionCV\n",
    "from sklearn.naive_bayes import GaussianNB\n",
    "from sklearn.tree import DecisionTreeClassifier\n",
    "from sklearn.neighbors import KNeighborsClassifier\n",
    "from sklearn.ensemble import AdaBoostClassifier\n",
    "from sklearn.svm import SVC\n",
    "from xgboost import XGBClassifier\n",
    "from sklearn.ensemble import GradientBoostingClassifier\n",
    "from sklearn.ensemble import RandomForestClassifier\n",
    "\n",
    "\n",
    "\n",
    "\n",
    "#pipeline\n",
    "from sklearn.pipeline import Pipeline\n",
    "from IPython.core.display import HTML\n",
    "from sklearn.utils import estimator_html_repr\n",
    "\n",
    "#outlier detection\n",
    "from sklearn.ensemble import IsolationForest\n",
    "from sklearn.covariance import EllipticEnvelope\n",
    "from sklearn.neighbors import LocalOutlierFactor\n",
    "\n",
    "#metrics\n",
    "from sklearn.metrics import classification_report, confusion_matrix, accuracy_score\n",
    "from sklearn.metrics import roc_curve, roc_auc_score\n",
    "\n",
    "%matplotlib inline"
   ]
  },
  {
   "cell_type": "markdown",
   "id": "e3276d61",
   "metadata": {},
   "source": [
    "<i>Importing  the Train and Test datasets."
   ]
  },
  {
   "cell_type": "code",
   "execution_count": 2,
   "id": "720fe953",
   "metadata": {},
   "outputs": [],
   "source": [
    "df = pd.read_csv('train.csv', index_col='Id') #We don't really need the ID column to be found in the train dataset, \n",
    "                                              #therefore I setting it as index"
   ]
  },
  {
   "cell_type": "code",
   "execution_count": 3,
   "id": "de93c187",
   "metadata": {},
   "outputs": [],
   "source": [
    "df_test = pd.read_csv('test.csv', index_col='Id') #For reporting purposes, I am keeping ID column."
   ]
  },
  {
   "cell_type": "markdown",
   "id": "a4908c39",
   "metadata": {},
   "source": [
    "## Train dataset"
   ]
  },
  {
   "cell_type": "markdown",
   "id": "5dcc96e8",
   "metadata": {},
   "source": [
    "<i>Basic look on dataset"
   ]
  },
  {
   "cell_type": "code",
   "execution_count": 4,
   "id": "261b8a27",
   "metadata": {},
   "outputs": [
    {
     "data": {
      "text/html": [
       "<div>\n",
       "<style scoped>\n",
       "    .dataframe tbody tr th:only-of-type {\n",
       "        vertical-align: middle;\n",
       "    }\n",
       "\n",
       "    .dataframe tbody tr th {\n",
       "        vertical-align: top;\n",
       "    }\n",
       "\n",
       "    .dataframe thead th {\n",
       "        text-align: right;\n",
       "    }\n",
       "</style>\n",
       "<table border=\"1\" class=\"dataframe\">\n",
       "  <thead>\n",
       "    <tr style=\"text-align: right;\">\n",
       "      <th></th>\n",
       "      <th>age</th>\n",
       "      <th>number_dependent_family_members</th>\n",
       "      <th>monthly_income</th>\n",
       "      <th>number_of_credit_lines</th>\n",
       "      <th>real_estate_loans</th>\n",
       "      <th>ratio_debt_payment_to_income</th>\n",
       "      <th>credit_line_utilization</th>\n",
       "      <th>number_of_previous_late_payments_up_to_59_days</th>\n",
       "      <th>number_of_previous_late_payments_up_to_89_days</th>\n",
       "      <th>number_of_previous_late_payments_90_days_or_more</th>\n",
       "      <th>defaulted_on_loan</th>\n",
       "    </tr>\n",
       "    <tr>\n",
       "      <th>Id</th>\n",
       "      <th></th>\n",
       "      <th></th>\n",
       "      <th></th>\n",
       "      <th></th>\n",
       "      <th></th>\n",
       "      <th></th>\n",
       "      <th></th>\n",
       "      <th></th>\n",
       "      <th></th>\n",
       "      <th></th>\n",
       "      <th></th>\n",
       "    </tr>\n",
       "  </thead>\n",
       "  <tbody>\n",
       "    <tr>\n",
       "      <th>1</th>\n",
       "      <td>66.0</td>\n",
       "      <td>NaN</td>\n",
       "      <td>4000.0</td>\n",
       "      <td>NaN</td>\n",
       "      <td>1.0</td>\n",
       "      <td>0.569108</td>\n",
       "      <td>0.05488766900000001</td>\n",
       "      <td>0.0</td>\n",
       "      <td>0.0</td>\n",
       "      <td>0.0</td>\n",
       "      <td>0</td>\n",
       "    </tr>\n",
       "    <tr>\n",
       "      <th>2</th>\n",
       "      <td>61.0</td>\n",
       "      <td>2.0</td>\n",
       "      <td>4000.0</td>\n",
       "      <td>6.0</td>\n",
       "      <td>1.0</td>\n",
       "      <td>0.297176</td>\n",
       "      <td>0.10194991099999999</td>\n",
       "      <td>0.0</td>\n",
       "      <td>0.0</td>\n",
       "      <td>0.0</td>\n",
       "      <td>0</td>\n",
       "    </tr>\n",
       "    <tr>\n",
       "      <th>3</th>\n",
       "      <td>31.0</td>\n",
       "      <td>2.0</td>\n",
       "      <td>3040.0</td>\n",
       "      <td>8.0</td>\n",
       "      <td>0.0</td>\n",
       "      <td>0.160145</td>\n",
       "      <td>1.22713507</td>\n",
       "      <td>4.0</td>\n",
       "      <td>0.0</td>\n",
       "      <td>0.0</td>\n",
       "      <td>1</td>\n",
       "    </tr>\n",
       "    <tr>\n",
       "      <th>4</th>\n",
       "      <td>54.0</td>\n",
       "      <td>4.0</td>\n",
       "      <td>10218.0</td>\n",
       "      <td>5.0</td>\n",
       "      <td>0.0</td>\n",
       "      <td>0.067913</td>\n",
       "      <td>0.08327777900000001</td>\n",
       "      <td>0.0</td>\n",
       "      <td>0.0</td>\n",
       "      <td>0.0</td>\n",
       "      <td>0</td>\n",
       "    </tr>\n",
       "    <tr>\n",
       "      <th>5</th>\n",
       "      <td>29.0</td>\n",
       "      <td>0.0</td>\n",
       "      <td>4468.0</td>\n",
       "      <td>6.0</td>\n",
       "      <td>0.0</td>\n",
       "      <td>0.328261</td>\n",
       "      <td>0.317445504</td>\n",
       "      <td>0.0</td>\n",
       "      <td>0.0</td>\n",
       "      <td>0.0</td>\n",
       "      <td>0</td>\n",
       "    </tr>\n",
       "    <tr>\n",
       "      <th>6</th>\n",
       "      <td>39.0</td>\n",
       "      <td>2.0</td>\n",
       "      <td>4166.0</td>\n",
       "      <td>17.0</td>\n",
       "      <td>1.0</td>\n",
       "      <td>NaN</td>\n",
       "      <td>NaN</td>\n",
       "      <td>1.0</td>\n",
       "      <td>0.0</td>\n",
       "      <td>0.0</td>\n",
       "      <td>0</td>\n",
       "    </tr>\n",
       "    <tr>\n",
       "      <th>7</th>\n",
       "      <td>30.0</td>\n",
       "      <td>2.0</td>\n",
       "      <td>4585.0</td>\n",
       "      <td>1.0</td>\n",
       "      <td>0.0</td>\n",
       "      <td>0.087004</td>\n",
       "      <td>0.9999998999999999</td>\n",
       "      <td>1.0</td>\n",
       "      <td>NaN</td>\n",
       "      <td>4.0</td>\n",
       "      <td>0</td>\n",
       "    </tr>\n",
       "  </tbody>\n",
       "</table>\n",
       "</div>"
      ],
      "text/plain": [
       "     age  number_dependent_family_members  monthly_income  \\\n",
       "Id                                                          \n",
       "1   66.0                              NaN          4000.0   \n",
       "2   61.0                              2.0          4000.0   \n",
       "3   31.0                              2.0          3040.0   \n",
       "4   54.0                              4.0         10218.0   \n",
       "5   29.0                              0.0          4468.0   \n",
       "6   39.0                              2.0          4166.0   \n",
       "7   30.0                              2.0          4585.0   \n",
       "\n",
       "    number_of_credit_lines  real_estate_loans  ratio_debt_payment_to_income  \\\n",
       "Id                                                                            \n",
       "1                      NaN                1.0                      0.569108   \n",
       "2                      6.0                1.0                      0.297176   \n",
       "3                      8.0                0.0                      0.160145   \n",
       "4                      5.0                0.0                      0.067913   \n",
       "5                      6.0                0.0                      0.328261   \n",
       "6                     17.0                1.0                           NaN   \n",
       "7                      1.0                0.0                      0.087004   \n",
       "\n",
       "   credit_line_utilization  number_of_previous_late_payments_up_to_59_days  \\\n",
       "Id                                                                           \n",
       "1      0.05488766900000001                                             0.0   \n",
       "2      0.10194991099999999                                             0.0   \n",
       "3               1.22713507                                             4.0   \n",
       "4      0.08327777900000001                                             0.0   \n",
       "5              0.317445504                                             0.0   \n",
       "6                      NaN                                             1.0   \n",
       "7       0.9999998999999999                                             1.0   \n",
       "\n",
       "    number_of_previous_late_payments_up_to_89_days  \\\n",
       "Id                                                   \n",
       "1                                              0.0   \n",
       "2                                              0.0   \n",
       "3                                              0.0   \n",
       "4                                              0.0   \n",
       "5                                              0.0   \n",
       "6                                              0.0   \n",
       "7                                              NaN   \n",
       "\n",
       "    number_of_previous_late_payments_90_days_or_more  defaulted_on_loan  \n",
       "Id                                                                       \n",
       "1                                                0.0                  0  \n",
       "2                                                0.0                  0  \n",
       "3                                                0.0                  1  \n",
       "4                                                0.0                  0  \n",
       "5                                                0.0                  0  \n",
       "6                                                0.0                  0  \n",
       "7                                                4.0                  0  "
      ]
     },
     "execution_count": 4,
     "metadata": {},
     "output_type": "execute_result"
    }
   ],
   "source": [
    "df.head(7) #can obviously see the many \"Not a Number\" values in the dataset."
   ]
  },
  {
   "cell_type": "code",
   "execution_count": 5,
   "id": "07c10311",
   "metadata": {
    "scrolled": false
   },
   "outputs": [
    {
     "data": {
      "text/html": [
       "<div>\n",
       "<style scoped>\n",
       "    .dataframe tbody tr th:only-of-type {\n",
       "        vertical-align: middle;\n",
       "    }\n",
       "\n",
       "    .dataframe tbody tr th {\n",
       "        vertical-align: top;\n",
       "    }\n",
       "\n",
       "    .dataframe thead th {\n",
       "        text-align: right;\n",
       "    }\n",
       "</style>\n",
       "<table border=\"1\" class=\"dataframe\">\n",
       "  <thead>\n",
       "    <tr style=\"text-align: right;\">\n",
       "      <th></th>\n",
       "      <th>age</th>\n",
       "      <th>number_dependent_family_members</th>\n",
       "      <th>monthly_income</th>\n",
       "      <th>number_of_credit_lines</th>\n",
       "      <th>real_estate_loans</th>\n",
       "      <th>ratio_debt_payment_to_income</th>\n",
       "      <th>credit_line_utilization</th>\n",
       "      <th>number_of_previous_late_payments_up_to_59_days</th>\n",
       "      <th>number_of_previous_late_payments_up_to_89_days</th>\n",
       "      <th>number_of_previous_late_payments_90_days_or_more</th>\n",
       "      <th>defaulted_on_loan</th>\n",
       "    </tr>\n",
       "    <tr>\n",
       "      <th>Id</th>\n",
       "      <th></th>\n",
       "      <th></th>\n",
       "      <th></th>\n",
       "      <th></th>\n",
       "      <th></th>\n",
       "      <th></th>\n",
       "      <th></th>\n",
       "      <th></th>\n",
       "      <th></th>\n",
       "      <th></th>\n",
       "      <th></th>\n",
       "    </tr>\n",
       "  </thead>\n",
       "  <tbody>\n",
       "    <tr>\n",
       "      <th>72155</th>\n",
       "      <td>45.0</td>\n",
       "      <td>0.0</td>\n",
       "      <td>9483.0</td>\n",
       "      <td>7.0</td>\n",
       "      <td>1.0</td>\n",
       "      <td>0.244306</td>\n",
       "      <td>0.037742528</td>\n",
       "      <td>0.0</td>\n",
       "      <td>0.0</td>\n",
       "      <td>0.0</td>\n",
       "      <td>0</td>\n",
       "    </tr>\n",
       "    <tr>\n",
       "      <th>72156</th>\n",
       "      <td>45.0</td>\n",
       "      <td>0.0</td>\n",
       "      <td>3773.0</td>\n",
       "      <td>7.0</td>\n",
       "      <td>1.0</td>\n",
       "      <td>NaN</td>\n",
       "      <td>0.074780108</td>\n",
       "      <td>0.0</td>\n",
       "      <td>0.0</td>\n",
       "      <td>NaN</td>\n",
       "      <td>0</td>\n",
       "    </tr>\n",
       "    <tr>\n",
       "      <th>72157</th>\n",
       "      <td>70.0</td>\n",
       "      <td>0.0</td>\n",
       "      <td>9584.0</td>\n",
       "      <td>13.0</td>\n",
       "      <td>3.0</td>\n",
       "      <td>0.429943</td>\n",
       "      <td>0.145213501</td>\n",
       "      <td>1.0</td>\n",
       "      <td>0.0</td>\n",
       "      <td>0.0</td>\n",
       "      <td>0</td>\n",
       "    </tr>\n",
       "    <tr>\n",
       "      <th>72158</th>\n",
       "      <td>51.0</td>\n",
       "      <td>NaN</td>\n",
       "      <td>6374.0</td>\n",
       "      <td>15.0</td>\n",
       "      <td>2.0</td>\n",
       "      <td>0.667608</td>\n",
       "      <td>0.445703733</td>\n",
       "      <td>0.0</td>\n",
       "      <td>0.0</td>\n",
       "      <td>0.0</td>\n",
       "      <td>0</td>\n",
       "    </tr>\n",
       "    <tr>\n",
       "      <th>72159</th>\n",
       "      <td>58.0</td>\n",
       "      <td>0.0</td>\n",
       "      <td>4333.0</td>\n",
       "      <td>NaN</td>\n",
       "      <td>1.0</td>\n",
       "      <td>0.413475</td>\n",
       "      <td>0.048434473</td>\n",
       "      <td>0.0</td>\n",
       "      <td>0.0</td>\n",
       "      <td>0.0</td>\n",
       "      <td>0</td>\n",
       "    </tr>\n",
       "    <tr>\n",
       "      <th>72160</th>\n",
       "      <td>58.0</td>\n",
       "      <td>2.0</td>\n",
       "      <td>6466.0</td>\n",
       "      <td>14.0</td>\n",
       "      <td>2.0</td>\n",
       "      <td>0.420288</td>\n",
       "      <td>0.447265776</td>\n",
       "      <td>0.0</td>\n",
       "      <td>0.0</td>\n",
       "      <td>0.0</td>\n",
       "      <td>0</td>\n",
       "    </tr>\n",
       "    <tr>\n",
       "      <th>72161</th>\n",
       "      <td>50.0</td>\n",
       "      <td>0.0</td>\n",
       "      <td>7500.0</td>\n",
       "      <td>10.0</td>\n",
       "      <td>1.0</td>\n",
       "      <td>0.304626</td>\n",
       "      <td>0.8737087640000001</td>\n",
       "      <td>2.0</td>\n",
       "      <td>3.0</td>\n",
       "      <td>0.0</td>\n",
       "      <td>0</td>\n",
       "    </tr>\n",
       "  </tbody>\n",
       "</table>\n",
       "</div>"
      ],
      "text/plain": [
       "        age  number_dependent_family_members  monthly_income  \\\n",
       "Id                                                             \n",
       "72155  45.0                              0.0          9483.0   \n",
       "72156  45.0                              0.0          3773.0   \n",
       "72157  70.0                              0.0          9584.0   \n",
       "72158  51.0                              NaN          6374.0   \n",
       "72159  58.0                              0.0          4333.0   \n",
       "72160  58.0                              2.0          6466.0   \n",
       "72161  50.0                              0.0          7500.0   \n",
       "\n",
       "       number_of_credit_lines  real_estate_loans  \\\n",
       "Id                                                 \n",
       "72155                     7.0                1.0   \n",
       "72156                     7.0                1.0   \n",
       "72157                    13.0                3.0   \n",
       "72158                    15.0                2.0   \n",
       "72159                     NaN                1.0   \n",
       "72160                    14.0                2.0   \n",
       "72161                    10.0                1.0   \n",
       "\n",
       "       ratio_debt_payment_to_income credit_line_utilization  \\\n",
       "Id                                                            \n",
       "72155                      0.244306             0.037742528   \n",
       "72156                           NaN             0.074780108   \n",
       "72157                      0.429943             0.145213501   \n",
       "72158                      0.667608             0.445703733   \n",
       "72159                      0.413475             0.048434473   \n",
       "72160                      0.420288             0.447265776   \n",
       "72161                      0.304626      0.8737087640000001   \n",
       "\n",
       "       number_of_previous_late_payments_up_to_59_days  \\\n",
       "Id                                                      \n",
       "72155                                             0.0   \n",
       "72156                                             0.0   \n",
       "72157                                             1.0   \n",
       "72158                                             0.0   \n",
       "72159                                             0.0   \n",
       "72160                                             0.0   \n",
       "72161                                             2.0   \n",
       "\n",
       "       number_of_previous_late_payments_up_to_89_days  \\\n",
       "Id                                                      \n",
       "72155                                             0.0   \n",
       "72156                                             0.0   \n",
       "72157                                             0.0   \n",
       "72158                                             0.0   \n",
       "72159                                             0.0   \n",
       "72160                                             0.0   \n",
       "72161                                             3.0   \n",
       "\n",
       "       number_of_previous_late_payments_90_days_or_more  defaulted_on_loan  \n",
       "Id                                                                          \n",
       "72155                                               0.0                  0  \n",
       "72156                                               NaN                  0  \n",
       "72157                                               0.0                  0  \n",
       "72158                                               0.0                  0  \n",
       "72159                                               0.0                  0  \n",
       "72160                                               0.0                  0  \n",
       "72161                                               0.0                  0  "
      ]
     },
     "execution_count": 5,
     "metadata": {},
     "output_type": "execute_result"
    }
   ],
   "source": [
    "df.tail(7) #can obviously see the many \"Not a Number\" values here as well."
   ]
  },
  {
   "cell_type": "code",
   "execution_count": 6,
   "id": "b172b8c7",
   "metadata": {},
   "outputs": [
    {
     "data": {
      "text/plain": [
       "(72161, 11)"
      ]
     },
     "execution_count": 6,
     "metadata": {},
     "output_type": "execute_result"
    }
   ],
   "source": [
    "df.shape"
   ]
  },
  {
   "cell_type": "code",
   "execution_count": 7,
   "id": "cbcb7797",
   "metadata": {},
   "outputs": [
    {
     "name": "stdout",
     "output_type": "stream",
     "text": [
      "The shape of the train dataset is: (72161, 11).\n"
     ]
    }
   ],
   "source": [
    "print(f'The shape of the train dataset is: {df.shape}.')"
   ]
  },
  {
   "cell_type": "markdown",
   "id": "c1f64787",
   "metadata": {},
   "source": [
    "<b><i> There are <font color='red'>11</font> columns and <font color='red'>72,161</font> rows in our train dataset."
   ]
  },
  {
   "cell_type": "code",
   "execution_count": 8,
   "id": "1abb6d3b",
   "metadata": {},
   "outputs": [
    {
     "data": {
      "text/plain": [
       "['age',\n",
       " 'number_dependent_family_members',\n",
       " 'monthly_income',\n",
       " 'number_of_credit_lines',\n",
       " 'real_estate_loans',\n",
       " 'ratio_debt_payment_to_income',\n",
       " 'credit_line_utilization',\n",
       " 'number_of_previous_late_payments_up_to_59_days',\n",
       " 'number_of_previous_late_payments_up_to_89_days',\n",
       " 'number_of_previous_late_payments_90_days_or_more',\n",
       " 'defaulted_on_loan']"
      ]
     },
     "execution_count": 8,
     "metadata": {},
     "output_type": "execute_result"
    }
   ],
   "source": [
    "df.columns.to_list()    # We can see the list of names of columns."
   ]
  },
  {
   "cell_type": "code",
   "execution_count": 9,
   "id": "24780b90",
   "metadata": {
    "scrolled": true
   },
   "outputs": [
    {
     "name": "stdout",
     "output_type": "stream",
     "text": [
      "<class 'pandas.core.frame.DataFrame'>\n",
      "Int64Index: 72161 entries, 1 to 72161\n",
      "Data columns (total 11 columns):\n",
      " #   Column                                            Non-Null Count  Dtype  \n",
      "---  ------                                            --------------  -----  \n",
      " 0   age                                               65017 non-null  float64\n",
      " 1   number_dependent_family_members                   67945 non-null  float64\n",
      " 2   monthly_income                                    66145 non-null  float64\n",
      " 3   number_of_credit_lines                            66007 non-null  float64\n",
      " 4   real_estate_loans                                 68355 non-null  float64\n",
      " 5   ratio_debt_payment_to_income                      66553 non-null  float64\n",
      " 6   credit_line_utilization                           65815 non-null  object \n",
      " 7   number_of_previous_late_payments_up_to_59_days    67966 non-null  float64\n",
      " 8   number_of_previous_late_payments_up_to_89_days    66316 non-null  float64\n",
      " 9   number_of_previous_late_payments_90_days_or_more  68540 non-null  float64\n",
      " 10  defaulted_on_loan                                 72161 non-null  int64  \n",
      "dtypes: float64(9), int64(1), object(1)\n",
      "memory usage: 6.6+ MB\n"
     ]
    }
   ],
   "source": [
    "df.info() "
   ]
  },
  {
   "cell_type": "markdown",
   "id": "03b3e004",
   "metadata": {},
   "source": [
    "<b> Except our <font color='red'>target</font> column (defaulted_on_loan), we have one column (credit_line_utilization) with  <font color='red'>object</font> DataType."
   ]
  },
  {
   "cell_type": "markdown",
   "id": "d58142aa",
   "metadata": {},
   "source": [
    "<i>Later, we will change(astype) type of <font color='red'>credit_line_utilization</font> column to float."
   ]
  },
  {
   "cell_type": "code",
   "execution_count": 10,
   "id": "44a8cf95",
   "metadata": {},
   "outputs": [
    {
     "data": {
      "text/plain": [
       "age                                                 7144\n",
       "number_dependent_family_members                     4216\n",
       "monthly_income                                      6016\n",
       "number_of_credit_lines                              6154\n",
       "real_estate_loans                                   3806\n",
       "ratio_debt_payment_to_income                        5608\n",
       "credit_line_utilization                             6346\n",
       "number_of_previous_late_payments_up_to_59_days      4195\n",
       "number_of_previous_late_payments_up_to_89_days      5845\n",
       "number_of_previous_late_payments_90_days_or_more    3621\n",
       "defaulted_on_loan                                      0\n",
       "dtype: int64"
      ]
     },
     "execution_count": 10,
     "metadata": {},
     "output_type": "execute_result"
    }
   ],
   "source": [
    "df.isna().sum()  "
   ]
  },
  {
   "cell_type": "markdown",
   "id": "052b9b1b",
   "metadata": {},
   "source": [
    "<i> We can see quite a lot missing values existing in each of the columns."
   ]
  },
  {
   "cell_type": "code",
   "execution_count": 11,
   "id": "4089be1b",
   "metadata": {},
   "outputs": [
    {
     "data": {
      "text/plain": [
       "52951"
      ]
     },
     "execution_count": 11,
     "metadata": {},
     "output_type": "execute_result"
    }
   ],
   "source": [
    "df.isna().sum().sum()"
   ]
  },
  {
   "cell_type": "code",
   "execution_count": 12,
   "id": "b5cbd30f",
   "metadata": {},
   "outputs": [
    {
     "name": "stdout",
     "output_type": "stream",
     "text": [
      "Total number of missing values is 52951.\n"
     ]
    }
   ],
   "source": [
    "print(f'Total number of missing values is {df.isna().sum().sum()}.')"
   ]
  },
  {
   "cell_type": "markdown",
   "id": "0dbe9b7b",
   "metadata": {},
   "source": [
    "<i>We have missing values in all of the columns except target column."
   ]
  },
  {
   "cell_type": "markdown",
   "id": "adb83683",
   "metadata": {},
   "source": [
    "<i>As we have missing values for all of the columns, we have to thoroughly analyze each column in order to choose best <font color='red'>imputation strategy."
   ]
  },
  {
   "cell_type": "code",
   "execution_count": 13,
   "id": "0ac88125",
   "metadata": {},
   "outputs": [
    {
     "data": {
      "text/plain": [
       "<AxesSubplot:ylabel='Id'>"
      ]
     },
     "execution_count": 13,
     "metadata": {},
     "output_type": "execute_result"
    },
    {
     "data": {
      "image/png": "[encoded data removed]",
      "text/plain": [
       "<Figure size 864x576 with 1 Axes>"
      ]
     },
     "metadata": {},
     "output_type": "display_data"
    }
   ],
   "source": [
    "sns.set(rc={'figure.figsize':(12,8)})\n",
    "sns.heatmap(df.isnull(), yticklabels=False, cbar=False, cmap= 'cividis')  #We can see the visualized versin of missing values."
   ]
  },
  {
   "cell_type": "code",
   "execution_count": 14,
   "id": "9f26d488",
   "metadata": {},
   "outputs": [
    {
     "data": {
      "text/plain": [
       "age                                                 65017\n",
       "number_dependent_family_members                     67945\n",
       "monthly_income                                      66145\n",
       "number_of_credit_lines                              66007\n",
       "real_estate_loans                                   68355\n",
       "ratio_debt_payment_to_income                        66553\n",
       "credit_line_utilization                             65815\n",
       "number_of_previous_late_payments_up_to_59_days      67966\n",
       "number_of_previous_late_payments_up_to_89_days      66316\n",
       "number_of_previous_late_payments_90_days_or_more    68540\n",
       "defaulted_on_loan                                   72161\n",
       "dtype: int64"
      ]
     },
     "execution_count": 14,
     "metadata": {},
     "output_type": "execute_result"
    }
   ],
   "source": [
    "df.count() #numer of non-missing values"
   ]
  },
  {
   "cell_type": "code",
   "execution_count": 15,
   "id": "31c48a01",
   "metadata": {
    "scrolled": true
   },
   "outputs": [
    {
     "data": {
      "text/html": [
       "<div>\n",
       "<style scoped>\n",
       "    .dataframe tbody tr th:only-of-type {\n",
       "        vertical-align: middle;\n",
       "    }\n",
       "\n",
       "    .dataframe tbody tr th {\n",
       "        vertical-align: top;\n",
       "    }\n",
       "\n",
       "    .dataframe thead th {\n",
       "        text-align: right;\n",
       "    }\n",
       "</style>\n",
       "<table border=\"1\" class=\"dataframe\">\n",
       "  <thead>\n",
       "    <tr style=\"text-align: right;\">\n",
       "      <th></th>\n",
       "      <th>age</th>\n",
       "      <th>number_dependent_family_members</th>\n",
       "      <th>monthly_income</th>\n",
       "      <th>number_of_credit_lines</th>\n",
       "      <th>real_estate_loans</th>\n",
       "      <th>ratio_debt_payment_to_income</th>\n",
       "      <th>number_of_previous_late_payments_up_to_59_days</th>\n",
       "      <th>number_of_previous_late_payments_up_to_89_days</th>\n",
       "      <th>number_of_previous_late_payments_90_days_or_more</th>\n",
       "      <th>defaulted_on_loan</th>\n",
       "    </tr>\n",
       "  </thead>\n",
       "  <tbody>\n",
       "    <tr>\n",
       "      <th>count</th>\n",
       "      <td>65017.000000</td>\n",
       "      <td>67945.000000</td>\n",
       "      <td>6.614500e+04</td>\n",
       "      <td>66007.000000</td>\n",
       "      <td>68355.000000</td>\n",
       "      <td>66553.000000</td>\n",
       "      <td>67966.000000</td>\n",
       "      <td>66316.000000</td>\n",
       "      <td>68540.000000</td>\n",
       "      <td>72161.000000</td>\n",
       "    </tr>\n",
       "    <tr>\n",
       "      <th>mean</th>\n",
       "      <td>51.388914</td>\n",
       "      <td>0.847009</td>\n",
       "      <td>6.624388e+03</td>\n",
       "      <td>8.756193</td>\n",
       "      <td>1.050296</td>\n",
       "      <td>26.524005</td>\n",
       "      <td>0.393491</td>\n",
       "      <td>0.206074</td>\n",
       "      <td>0.224059</td>\n",
       "      <td>0.069470</td>\n",
       "    </tr>\n",
       "    <tr>\n",
       "      <th>std</th>\n",
       "      <td>14.414338</td>\n",
       "      <td>1.144038</td>\n",
       "      <td>1.084630e+04</td>\n",
       "      <td>5.198769</td>\n",
       "      <td>1.114420</td>\n",
       "      <td>399.253008</td>\n",
       "      <td>3.680686</td>\n",
       "      <td>3.696260</td>\n",
       "      <td>3.634436</td>\n",
       "      <td>0.254253</td>\n",
       "    </tr>\n",
       "    <tr>\n",
       "      <th>min</th>\n",
       "      <td>21.000000</td>\n",
       "      <td>0.000000</td>\n",
       "      <td>0.000000e+00</td>\n",
       "      <td>0.000000</td>\n",
       "      <td>0.000000</td>\n",
       "      <td>0.000000</td>\n",
       "      <td>0.000000</td>\n",
       "      <td>0.000000</td>\n",
       "      <td>0.000000</td>\n",
       "      <td>0.000000</td>\n",
       "    </tr>\n",
       "    <tr>\n",
       "      <th>25%</th>\n",
       "      <td>41.000000</td>\n",
       "      <td>0.000000</td>\n",
       "      <td>3.400000e+03</td>\n",
       "      <td>5.000000</td>\n",
       "      <td>0.000000</td>\n",
       "      <td>0.141302</td>\n",
       "      <td>0.000000</td>\n",
       "      <td>0.000000</td>\n",
       "      <td>0.000000</td>\n",
       "      <td>0.000000</td>\n",
       "    </tr>\n",
       "    <tr>\n",
       "      <th>50%</th>\n",
       "      <td>51.000000</td>\n",
       "      <td>0.000000</td>\n",
       "      <td>5.400000e+03</td>\n",
       "      <td>8.000000</td>\n",
       "      <td>1.000000</td>\n",
       "      <td>0.294673</td>\n",
       "      <td>0.000000</td>\n",
       "      <td>0.000000</td>\n",
       "      <td>0.000000</td>\n",
       "      <td>0.000000</td>\n",
       "    </tr>\n",
       "    <tr>\n",
       "      <th>75%</th>\n",
       "      <td>62.000000</td>\n",
       "      <td>2.000000</td>\n",
       "      <td>8.232000e+03</td>\n",
       "      <td>11.000000</td>\n",
       "      <td>2.000000</td>\n",
       "      <td>0.480989</td>\n",
       "      <td>0.000000</td>\n",
       "      <td>0.000000</td>\n",
       "      <td>0.000000</td>\n",
       "      <td>0.000000</td>\n",
       "    </tr>\n",
       "    <tr>\n",
       "      <th>max</th>\n",
       "      <td>103.000000</td>\n",
       "      <td>13.000000</td>\n",
       "      <td>1.560100e+06</td>\n",
       "      <td>57.000000</td>\n",
       "      <td>25.000000</td>\n",
       "      <td>61106.500000</td>\n",
       "      <td>98.000000</td>\n",
       "      <td>98.000000</td>\n",
       "      <td>98.000000</td>\n",
       "      <td>1.000000</td>\n",
       "    </tr>\n",
       "  </tbody>\n",
       "</table>\n",
       "</div>"
      ],
      "text/plain": [
       "                age  number_dependent_family_members  monthly_income  \\\n",
       "count  65017.000000                     67945.000000    6.614500e+04   \n",
       "mean      51.388914                         0.847009    6.624388e+03   \n",
       "std       14.414338                         1.144038    1.084630e+04   \n",
       "min       21.000000                         0.000000    0.000000e+00   \n",
       "25%       41.000000                         0.000000    3.400000e+03   \n",
       "50%       51.000000                         0.000000    5.400000e+03   \n",
       "75%       62.000000                         2.000000    8.232000e+03   \n",
       "max      103.000000                        13.000000    1.560100e+06   \n",
       "\n",
       "       number_of_credit_lines  real_estate_loans  \\\n",
       "count            66007.000000       68355.000000   \n",
       "mean                 8.756193           1.050296   \n",
       "std                  5.198769           1.114420   \n",
       "min                  0.000000           0.000000   \n",
       "25%                  5.000000           0.000000   \n",
       "50%                  8.000000           1.000000   \n",
       "75%                 11.000000           2.000000   \n",
       "max                 57.000000          25.000000   \n",
       "\n",
       "       ratio_debt_payment_to_income  \\\n",
       "count                  66553.000000   \n",
       "mean                      26.524005   \n",
       "std                      399.253008   \n",
       "min                        0.000000   \n",
       "25%                        0.141302   \n",
       "50%                        0.294673   \n",
       "75%                        0.480989   \n",
       "max                    61106.500000   \n",
       "\n",
       "       number_of_previous_late_payments_up_to_59_days  \\\n",
       "count                                    67966.000000   \n",
       "mean                                         0.393491   \n",
       "std                                          3.680686   \n",
       "min                                          0.000000   \n",
       "25%                                          0.000000   \n",
       "50%                                          0.000000   \n",
       "75%                                          0.000000   \n",
       "max                                         98.000000   \n",
       "\n",
       "       number_of_previous_late_payments_up_to_89_days  \\\n",
       "count                                    66316.000000   \n",
       "mean                                         0.206074   \n",
       "std                                          3.696260   \n",
       "min                                          0.000000   \n",
       "25%                                          0.000000   \n",
       "50%                                          0.000000   \n",
       "75%                                          0.000000   \n",
       "max                                         98.000000   \n",
       "\n",
       "       number_of_previous_late_payments_90_days_or_more  defaulted_on_loan  \n",
       "count                                      68540.000000       72161.000000  \n",
       "mean                                           0.224059           0.069470  \n",
       "std                                            3.634436           0.254253  \n",
       "min                                            0.000000           0.000000  \n",
       "25%                                            0.000000           0.000000  \n",
       "50%                                            0.000000           0.000000  \n",
       "75%                                            0.000000           0.000000  \n",
       "max                                           98.000000           1.000000  "
      ]
     },
     "execution_count": 15,
     "metadata": {},
     "output_type": "execute_result"
    }
   ],
   "source": [
    "df.describe()"
   ]
  },
  {
   "cell_type": "code",
   "execution_count": 16,
   "id": "ffb7bf12",
   "metadata": {
    "scrolled": true
   },
   "outputs": [
    {
     "data": {
      "text/html": [
       "<div>\n",
       "<style scoped>\n",
       "    .dataframe tbody tr th:only-of-type {\n",
       "        vertical-align: middle;\n",
       "    }\n",
       "\n",
       "    .dataframe tbody tr th {\n",
       "        vertical-align: top;\n",
       "    }\n",
       "\n",
       "    .dataframe thead th {\n",
       "        text-align: right;\n",
       "    }\n",
       "</style>\n",
       "<table border=\"1\" class=\"dataframe\">\n",
       "  <thead>\n",
       "    <tr style=\"text-align: right;\">\n",
       "      <th></th>\n",
       "      <th>age</th>\n",
       "      <th>number_dependent_family_members</th>\n",
       "      <th>monthly_income</th>\n",
       "      <th>number_of_credit_lines</th>\n",
       "      <th>real_estate_loans</th>\n",
       "      <th>ratio_debt_payment_to_income</th>\n",
       "      <th>number_of_previous_late_payments_up_to_59_days</th>\n",
       "      <th>number_of_previous_late_payments_up_to_89_days</th>\n",
       "      <th>number_of_previous_late_payments_90_days_or_more</th>\n",
       "      <th>defaulted_on_loan</th>\n",
       "    </tr>\n",
       "  </thead>\n",
       "  <tbody>\n",
       "    <tr>\n",
       "      <th>age</th>\n",
       "      <td>1.000000</td>\n",
       "      <td>-0.206523</td>\n",
       "      <td>0.047781</td>\n",
       "      <td>0.187789</td>\n",
       "      <td>0.065339</td>\n",
       "      <td>-0.002943</td>\n",
       "      <td>-0.049908</td>\n",
       "      <td>-0.046765</td>\n",
       "      <td>-0.049572</td>\n",
       "      <td>-0.104907</td>\n",
       "    </tr>\n",
       "    <tr>\n",
       "      <th>number_dependent_family_members</th>\n",
       "      <td>-0.206523</td>\n",
       "      <td>1.000000</td>\n",
       "      <td>0.081789</td>\n",
       "      <td>0.039741</td>\n",
       "      <td>0.119351</td>\n",
       "      <td>0.013291</td>\n",
       "      <td>0.002673</td>\n",
       "      <td>-0.004214</td>\n",
       "      <td>-0.003907</td>\n",
       "      <td>0.047568</td>\n",
       "    </tr>\n",
       "    <tr>\n",
       "      <th>monthly_income</th>\n",
       "      <td>0.047781</td>\n",
       "      <td>0.081789</td>\n",
       "      <td>1.000000</td>\n",
       "      <td>0.112294</td>\n",
       "      <td>0.166342</td>\n",
       "      <td>-0.038272</td>\n",
       "      <td>-0.013266</td>\n",
       "      <td>-0.014548</td>\n",
       "      <td>-0.016371</td>\n",
       "      <td>-0.025232</td>\n",
       "    </tr>\n",
       "    <tr>\n",
       "      <th>number_of_credit_lines</th>\n",
       "      <td>0.187789</td>\n",
       "      <td>0.039741</td>\n",
       "      <td>0.112294</td>\n",
       "      <td>1.000000</td>\n",
       "      <td>0.425700</td>\n",
       "      <td>0.006531</td>\n",
       "      <td>-0.045915</td>\n",
       "      <td>-0.064187</td>\n",
       "      <td>-0.072163</td>\n",
       "      <td>-0.024021</td>\n",
       "    </tr>\n",
       "    <tr>\n",
       "      <th>real_estate_loans</th>\n",
       "      <td>0.065339</td>\n",
       "      <td>0.119351</td>\n",
       "      <td>0.166342</td>\n",
       "      <td>0.425700</td>\n",
       "      <td>1.000000</td>\n",
       "      <td>0.023599</td>\n",
       "      <td>-0.027993</td>\n",
       "      <td>-0.038241</td>\n",
       "      <td>-0.043079</td>\n",
       "      <td>-0.006268</td>\n",
       "    </tr>\n",
       "    <tr>\n",
       "      <th>ratio_debt_payment_to_income</th>\n",
       "      <td>-0.002943</td>\n",
       "      <td>0.013291</td>\n",
       "      <td>-0.038272</td>\n",
       "      <td>0.006531</td>\n",
       "      <td>0.023599</td>\n",
       "      <td>1.000000</td>\n",
       "      <td>-0.002239</td>\n",
       "      <td>-0.002307</td>\n",
       "      <td>-0.003211</td>\n",
       "      <td>-0.004037</td>\n",
       "    </tr>\n",
       "    <tr>\n",
       "      <th>number_of_previous_late_payments_up_to_59_days</th>\n",
       "      <td>-0.049908</td>\n",
       "      <td>0.002673</td>\n",
       "      <td>-0.013266</td>\n",
       "      <td>-0.045915</td>\n",
       "      <td>-0.027993</td>\n",
       "      <td>-0.002239</td>\n",
       "      <td>1.000000</td>\n",
       "      <td>0.982722</td>\n",
       "      <td>0.977169</td>\n",
       "      <td>0.124243</td>\n",
       "    </tr>\n",
       "    <tr>\n",
       "      <th>number_of_previous_late_payments_up_to_89_days</th>\n",
       "      <td>-0.046765</td>\n",
       "      <td>-0.004214</td>\n",
       "      <td>-0.014548</td>\n",
       "      <td>-0.064187</td>\n",
       "      <td>-0.038241</td>\n",
       "      <td>-0.002307</td>\n",
       "      <td>0.982722</td>\n",
       "      <td>1.000000</td>\n",
       "      <td>0.990206</td>\n",
       "      <td>0.100133</td>\n",
       "    </tr>\n",
       "    <tr>\n",
       "      <th>number_of_previous_late_payments_90_days_or_more</th>\n",
       "      <td>-0.049572</td>\n",
       "      <td>-0.003907</td>\n",
       "      <td>-0.016371</td>\n",
       "      <td>-0.072163</td>\n",
       "      <td>-0.043079</td>\n",
       "      <td>-0.003211</td>\n",
       "      <td>0.977169</td>\n",
       "      <td>0.990206</td>\n",
       "      <td>1.000000</td>\n",
       "      <td>0.113465</td>\n",
       "    </tr>\n",
       "    <tr>\n",
       "      <th>defaulted_on_loan</th>\n",
       "      <td>-0.104907</td>\n",
       "      <td>0.047568</td>\n",
       "      <td>-0.025232</td>\n",
       "      <td>-0.024021</td>\n",
       "      <td>-0.006268</td>\n",
       "      <td>-0.004037</td>\n",
       "      <td>0.124243</td>\n",
       "      <td>0.100133</td>\n",
       "      <td>0.113465</td>\n",
       "      <td>1.000000</td>\n",
       "    </tr>\n",
       "  </tbody>\n",
       "</table>\n",
       "</div>"
      ],
      "text/plain": [
       "                                                       age  \\\n",
       "age                                               1.000000   \n",
       "number_dependent_family_members                  -0.206523   \n",
       "monthly_income                                    0.047781   \n",
       "number_of_credit_lines                            0.187789   \n",
       "real_estate_loans                                 0.065339   \n",
       "ratio_debt_payment_to_income                     -0.002943   \n",
       "number_of_previous_late_payments_up_to_59_days   -0.049908   \n",
       "number_of_previous_late_payments_up_to_89_days   -0.046765   \n",
       "number_of_previous_late_payments_90_days_or_more -0.049572   \n",
       "defaulted_on_loan                                -0.104907   \n",
       "\n",
       "                                                  number_dependent_family_members  \\\n",
       "age                                                                     -0.206523   \n",
       "number_dependent_family_members                                          1.000000   \n",
       "monthly_income                                                           0.081789   \n",
       "number_of_credit_lines                                                   0.039741   \n",
       "real_estate_loans                                                        0.119351   \n",
       "ratio_debt_payment_to_income                                             0.013291   \n",
       "number_of_previous_late_payments_up_to_59_days                           0.002673   \n",
       "number_of_previous_late_payments_up_to_89_days                          -0.004214   \n",
       "number_of_previous_late_payments_90_days_or_more                        -0.003907   \n",
       "defaulted_on_loan                                                        0.047568   \n",
       "\n",
       "                                                  monthly_income  \\\n",
       "age                                                     0.047781   \n",
       "number_dependent_family_members                         0.081789   \n",
       "monthly_income                                          1.000000   \n",
       "number_of_credit_lines                                  0.112294   \n",
       "real_estate_loans                                       0.166342   \n",
       "ratio_debt_payment_to_income                           -0.038272   \n",
       "number_of_previous_late_payments_up_to_59_days         -0.013266   \n",
       "number_of_previous_late_payments_up_to_89_days         -0.014548   \n",
       "number_of_previous_late_payments_90_days_or_more       -0.016371   \n",
       "defaulted_on_loan                                      -0.025232   \n",
       "\n",
       "                                                  number_of_credit_lines  \\\n",
       "age                                                             0.187789   \n",
       "number_dependent_family_members                                 0.039741   \n",
       "monthly_income                                                  0.112294   \n",
       "number_of_credit_lines                                          1.000000   \n",
       "real_estate_loans                                               0.425700   \n",
       "ratio_debt_payment_to_income                                    0.006531   \n",
       "number_of_previous_late_payments_up_to_59_days                 -0.045915   \n",
       "number_of_previous_late_payments_up_to_89_days                 -0.064187   \n",
       "number_of_previous_late_payments_90_days_or_more               -0.072163   \n",
       "defaulted_on_loan                                              -0.024021   \n",
       "\n",
       "                                                  real_estate_loans  \\\n",
       "age                                                        0.065339   \n",
       "number_dependent_family_members                            0.119351   \n",
       "monthly_income                                             0.166342   \n",
       "number_of_credit_lines                                     0.425700   \n",
       "real_estate_loans                                          1.000000   \n",
       "ratio_debt_payment_to_income                               0.023599   \n",
       "number_of_previous_late_payments_up_to_59_days            -0.027993   \n",
       "number_of_previous_late_payments_up_to_89_days            -0.038241   \n",
       "number_of_previous_late_payments_90_days_or_more          -0.043079   \n",
       "defaulted_on_loan                                         -0.006268   \n",
       "\n",
       "                                                  ratio_debt_payment_to_income  \\\n",
       "age                                                                  -0.002943   \n",
       "number_dependent_family_members                                       0.013291   \n",
       "monthly_income                                                       -0.038272   \n",
       "number_of_credit_lines                                                0.006531   \n",
       "real_estate_loans                                                     0.023599   \n",
       "ratio_debt_payment_to_income                                          1.000000   \n",
       "number_of_previous_late_payments_up_to_59_days                       -0.002239   \n",
       "number_of_previous_late_payments_up_to_89_days                       -0.002307   \n",
       "number_of_previous_late_payments_90_days_or_more                     -0.003211   \n",
       "defaulted_on_loan                                                    -0.004037   \n",
       "\n",
       "                                                  number_of_previous_late_payments_up_to_59_days  \\\n",
       "age                                                                                    -0.049908   \n",
       "number_dependent_family_members                                                         0.002673   \n",
       "monthly_income                                                                         -0.013266   \n",
       "number_of_credit_lines                                                                 -0.045915   \n",
       "real_estate_loans                                                                      -0.027993   \n",
       "ratio_debt_payment_to_income                                                           -0.002239   \n",
       "number_of_previous_late_payments_up_to_59_days                                          1.000000   \n",
       "number_of_previous_late_payments_up_to_89_days                                          0.982722   \n",
       "number_of_previous_late_payments_90_days_or_more                                        0.977169   \n",
       "defaulted_on_loan                                                                       0.124243   \n",
       "\n",
       "                                                  number_of_previous_late_payments_up_to_89_days  \\\n",
       "age                                                                                    -0.046765   \n",
       "number_dependent_family_members                                                        -0.004214   \n",
       "monthly_income                                                                         -0.014548   \n",
       "number_of_credit_lines                                                                 -0.064187   \n",
       "real_estate_loans                                                                      -0.038241   \n",
       "ratio_debt_payment_to_income                                                           -0.002307   \n",
       "number_of_previous_late_payments_up_to_59_days                                          0.982722   \n",
       "number_of_previous_late_payments_up_to_89_days                                          1.000000   \n",
       "number_of_previous_late_payments_90_days_or_more                                        0.990206   \n",
       "defaulted_on_loan                                                                       0.100133   \n",
       "\n",
       "                                                  number_of_previous_late_payments_90_days_or_more  \\\n",
       "age                                                                                      -0.049572   \n",
       "number_dependent_family_members                                                          -0.003907   \n",
       "monthly_income                                                                           -0.016371   \n",
       "number_of_credit_lines                                                                   -0.072163   \n",
       "real_estate_loans                                                                        -0.043079   \n",
       "ratio_debt_payment_to_income                                                             -0.003211   \n",
       "number_of_previous_late_payments_up_to_59_days                                            0.977169   \n",
       "number_of_previous_late_payments_up_to_89_days                                            0.990206   \n",
       "number_of_previous_late_payments_90_days_or_more                                          1.000000   \n",
       "defaulted_on_loan                                                                         0.113465   \n",
       "\n",
       "                                                  defaulted_on_loan  \n",
       "age                                                       -0.104907  \n",
       "number_dependent_family_members                            0.047568  \n",
       "monthly_income                                            -0.025232  \n",
       "number_of_credit_lines                                    -0.024021  \n",
       "real_estate_loans                                         -0.006268  \n",
       "ratio_debt_payment_to_income                              -0.004037  \n",
       "number_of_previous_late_payments_up_to_59_days             0.124243  \n",
       "number_of_previous_late_payments_up_to_89_days             0.100133  \n",
       "number_of_previous_late_payments_90_days_or_more           0.113465  \n",
       "defaulted_on_loan                                          1.000000  "
      ]
     },
     "execution_count": 16,
     "metadata": {},
     "output_type": "execute_result"
    }
   ],
   "source": [
    "df.corr()"
   ]
  },
  {
   "cell_type": "code",
   "execution_count": 17,
   "id": "329f51a0",
   "metadata": {
    "scrolled": false
   },
   "outputs": [
    {
     "data": {
      "image/png": "[encoded data removed]",
      "text/plain": [
       "<Figure size 864x504 with 2 Axes>"
      ]
     },
     "metadata": {},
     "output_type": "display_data"
    }
   ],
   "source": [
    "x = df.corr()\n",
    "fig = plt.figure(figsize=(12,7))\n",
    "ax = sns.heatmap(x,annot=True) \n"
   ]
  },
  {
   "cell_type": "markdown",
   "id": "e018be5a",
   "metadata": {},
   "source": [
    "<i><font size='4'>There are <font color='red' > almost no strong relationships </font>  among columns, however there are strong relationship among late payments columns which is quite understandable. </font>"
   ]
  },
  {
   "cell_type": "code",
   "execution_count": 18,
   "id": "657ce46f",
   "metadata": {},
   "outputs": [],
   "source": [
    "import warnings\n",
    "warnings.filterwarnings('ignore')  #just to ignore warnings related to graph."
   ]
  },
  {
   "cell_type": "markdown",
   "id": "754938aa",
   "metadata": {},
   "source": [
    "<i><font size='4'> Now, let's analyze each column one by one.</font>"
   ]
  },
  {
   "cell_type": "markdown",
   "id": "10f8fe70",
   "metadata": {},
   "source": [
    "#### <font size='5'><i>1. Age"
   ]
  },
  {
   "cell_type": "code",
   "execution_count": 19,
   "id": "4d57b86d",
   "metadata": {},
   "outputs": [
    {
     "data": {
      "text/plain": [
       "49.0     1822\n",
       "47.0     1696\n",
       "50.0     1696\n",
       "48.0     1695\n",
       "46.0     1674\n",
       "         ... \n",
       "99.0        2\n",
       "98.0        2\n",
       "101.0       1\n",
       "102.0       1\n",
       "103.0       1\n",
       "Name: age, Length: 82, dtype: int64"
      ]
     },
     "execution_count": 19,
     "metadata": {},
     "output_type": "execute_result"
    }
   ],
   "source": [
    "df['age'].value_counts()"
   ]
  },
  {
   "cell_type": "code",
   "execution_count": 20,
   "id": "679cbdc1",
   "metadata": {},
   "outputs": [
    {
     "name": "stdout",
     "output_type": "stream",
     "text": [
      "21.0\n",
      "103.0\n"
     ]
    }
   ],
   "source": [
    "print(df.age.min())\n",
    "print(df.age.max())"
   ]
  },
  {
   "cell_type": "code",
   "execution_count": 21,
   "id": "83eaa8c4",
   "metadata": {},
   "outputs": [
    {
     "name": "stdout",
     "output_type": "stream",
     "text": [
      "Minimum age in our dataset is 21.0.\n",
      "Maximum age in our dataset is 103.0.\n"
     ]
    }
   ],
   "source": [
    "print(f'Minimum age in our dataset is {df.age.min()}.')\n",
    "print(f'Maximum age in our dataset is {df.age.max()}.')"
   ]
  },
  {
   "cell_type": "code",
   "execution_count": 22,
   "id": "812af809",
   "metadata": {},
   "outputs": [
    {
     "name": "stdout",
     "output_type": "stream",
     "text": [
      "Number of unique values in the \"Age\" column is 82.\n"
     ]
    }
   ],
   "source": [
    "df['age'].nunique() # We can see there are 82 unique ages in this column.\n",
    "print(f'Number of unique values in the \"Age\" column is {df.age.nunique()}.')"
   ]
  },
  {
   "cell_type": "code",
   "execution_count": 23,
   "id": "019809e6",
   "metadata": {
    "scrolled": false
   },
   "outputs": [
    {
     "data": {
      "image/png": "[encoded data removed]",
      "text/plain": [
       "<Figure size 864x576 with 1 Axes>"
      ]
     },
     "metadata": {},
     "output_type": "display_data"
    }
   ],
   "source": [
    "sns.distplot(df['age'], bins=45)\n",
    "plt.show()  "
   ]
  },
  {
   "cell_type": "markdown",
   "id": "125dfacb",
   "metadata": {},
   "source": [
    "<i><font size='3'> As we can see from the Distribution plot, our distribution is normal and we have few outliers in our dataset. </font>"
   ]
  },
  {
   "cell_type": "code",
   "execution_count": 24,
   "id": "54c6ab27",
   "metadata": {
    "scrolled": true
   },
   "outputs": [
    {
     "name": "stdout",
     "output_type": "stream",
     "text": [
      "Median age is: 51.0\n",
      "Mean age is: 51.38891366873279\n"
     ]
    }
   ],
   "source": [
    "print(f'Median age is: {df.age.median()}')\n",
    "print(f'Mean age is: {df.age.mean()}')"
   ]
  },
  {
   "cell_type": "markdown",
   "id": "20ffcf07",
   "metadata": {},
   "source": [
    "<i> Having our Mean and Median values so close is powering our idea of having Normal distribution."
   ]
  },
  {
   "cell_type": "code",
   "execution_count": 25,
   "id": "873ec852",
   "metadata": {
    "scrolled": false
   },
   "outputs": [
    {
     "data": {
      "text/plain": [
       "<AxesSubplot:xlabel='age'>"
      ]
     },
     "execution_count": 25,
     "metadata": {},
     "output_type": "execute_result"
    },
    {
     "data": {
      "image/png": "[encoded data removed]",
      "text/plain": [
       "<Figure size 864x576 with 1 Axes>"
      ]
     },
     "metadata": {},
     "output_type": "display_data"
    }
   ],
   "source": [
    "sns.boxplot(df['age'],color='navy')"
   ]
  },
  {
   "cell_type": "markdown",
   "id": "fb3a9069",
   "metadata": {},
   "source": [
    "<i> <font size='3'> Here we can see the outliers as well. </font>"
   ]
  },
  {
   "cell_type": "code",
   "execution_count": 26,
   "id": "f17bf425",
   "metadata": {},
   "outputs": [
    {
     "data": {
      "text/html": [
       "<div>\n",
       "<style scoped>\n",
       "    .dataframe tbody tr th:only-of-type {\n",
       "        vertical-align: middle;\n",
       "    }\n",
       "\n",
       "    .dataframe tbody tr th {\n",
       "        vertical-align: top;\n",
       "    }\n",
       "\n",
       "    .dataframe thead th {\n",
       "        text-align: right;\n",
       "    }\n",
       "</style>\n",
       "<table border=\"1\" class=\"dataframe\">\n",
       "  <thead>\n",
       "    <tr style=\"text-align: right;\">\n",
       "      <th></th>\n",
       "      <th>age</th>\n",
       "      <th>number_dependent_family_members</th>\n",
       "      <th>monthly_income</th>\n",
       "      <th>number_of_credit_lines</th>\n",
       "      <th>real_estate_loans</th>\n",
       "      <th>ratio_debt_payment_to_income</th>\n",
       "      <th>credit_line_utilization</th>\n",
       "      <th>number_of_previous_late_payments_up_to_59_days</th>\n",
       "      <th>number_of_previous_late_payments_up_to_89_days</th>\n",
       "      <th>number_of_previous_late_payments_90_days_or_more</th>\n",
       "      <th>defaulted_on_loan</th>\n",
       "    </tr>\n",
       "    <tr>\n",
       "      <th>Id</th>\n",
       "      <th></th>\n",
       "      <th></th>\n",
       "      <th></th>\n",
       "      <th></th>\n",
       "      <th></th>\n",
       "      <th></th>\n",
       "      <th></th>\n",
       "      <th></th>\n",
       "      <th></th>\n",
       "      <th></th>\n",
       "      <th></th>\n",
       "    </tr>\n",
       "  </thead>\n",
       "  <tbody>\n",
       "    <tr>\n",
       "      <th>20966</th>\n",
       "      <td>101.0</td>\n",
       "      <td>0.0</td>\n",
       "      <td>2883.0</td>\n",
       "      <td>6.0</td>\n",
       "      <td>0.0</td>\n",
       "      <td>NaN</td>\n",
       "      <td>0.0029642329999999997</td>\n",
       "      <td>2.0</td>\n",
       "      <td>0.0</td>\n",
       "      <td>0.0</td>\n",
       "      <td>1</td>\n",
       "    </tr>\n",
       "    <tr>\n",
       "      <th>27516</th>\n",
       "      <td>102.0</td>\n",
       "      <td>1.0</td>\n",
       "      <td>3417.0</td>\n",
       "      <td>7.0</td>\n",
       "      <td>0.0</td>\n",
       "      <td>0.273844</td>\n",
       "      <td>0.109641899</td>\n",
       "      <td>0.0</td>\n",
       "      <td>0.0</td>\n",
       "      <td>0.0</td>\n",
       "      <td>0</td>\n",
       "    </tr>\n",
       "    <tr>\n",
       "      <th>70499</th>\n",
       "      <td>103.0</td>\n",
       "      <td>0.0</td>\n",
       "      <td>1600.0</td>\n",
       "      <td>3.0</td>\n",
       "      <td>0.0</td>\n",
       "      <td>0.000000</td>\n",
       "      <td>0.9999998999999999</td>\n",
       "      <td>0.0</td>\n",
       "      <td>0.0</td>\n",
       "      <td>0.0</td>\n",
       "      <td>0</td>\n",
       "    </tr>\n",
       "  </tbody>\n",
       "</table>\n",
       "</div>"
      ],
      "text/plain": [
       "         age  number_dependent_family_members  monthly_income  \\\n",
       "Id                                                              \n",
       "20966  101.0                              0.0          2883.0   \n",
       "27516  102.0                              1.0          3417.0   \n",
       "70499  103.0                              0.0          1600.0   \n",
       "\n",
       "       number_of_credit_lines  real_estate_loans  \\\n",
       "Id                                                 \n",
       "20966                     6.0                0.0   \n",
       "27516                     7.0                0.0   \n",
       "70499                     3.0                0.0   \n",
       "\n",
       "       ratio_debt_payment_to_income credit_line_utilization  \\\n",
       "Id                                                            \n",
       "20966                           NaN   0.0029642329999999997   \n",
       "27516                      0.273844             0.109641899   \n",
       "70499                      0.000000      0.9999998999999999   \n",
       "\n",
       "       number_of_previous_late_payments_up_to_59_days  \\\n",
       "Id                                                      \n",
       "20966                                             2.0   \n",
       "27516                                             0.0   \n",
       "70499                                             0.0   \n",
       "\n",
       "       number_of_previous_late_payments_up_to_89_days  \\\n",
       "Id                                                      \n",
       "20966                                             0.0   \n",
       "27516                                             0.0   \n",
       "70499                                             0.0   \n",
       "\n",
       "       number_of_previous_late_payments_90_days_or_more  defaulted_on_loan  \n",
       "Id                                                                          \n",
       "20966                                               0.0                  1  \n",
       "27516                                               0.0                  0  \n",
       "70499                                               0.0                  0  "
      ]
     },
     "execution_count": 26,
     "metadata": {},
     "output_type": "execute_result"
    }
   ],
   "source": [
    "df[df['age'] > 100] #there are 3 people over age 100 which we can call outliers."
   ]
  },
  {
   "cell_type": "raw",
   "id": "2b8aed32",
   "metadata": {},
   "source": []
  },
  {
   "cell_type": "markdown",
   "id": "7dcc7858",
   "metadata": {},
   "source": [
    "#### <font size='5'><i>2. Number_dependent_family_members"
   ]
  },
  {
   "cell_type": "code",
   "execution_count": 27,
   "id": "f416eecd",
   "metadata": {},
   "outputs": [
    {
     "data": {
      "text/plain": [
       "0.0     37089\n",
       "1.0     13751\n",
       "2.0     10230\n",
       "3.0      4886\n",
       "4.0      1473\n",
       "5.0       387\n",
       "6.0        79\n",
       "7.0        29\n",
       "8.0        17\n",
       "9.0         2\n",
       "13.0        1\n",
       "10.0        1\n",
       "Name: number_dependent_family_members, dtype: int64"
      ]
     },
     "execution_count": 27,
     "metadata": {},
     "output_type": "execute_result"
    }
   ],
   "source": [
    "df['number_dependent_family_members'].value_counts()"
   ]
  },
  {
   "cell_type": "code",
   "execution_count": 28,
   "id": "f54ce433",
   "metadata": {
    "scrolled": true
   },
   "outputs": [
    {
     "data": {
      "text/plain": [
       "0.0     0.545868\n",
       "1.0     0.202384\n",
       "2.0     0.150563\n",
       "3.0     0.071911\n",
       "4.0     0.021679\n",
       "5.0     0.005696\n",
       "6.0     0.001163\n",
       "7.0     0.000427\n",
       "8.0     0.000250\n",
       "9.0     0.000029\n",
       "13.0    0.000015\n",
       "10.0    0.000015\n",
       "Name: number_dependent_family_members, dtype: float64"
      ]
     },
     "execution_count": 28,
     "metadata": {},
     "output_type": "execute_result"
    }
   ],
   "source": [
    "df['number_dependent_family_members'].value_counts(normalize='True')"
   ]
  },
  {
   "cell_type": "markdown",
   "id": "a3bde348",
   "metadata": {},
   "source": [
    "<i><font size='3'>As it can be seen from above, more than half of number of dependents is <font color='red'>zero. "
   ]
  },
  {
   "cell_type": "code",
   "execution_count": 29,
   "id": "3ec5e22e",
   "metadata": {},
   "outputs": [
    {
     "name": "stdout",
     "output_type": "stream",
     "text": [
      "0.0\n",
      "13.0\n"
     ]
    }
   ],
   "source": [
    "print(df['number_dependent_family_members'].min())\n",
    "print(df['number_dependent_family_members'].max())"
   ]
  },
  {
   "cell_type": "code",
   "execution_count": 30,
   "id": "967ea53a",
   "metadata": {},
   "outputs": [
    {
     "name": "stdout",
     "output_type": "stream",
     "text": [
      "Minimum age in our dataset is 0.0.\n",
      "Maximum age in our dataset is 13.0.\n"
     ]
    }
   ],
   "source": [
    "print(f'Minimum age in our dataset is {df.number_dependent_family_members.min()}.')\n",
    "print(f'Maximum age in our dataset is {df.number_dependent_family_members.max()}.')"
   ]
  },
  {
   "cell_type": "code",
   "execution_count": 31,
   "id": "4dbed9f7",
   "metadata": {},
   "outputs": [
    {
     "name": "stdout",
     "output_type": "stream",
     "text": [
      "Number of unique values in the \"number_dependent_family_members\" column is 12.\n"
     ]
    }
   ],
   "source": [
    "df['number_dependent_family_members'].nunique() # We can see there are 12 unique values in this column.\n",
    "print(f'Number of unique values in the \"number_dependent_family_members\" column is {df.number_dependent_family_members.nunique()}.')"
   ]
  },
  {
   "cell_type": "code",
   "execution_count": 32,
   "id": "69ade760",
   "metadata": {},
   "outputs": [
    {
     "data": {
      "image/png": "[encoded data removed]",
      "text/plain": [
       "<Figure size 864x576 with 1 Axes>"
      ]
     },
     "metadata": {},
     "output_type": "display_data"
    }
   ],
   "source": [
    "sns.histplot(df['number_dependent_family_members'], bins=12)\n",
    "plt.show()  "
   ]
  },
  {
   "cell_type": "markdown",
   "id": "8d40dd7c",
   "metadata": {},
   "source": [
    "<i><font size='4'> It kind of looks like <font color='red'> \"Exponential Distribution\""
   ]
  },
  {
   "cell_type": "markdown",
   "id": "96e6dd82",
   "metadata": {},
   "source": [
    "<i><font size='3'> We have some outliers as well."
   ]
  },
  {
   "cell_type": "code",
   "execution_count": 33,
   "id": "3a47c4ae",
   "metadata": {},
   "outputs": [
    {
     "name": "stdout",
     "output_type": "stream",
     "text": [
      "Median \"number_dependent_family_members\" is: 0.0\n",
      "Mean \"number_dependent_family_members\" is: 0.8470086099050703\n"
     ]
    }
   ],
   "source": [
    "print(f'Median \"number_dependent_family_members\" is: {df.number_dependent_family_members.median()}')\n",
    "print(f'Mean \"number_dependent_family_members\" is: {df.number_dependent_family_members.mean()}')"
   ]
  },
  {
   "cell_type": "code",
   "execution_count": 34,
   "id": "5a90f85a",
   "metadata": {
    "scrolled": false
   },
   "outputs": [
    {
     "data": {
      "text/plain": [
       "<AxesSubplot:xlabel='number_dependent_family_members'>"
      ]
     },
     "execution_count": 34,
     "metadata": {},
     "output_type": "execute_result"
    },
    {
     "data": {
      "image/png": "[encoded data removed]",
      "text/plain": [
       "<Figure size 864x576 with 1 Axes>"
      ]
     },
     "metadata": {},
     "output_type": "display_data"
    }
   ],
   "source": [
    " sns.boxplot(df['number_dependent_family_members'],color='navy') "
   ]
  },
  {
   "cell_type": "markdown",
   "id": "7fb1f7f5",
   "metadata": {},
   "source": [
    "<i> <font size='3'> Here we can see the outliers as well. </font>"
   ]
  },
  {
   "cell_type": "code",
   "execution_count": 35,
   "id": "97448a36",
   "metadata": {
    "scrolled": true
   },
   "outputs": [
    {
     "data": {
      "text/html": [
       "<div>\n",
       "<style scoped>\n",
       "    .dataframe tbody tr th:only-of-type {\n",
       "        vertical-align: middle;\n",
       "    }\n",
       "\n",
       "    .dataframe tbody tr th {\n",
       "        vertical-align: top;\n",
       "    }\n",
       "\n",
       "    .dataframe thead th {\n",
       "        text-align: right;\n",
       "    }\n",
       "</style>\n",
       "<table border=\"1\" class=\"dataframe\">\n",
       "  <thead>\n",
       "    <tr style=\"text-align: right;\">\n",
       "      <th></th>\n",
       "      <th>age</th>\n",
       "      <th>number_dependent_family_members</th>\n",
       "      <th>monthly_income</th>\n",
       "      <th>number_of_credit_lines</th>\n",
       "      <th>real_estate_loans</th>\n",
       "      <th>ratio_debt_payment_to_income</th>\n",
       "      <th>credit_line_utilization</th>\n",
       "      <th>number_of_previous_late_payments_up_to_59_days</th>\n",
       "      <th>number_of_previous_late_payments_up_to_89_days</th>\n",
       "      <th>number_of_previous_late_payments_90_days_or_more</th>\n",
       "      <th>defaulted_on_loan</th>\n",
       "    </tr>\n",
       "    <tr>\n",
       "      <th>Id</th>\n",
       "      <th></th>\n",
       "      <th></th>\n",
       "      <th></th>\n",
       "      <th></th>\n",
       "      <th></th>\n",
       "      <th></th>\n",
       "      <th></th>\n",
       "      <th></th>\n",
       "      <th></th>\n",
       "      <th></th>\n",
       "      <th></th>\n",
       "    </tr>\n",
       "  </thead>\n",
       "  <tbody>\n",
       "    <tr>\n",
       "      <th>12932</th>\n",
       "      <td>53.0</td>\n",
       "      <td>13.0</td>\n",
       "      <td>3333.0</td>\n",
       "      <td>3.0</td>\n",
       "      <td>1.0</td>\n",
       "      <td>0.230054</td>\n",
       "      <td>0.9999998999999999</td>\n",
       "      <td>1.0</td>\n",
       "      <td>0.0</td>\n",
       "      <td>1.0</td>\n",
       "      <td>0</td>\n",
       "    </tr>\n",
       "    <tr>\n",
       "      <th>16205</th>\n",
       "      <td>60.0</td>\n",
       "      <td>10.0</td>\n",
       "      <td>7500.0</td>\n",
       "      <td>10.0</td>\n",
       "      <td>0.0</td>\n",
       "      <td>0.133582</td>\n",
       "      <td>0.079193843</td>\n",
       "      <td>0.0</td>\n",
       "      <td>0.0</td>\n",
       "      <td>0.0</td>\n",
       "      <td>0</td>\n",
       "    </tr>\n",
       "    <tr>\n",
       "      <th>21789</th>\n",
       "      <td>37.0</td>\n",
       "      <td>9.0</td>\n",
       "      <td>3300.0</td>\n",
       "      <td>9.0</td>\n",
       "      <td>0.0</td>\n",
       "      <td>NaN</td>\n",
       "      <td>0.494849414</td>\n",
       "      <td>0.0</td>\n",
       "      <td>0.0</td>\n",
       "      <td>1.0</td>\n",
       "      <td>0</td>\n",
       "    </tr>\n",
       "    <tr>\n",
       "      <th>69154</th>\n",
       "      <td>38.0</td>\n",
       "      <td>9.0</td>\n",
       "      <td>2789.0</td>\n",
       "      <td>5.0</td>\n",
       "      <td>1.0</td>\n",
       "      <td>0.643728</td>\n",
       "      <td>0,9999998999999999</td>\n",
       "      <td>0.0</td>\n",
       "      <td>0.0</td>\n",
       "      <td>0.0</td>\n",
       "      <td>0</td>\n",
       "    </tr>\n",
       "  </tbody>\n",
       "</table>\n",
       "</div>"
      ],
      "text/plain": [
       "        age  number_dependent_family_members  monthly_income  \\\n",
       "Id                                                             \n",
       "12932  53.0                             13.0          3333.0   \n",
       "16205  60.0                             10.0          7500.0   \n",
       "21789  37.0                              9.0          3300.0   \n",
       "69154  38.0                              9.0          2789.0   \n",
       "\n",
       "       number_of_credit_lines  real_estate_loans  \\\n",
       "Id                                                 \n",
       "12932                     3.0                1.0   \n",
       "16205                    10.0                0.0   \n",
       "21789                     9.0                0.0   \n",
       "69154                     5.0                1.0   \n",
       "\n",
       "       ratio_debt_payment_to_income credit_line_utilization  \\\n",
       "Id                                                            \n",
       "12932                      0.230054      0.9999998999999999   \n",
       "16205                      0.133582             0.079193843   \n",
       "21789                           NaN             0.494849414   \n",
       "69154                      0.643728      0,9999998999999999   \n",
       "\n",
       "       number_of_previous_late_payments_up_to_59_days  \\\n",
       "Id                                                      \n",
       "12932                                             1.0   \n",
       "16205                                             0.0   \n",
       "21789                                             0.0   \n",
       "69154                                             0.0   \n",
       "\n",
       "       number_of_previous_late_payments_up_to_89_days  \\\n",
       "Id                                                      \n",
       "12932                                             0.0   \n",
       "16205                                             0.0   \n",
       "21789                                             0.0   \n",
       "69154                                             0.0   \n",
       "\n",
       "       number_of_previous_late_payments_90_days_or_more  defaulted_on_loan  \n",
       "Id                                                                          \n",
       "12932                                               1.0                  0  \n",
       "16205                                               0.0                  0  \n",
       "21789                                               1.0                  0  \n",
       "69154                                               0.0                  0  "
      ]
     },
     "execution_count": 35,
     "metadata": {},
     "output_type": "execute_result"
    }
   ],
   "source": [
    "df[df['number_dependent_family_members'] > 8]   "
   ]
  },
  {
   "cell_type": "markdown",
   "id": "063dc0c6",
   "metadata": {},
   "source": [
    "<i>There are 4 rows which has \"Number_dependent_family_members\" over 8."
   ]
  },
  {
   "cell_type": "raw",
   "id": "b770c48f",
   "metadata": {},
   "source": []
  },
  {
   "cell_type": "markdown",
   "id": "e74ad2de",
   "metadata": {},
   "source": [
    "#### <font size='5'><i> 3. Monthly_income"
   ]
  },
  {
   "cell_type": "code",
   "execution_count": 36,
   "id": "8fb3e085",
   "metadata": {},
   "outputs": [
    {
     "data": {
      "text/plain": [
       "5000.0     1546\n",
       "4000.0     1115\n",
       "6000.0     1064\n",
       "3000.0      985\n",
       "0.0         864\n",
       "           ... \n",
       "21624.0       1\n",
       "5214.0        1\n",
       "8282.0        1\n",
       "10515.0       1\n",
       "6374.0        1\n",
       "Name: monthly_income, Length: 11007, dtype: int64"
      ]
     },
     "execution_count": 36,
     "metadata": {},
     "output_type": "execute_result"
    }
   ],
   "source": [
    "df['monthly_income'].value_counts()  #As it is truly numeric column, we cannot say anything from here."
   ]
  },
  {
   "cell_type": "code",
   "execution_count": 37,
   "id": "e08cc100",
   "metadata": {
    "scrolled": true
   },
   "outputs": [
    {
     "name": "stdout",
     "output_type": "stream",
     "text": [
      "0.0\n",
      "1560100.0\n"
     ]
    }
   ],
   "source": [
    "print(df['monthly_income'].min())\n",
    "print(df['monthly_income'].max())  "
   ]
  },
  {
   "cell_type": "markdown",
   "id": "399e117e",
   "metadata": {},
   "source": [
    "<font size='3'><i>We definitely have huge range of income and therefore outliers.</font>"
   ]
  },
  {
   "cell_type": "code",
   "execution_count": 38,
   "id": "02e41c70",
   "metadata": {},
   "outputs": [
    {
     "name": "stdout",
     "output_type": "stream",
     "text": [
      "Minimum monthly_income in our dataset is 0.0\n",
      "Maximum monthly_income in our dataset is 1560100.0\n"
     ]
    }
   ],
   "source": [
    "print(f'Minimum monthly_income in our dataset is {df.monthly_income.min()}')\n",
    "print(f'Maximum monthly_income in our dataset is {df.monthly_income.max()}')"
   ]
  },
  {
   "cell_type": "code",
   "execution_count": 39,
   "id": "98cfa1b5",
   "metadata": {
    "scrolled": false
   },
   "outputs": [
    {
     "data": {
      "text/plain": [
       "<AxesSubplot:xlabel='monthly_income', ylabel='Count'>"
      ]
     },
     "execution_count": 39,
     "metadata": {},
     "output_type": "execute_result"
    },
    {
     "data": {
      "image/png": "[encoded data removed]",
      "text/plain": [
       "<Figure size 864x576 with 1 Axes>"
      ]
     },
     "metadata": {},
     "output_type": "display_data"
    }
   ],
   "source": [
    "plt.xlim(0,30000)\n",
    "sns.histplot(df['monthly_income'])"
   ]
  },
  {
   "cell_type": "markdown",
   "id": "f6b9781a",
   "metadata": {},
   "source": [
    "<font size='3'><i> I had to set xlim in order to have clear plot, without setting limit <font color='red' > outliers </font> are affecting so much. We have very much right skewed data."
   ]
  },
  {
   "cell_type": "code",
   "execution_count": 40,
   "id": "515e806f",
   "metadata": {
    "scrolled": true
   },
   "outputs": [
    {
     "name": "stdout",
     "output_type": "stream",
     "text": [
      "Median monthly_income is: 5400.0\n",
      "Mean monthly_income is: 6624.387784413032\n"
     ]
    }
   ],
   "source": [
    "print(f'Median monthly_income is: {df.monthly_income.median()}')\n",
    "print(f'Mean monthly_income is: {df.monthly_income.mean()}')"
   ]
  },
  {
   "cell_type": "markdown",
   "id": "578eac9f",
   "metadata": {},
   "source": [
    "<i> Because of existing outliers in this column, we need to use Median as Strategy for imputation."
   ]
  },
  {
   "cell_type": "code",
   "execution_count": 41,
   "id": "f66ec640",
   "metadata": {
    "scrolled": false
   },
   "outputs": [
    {
     "data": {
      "text/plain": [
       "<AxesSubplot:xlabel='monthly_income'>"
      ]
     },
     "execution_count": 41,
     "metadata": {},
     "output_type": "execute_result"
    },
    {
     "data": {
      "image/png": "[encoded data removed]",
      "text/plain": [
       "<Figure size 864x576 with 1 Axes>"
      ]
     },
     "metadata": {},
     "output_type": "display_data"
    }
   ],
   "source": [
    "plt.xlim(0,30000)\n",
    "sns.boxplot(df['monthly_income'],color='navy')"
   ]
  },
  {
   "cell_type": "markdown",
   "id": "e1cdd4e5",
   "metadata": {},
   "source": [
    "<i>Same applies to the BoxPlot as well. We have very much outliers and in case of model builing we definitely need to deal with these Outliers."
   ]
  },
  {
   "cell_type": "code",
   "execution_count": 42,
   "id": "3a173880",
   "metadata": {
    "scrolled": true
   },
   "outputs": [
    {
     "data": {
      "text/html": [
       "<div>\n",
       "<style scoped>\n",
       "    .dataframe tbody tr th:only-of-type {\n",
       "        vertical-align: middle;\n",
       "    }\n",
       "\n",
       "    .dataframe tbody tr th {\n",
       "        vertical-align: top;\n",
       "    }\n",
       "\n",
       "    .dataframe thead th {\n",
       "        text-align: right;\n",
       "    }\n",
       "</style>\n",
       "<table border=\"1\" class=\"dataframe\">\n",
       "  <thead>\n",
       "    <tr style=\"text-align: right;\">\n",
       "      <th></th>\n",
       "      <th>age</th>\n",
       "      <th>number_dependent_family_members</th>\n",
       "      <th>monthly_income</th>\n",
       "      <th>number_of_credit_lines</th>\n",
       "      <th>real_estate_loans</th>\n",
       "      <th>ratio_debt_payment_to_income</th>\n",
       "      <th>credit_line_utilization</th>\n",
       "      <th>number_of_previous_late_payments_up_to_59_days</th>\n",
       "      <th>number_of_previous_late_payments_up_to_89_days</th>\n",
       "      <th>number_of_previous_late_payments_90_days_or_more</th>\n",
       "      <th>defaulted_on_loan</th>\n",
       "    </tr>\n",
       "    <tr>\n",
       "      <th>Id</th>\n",
       "      <th></th>\n",
       "      <th></th>\n",
       "      <th></th>\n",
       "      <th></th>\n",
       "      <th></th>\n",
       "      <th></th>\n",
       "      <th></th>\n",
       "      <th></th>\n",
       "      <th></th>\n",
       "      <th></th>\n",
       "      <th></th>\n",
       "    </tr>\n",
       "  </thead>\n",
       "  <tbody>\n",
       "    <tr>\n",
       "      <th>2100</th>\n",
       "      <td>50.0</td>\n",
       "      <td>1.0</td>\n",
       "      <td>143000.0</td>\n",
       "      <td>NaN</td>\n",
       "      <td>1.0</td>\n",
       "      <td>0.008671</td>\n",
       "      <td>0,0</td>\n",
       "      <td>0.0</td>\n",
       "      <td>0.0</td>\n",
       "      <td>0.0</td>\n",
       "      <td>0</td>\n",
       "    </tr>\n",
       "    <tr>\n",
       "      <th>6464</th>\n",
       "      <td>64.0</td>\n",
       "      <td>1.0</td>\n",
       "      <td>582369.0</td>\n",
       "      <td>11.0</td>\n",
       "      <td>NaN</td>\n",
       "      <td>0.004003</td>\n",
       "      <td>0.439684124</td>\n",
       "      <td>0.0</td>\n",
       "      <td>0.0</td>\n",
       "      <td>0.0</td>\n",
       "      <td>0</td>\n",
       "    </tr>\n",
       "    <tr>\n",
       "      <th>8203</th>\n",
       "      <td>44.0</td>\n",
       "      <td>1.0</td>\n",
       "      <td>1072500.0</td>\n",
       "      <td>9.0</td>\n",
       "      <td>2.0</td>\n",
       "      <td>0.004537</td>\n",
       "      <td>NaN</td>\n",
       "      <td>1.0</td>\n",
       "      <td>0.0</td>\n",
       "      <td>0.0</td>\n",
       "      <td>0</td>\n",
       "    </tr>\n",
       "    <tr>\n",
       "      <th>10882</th>\n",
       "      <td>44.0</td>\n",
       "      <td>0.0</td>\n",
       "      <td>440000.0</td>\n",
       "      <td>2.0</td>\n",
       "      <td>NaN</td>\n",
       "      <td>0.002459</td>\n",
       "      <td>0.946866643</td>\n",
       "      <td>2.0</td>\n",
       "      <td>1.0</td>\n",
       "      <td>0.0</td>\n",
       "      <td>0</td>\n",
       "    </tr>\n",
       "    <tr>\n",
       "      <th>11391</th>\n",
       "      <td>56.0</td>\n",
       "      <td>NaN</td>\n",
       "      <td>110775.0</td>\n",
       "      <td>NaN</td>\n",
       "      <td>2.0</td>\n",
       "      <td>0.038005</td>\n",
       "      <td>0.404801425</td>\n",
       "      <td>0.0</td>\n",
       "      <td>0.0</td>\n",
       "      <td>0.0</td>\n",
       "      <td>0</td>\n",
       "    </tr>\n",
       "    <tr>\n",
       "      <th>11430</th>\n",
       "      <td>83.0</td>\n",
       "      <td>NaN</td>\n",
       "      <td>629000.0</td>\n",
       "      <td>3.0</td>\n",
       "      <td>0.0</td>\n",
       "      <td>0.000000</td>\n",
       "      <td>0.0</td>\n",
       "      <td>0.0</td>\n",
       "      <td>0.0</td>\n",
       "      <td>0.0</td>\n",
       "      <td>0</td>\n",
       "    </tr>\n",
       "    <tr>\n",
       "      <th>15696</th>\n",
       "      <td>43.0</td>\n",
       "      <td>2.0</td>\n",
       "      <td>112000.0</td>\n",
       "      <td>19.0</td>\n",
       "      <td>4.0</td>\n",
       "      <td>0.092633</td>\n",
       "      <td>0.320561439</td>\n",
       "      <td>0.0</td>\n",
       "      <td>0.0</td>\n",
       "      <td>0.0</td>\n",
       "      <td>0</td>\n",
       "    </tr>\n",
       "    <tr>\n",
       "      <th>16553</th>\n",
       "      <td>35.0</td>\n",
       "      <td>2.0</td>\n",
       "      <td>114344.0</td>\n",
       "      <td>11.0</td>\n",
       "      <td>2.0</td>\n",
       "      <td>0.017841</td>\n",
       "      <td>0.828865884</td>\n",
       "      <td>0.0</td>\n",
       "      <td>0.0</td>\n",
       "      <td>0.0</td>\n",
       "      <td>0</td>\n",
       "    </tr>\n",
       "    <tr>\n",
       "      <th>18057</th>\n",
       "      <td>53.0</td>\n",
       "      <td>0.0</td>\n",
       "      <td>112100.0</td>\n",
       "      <td>16.0</td>\n",
       "      <td>1.0</td>\n",
       "      <td>NaN</td>\n",
       "      <td>0.000559034</td>\n",
       "      <td>0.0</td>\n",
       "      <td>0.0</td>\n",
       "      <td>0.0</td>\n",
       "      <td>0</td>\n",
       "    </tr>\n",
       "    <tr>\n",
       "      <th>19805</th>\n",
       "      <td>51.0</td>\n",
       "      <td>4.0</td>\n",
       "      <td>142000.0</td>\n",
       "      <td>15.0</td>\n",
       "      <td>2.0</td>\n",
       "      <td>0.021373</td>\n",
       "      <td>0.177332627</td>\n",
       "      <td>0.0</td>\n",
       "      <td>0.0</td>\n",
       "      <td>0.0</td>\n",
       "      <td>0</td>\n",
       "    </tr>\n",
       "    <tr>\n",
       "      <th>20193</th>\n",
       "      <td>57.0</td>\n",
       "      <td>4.0</td>\n",
       "      <td>261666.0</td>\n",
       "      <td>12.0</td>\n",
       "      <td>NaN</td>\n",
       "      <td>0.012160</td>\n",
       "      <td>0.19640396100000002</td>\n",
       "      <td>1.0</td>\n",
       "      <td>0.0</td>\n",
       "      <td>0.0</td>\n",
       "      <td>0</td>\n",
       "    </tr>\n",
       "    <tr>\n",
       "      <th>20628</th>\n",
       "      <td>44.0</td>\n",
       "      <td>3.0</td>\n",
       "      <td>408333.0</td>\n",
       "      <td>6.0</td>\n",
       "      <td>2.0</td>\n",
       "      <td>0.024933</td>\n",
       "      <td>0,176144318</td>\n",
       "      <td>0.0</td>\n",
       "      <td>0.0</td>\n",
       "      <td>0.0</td>\n",
       "      <td>0</td>\n",
       "    </tr>\n",
       "    <tr>\n",
       "      <th>25337</th>\n",
       "      <td>43.0</td>\n",
       "      <td>1.0</td>\n",
       "      <td>208333.0</td>\n",
       "      <td>11.0</td>\n",
       "      <td>1.0</td>\n",
       "      <td>0.009691</td>\n",
       "      <td>0.007982621</td>\n",
       "      <td>1.0</td>\n",
       "      <td>0.0</td>\n",
       "      <td>0.0</td>\n",
       "      <td>0</td>\n",
       "    </tr>\n",
       "    <tr>\n",
       "      <th>29236</th>\n",
       "      <td>65.0</td>\n",
       "      <td>1.0</td>\n",
       "      <td>105591.0</td>\n",
       "      <td>33.0</td>\n",
       "      <td>3.0</td>\n",
       "      <td>0.092043</td>\n",
       "      <td>0.416125575</td>\n",
       "      <td>0.0</td>\n",
       "      <td>0.0</td>\n",
       "      <td>1.0</td>\n",
       "      <td>0</td>\n",
       "    </tr>\n",
       "    <tr>\n",
       "      <th>29578</th>\n",
       "      <td>63.0</td>\n",
       "      <td>0.0</td>\n",
       "      <td>126333.0</td>\n",
       "      <td>8.0</td>\n",
       "      <td>2.0</td>\n",
       "      <td>0.033728</td>\n",
       "      <td>0.746407316</td>\n",
       "      <td>0.0</td>\n",
       "      <td>0.0</td>\n",
       "      <td>0.0</td>\n",
       "      <td>0</td>\n",
       "    </tr>\n",
       "    <tr>\n",
       "      <th>32549</th>\n",
       "      <td>72.0</td>\n",
       "      <td>NaN</td>\n",
       "      <td>128000.0</td>\n",
       "      <td>18.0</td>\n",
       "      <td>2.0</td>\n",
       "      <td>0.024297</td>\n",
       "      <td>0.257346394</td>\n",
       "      <td>0.0</td>\n",
       "      <td>NaN</td>\n",
       "      <td>0.0</td>\n",
       "      <td>0</td>\n",
       "    </tr>\n",
       "    <tr>\n",
       "      <th>32589</th>\n",
       "      <td>53.0</td>\n",
       "      <td>0.0</td>\n",
       "      <td>234600.0</td>\n",
       "      <td>17.0</td>\n",
       "      <td>6.0</td>\n",
       "      <td>0.050533</td>\n",
       "      <td>0.0</td>\n",
       "      <td>4.0</td>\n",
       "      <td>1.0</td>\n",
       "      <td>1.0</td>\n",
       "      <td>1</td>\n",
       "    </tr>\n",
       "    <tr>\n",
       "      <th>32602</th>\n",
       "      <td>NaN</td>\n",
       "      <td>0.0</td>\n",
       "      <td>125000.0</td>\n",
       "      <td>NaN</td>\n",
       "      <td>1.0</td>\n",
       "      <td>0.031744</td>\n",
       "      <td>0.105132294</td>\n",
       "      <td>0.0</td>\n",
       "      <td>0.0</td>\n",
       "      <td>NaN</td>\n",
       "      <td>0</td>\n",
       "    </tr>\n",
       "    <tr>\n",
       "      <th>33681</th>\n",
       "      <td>44.0</td>\n",
       "      <td>2.0</td>\n",
       "      <td>1560100.0</td>\n",
       "      <td>12.0</td>\n",
       "      <td>4.0</td>\n",
       "      <td>0.004013</td>\n",
       "      <td>0.163856205</td>\n",
       "      <td>0.0</td>\n",
       "      <td>0.0</td>\n",
       "      <td>0.0</td>\n",
       "      <td>0</td>\n",
       "    </tr>\n",
       "    <tr>\n",
       "      <th>34084</th>\n",
       "      <td>47.0</td>\n",
       "      <td>3.0</td>\n",
       "      <td>237490.0</td>\n",
       "      <td>8.0</td>\n",
       "      <td>2.0</td>\n",
       "      <td>0.015478</td>\n",
       "      <td>0.0</td>\n",
       "      <td>0.0</td>\n",
       "      <td>0.0</td>\n",
       "      <td>0.0</td>\n",
       "      <td>0</td>\n",
       "    </tr>\n",
       "    <tr>\n",
       "      <th>35952</th>\n",
       "      <td>NaN</td>\n",
       "      <td>0.0</td>\n",
       "      <td>184903.0</td>\n",
       "      <td>3.0</td>\n",
       "      <td>0.0</td>\n",
       "      <td>0.000665</td>\n",
       "      <td>0.195704966</td>\n",
       "      <td>0.0</td>\n",
       "      <td>0.0</td>\n",
       "      <td>0.0</td>\n",
       "      <td>0</td>\n",
       "    </tr>\n",
       "    <tr>\n",
       "      <th>36616</th>\n",
       "      <td>54.0</td>\n",
       "      <td>0.0</td>\n",
       "      <td>133000.0</td>\n",
       "      <td>6.0</td>\n",
       "      <td>1.0</td>\n",
       "      <td>0.027895</td>\n",
       "      <td>0.9999998999999999</td>\n",
       "      <td>0.0</td>\n",
       "      <td>0.0</td>\n",
       "      <td>0.0</td>\n",
       "      <td>0</td>\n",
       "    </tr>\n",
       "    <tr>\n",
       "      <th>37269</th>\n",
       "      <td>44.0</td>\n",
       "      <td>0.0</td>\n",
       "      <td>105496.0</td>\n",
       "      <td>19.0</td>\n",
       "      <td>1.0</td>\n",
       "      <td>0.022389</td>\n",
       "      <td>0,056339905999999995</td>\n",
       "      <td>0.0</td>\n",
       "      <td>0.0</td>\n",
       "      <td>0.0</td>\n",
       "      <td>0</td>\n",
       "    </tr>\n",
       "    <tr>\n",
       "      <th>41729</th>\n",
       "      <td>41.0</td>\n",
       "      <td>0.0</td>\n",
       "      <td>120000.0</td>\n",
       "      <td>4.0</td>\n",
       "      <td>1.0</td>\n",
       "      <td>0.037758</td>\n",
       "      <td>0.253306668</td>\n",
       "      <td>0.0</td>\n",
       "      <td>0.0</td>\n",
       "      <td>0.0</td>\n",
       "      <td>0</td>\n",
       "    </tr>\n",
       "    <tr>\n",
       "      <th>41975</th>\n",
       "      <td>57.0</td>\n",
       "      <td>1.0</td>\n",
       "      <td>173000.0</td>\n",
       "      <td>5.0</td>\n",
       "      <td>2.0</td>\n",
       "      <td>0.018196</td>\n",
       "      <td>0.385876454</td>\n",
       "      <td>0.0</td>\n",
       "      <td>0.0</td>\n",
       "      <td>0.0</td>\n",
       "      <td>0</td>\n",
       "    </tr>\n",
       "    <tr>\n",
       "      <th>43438</th>\n",
       "      <td>47.0</td>\n",
       "      <td>2.0</td>\n",
       "      <td>141500.0</td>\n",
       "      <td>4.0</td>\n",
       "      <td>1.0</td>\n",
       "      <td>0.030424</td>\n",
       "      <td>1.007832028</td>\n",
       "      <td>1.0</td>\n",
       "      <td>1.0</td>\n",
       "      <td>3.0</td>\n",
       "      <td>0</td>\n",
       "    </tr>\n",
       "    <tr>\n",
       "      <th>49347</th>\n",
       "      <td>NaN</td>\n",
       "      <td>0.0</td>\n",
       "      <td>304000.0</td>\n",
       "      <td>NaN</td>\n",
       "      <td>1.0</td>\n",
       "      <td>0.130473</td>\n",
       "      <td>0.006473484</td>\n",
       "      <td>0.0</td>\n",
       "      <td>0.0</td>\n",
       "      <td>0.0</td>\n",
       "      <td>0</td>\n",
       "    </tr>\n",
       "    <tr>\n",
       "      <th>53754</th>\n",
       "      <td>46.0</td>\n",
       "      <td>2.0</td>\n",
       "      <td>127400.0</td>\n",
       "      <td>15.0</td>\n",
       "      <td>4.0</td>\n",
       "      <td>0.109151</td>\n",
       "      <td>0.471148598</td>\n",
       "      <td>0.0</td>\n",
       "      <td>0.0</td>\n",
       "      <td>0.0</td>\n",
       "      <td>0</td>\n",
       "    </tr>\n",
       "    <tr>\n",
       "      <th>55203</th>\n",
       "      <td>59.0</td>\n",
       "      <td>1.0</td>\n",
       "      <td>287662.0</td>\n",
       "      <td>9.0</td>\n",
       "      <td>5.0</td>\n",
       "      <td>0.011941</td>\n",
       "      <td>0.15135675699999998</td>\n",
       "      <td>NaN</td>\n",
       "      <td>0.0</td>\n",
       "      <td>0.0</td>\n",
       "      <td>0</td>\n",
       "    </tr>\n",
       "    <tr>\n",
       "      <th>55338</th>\n",
       "      <td>NaN</td>\n",
       "      <td>1.0</td>\n",
       "      <td>148000.0</td>\n",
       "      <td>2.0</td>\n",
       "      <td>0.0</td>\n",
       "      <td>0.002845</td>\n",
       "      <td>NaN</td>\n",
       "      <td>1.0</td>\n",
       "      <td>0.0</td>\n",
       "      <td>0.0</td>\n",
       "      <td>0</td>\n",
       "    </tr>\n",
       "    <tr>\n",
       "      <th>56348</th>\n",
       "      <td>51.0</td>\n",
       "      <td>2.0</td>\n",
       "      <td>121150.0</td>\n",
       "      <td>4.0</td>\n",
       "      <td>0.0</td>\n",
       "      <td>0.006752</td>\n",
       "      <td>0.17840065</td>\n",
       "      <td>0.0</td>\n",
       "      <td>0.0</td>\n",
       "      <td>0.0</td>\n",
       "      <td>0</td>\n",
       "    </tr>\n",
       "    <tr>\n",
       "      <th>64157</th>\n",
       "      <td>61.0</td>\n",
       "      <td>1.0</td>\n",
       "      <td>166700.0</td>\n",
       "      <td>6.0</td>\n",
       "      <td>0.0</td>\n",
       "      <td>0.000096</td>\n",
       "      <td>0.020141898000000002</td>\n",
       "      <td>0.0</td>\n",
       "      <td>0.0</td>\n",
       "      <td>0.0</td>\n",
       "      <td>0</td>\n",
       "    </tr>\n",
       "    <tr>\n",
       "      <th>66605</th>\n",
       "      <td>35.0</td>\n",
       "      <td>2.0</td>\n",
       "      <td>131800.0</td>\n",
       "      <td>NaN</td>\n",
       "      <td>1.0</td>\n",
       "      <td>0.033475</td>\n",
       "      <td>0.362211345</td>\n",
       "      <td>1.0</td>\n",
       "      <td>0.0</td>\n",
       "      <td>0.0</td>\n",
       "      <td>0</td>\n",
       "    </tr>\n",
       "    <tr>\n",
       "      <th>67377</th>\n",
       "      <td>74.0</td>\n",
       "      <td>0.0</td>\n",
       "      <td>121000.0</td>\n",
       "      <td>NaN</td>\n",
       "      <td>NaN</td>\n",
       "      <td>0.006033</td>\n",
       "      <td>NaN</td>\n",
       "      <td>0.0</td>\n",
       "      <td>0.0</td>\n",
       "      <td>0.0</td>\n",
       "      <td>0</td>\n",
       "    </tr>\n",
       "    <tr>\n",
       "      <th>67468</th>\n",
       "      <td>49.0</td>\n",
       "      <td>0.0</td>\n",
       "      <td>119000.0</td>\n",
       "      <td>6.0</td>\n",
       "      <td>2.0</td>\n",
       "      <td>0.013891</td>\n",
       "      <td>0.10856832699999999</td>\n",
       "      <td>0.0</td>\n",
       "      <td>0.0</td>\n",
       "      <td>0.0</td>\n",
       "      <td>0</td>\n",
       "    </tr>\n",
       "    <tr>\n",
       "      <th>68454</th>\n",
       "      <td>NaN</td>\n",
       "      <td>3.0</td>\n",
       "      <td>237400.0</td>\n",
       "      <td>10.0</td>\n",
       "      <td>2.0</td>\n",
       "      <td>0.015973</td>\n",
       "      <td>0.190131667</td>\n",
       "      <td>0.0</td>\n",
       "      <td>0.0</td>\n",
       "      <td>0.0</td>\n",
       "      <td>0</td>\n",
       "    </tr>\n",
       "    <tr>\n",
       "      <th>72094</th>\n",
       "      <td>NaN</td>\n",
       "      <td>1.0</td>\n",
       "      <td>699530.0</td>\n",
       "      <td>11.0</td>\n",
       "      <td>2.0</td>\n",
       "      <td>0.003698</td>\n",
       "      <td>0.06415536299999999</td>\n",
       "      <td>0.0</td>\n",
       "      <td>0.0</td>\n",
       "      <td>0.0</td>\n",
       "      <td>0</td>\n",
       "    </tr>\n",
       "  </tbody>\n",
       "</table>\n",
       "</div>"
      ],
      "text/plain": [
       "        age  number_dependent_family_members  monthly_income  \\\n",
       "Id                                                             \n",
       "2100   50.0                              1.0        143000.0   \n",
       "6464   64.0                              1.0        582369.0   \n",
       "8203   44.0                              1.0       1072500.0   \n",
       "10882  44.0                              0.0        440000.0   \n",
       "11391  56.0                              NaN        110775.0   \n",
       "11430  83.0                              NaN        629000.0   \n",
       "15696  43.0                              2.0        112000.0   \n",
       "16553  35.0                              2.0        114344.0   \n",
       "18057  53.0                              0.0        112100.0   \n",
       "19805  51.0                              4.0        142000.0   \n",
       "20193  57.0                              4.0        261666.0   \n",
       "20628  44.0                              3.0        408333.0   \n",
       "25337  43.0                              1.0        208333.0   \n",
       "29236  65.0                              1.0        105591.0   \n",
       "29578  63.0                              0.0        126333.0   \n",
       "32549  72.0                              NaN        128000.0   \n",
       "32589  53.0                              0.0        234600.0   \n",
       "32602   NaN                              0.0        125000.0   \n",
       "33681  44.0                              2.0       1560100.0   \n",
       "34084  47.0                              3.0        237490.0   \n",
       "35952   NaN                              0.0        184903.0   \n",
       "36616  54.0                              0.0        133000.0   \n",
       "37269  44.0                              0.0        105496.0   \n",
       "41729  41.0                              0.0        120000.0   \n",
       "41975  57.0                              1.0        173000.0   \n",
       "43438  47.0                              2.0        141500.0   \n",
       "49347   NaN                              0.0        304000.0   \n",
       "53754  46.0                              2.0        127400.0   \n",
       "55203  59.0                              1.0        287662.0   \n",
       "55338   NaN                              1.0        148000.0   \n",
       "56348  51.0                              2.0        121150.0   \n",
       "64157  61.0                              1.0        166700.0   \n",
       "66605  35.0                              2.0        131800.0   \n",
       "67377  74.0                              0.0        121000.0   \n",
       "67468  49.0                              0.0        119000.0   \n",
       "68454   NaN                              3.0        237400.0   \n",
       "72094   NaN                              1.0        699530.0   \n",
       "\n",
       "       number_of_credit_lines  real_estate_loans  \\\n",
       "Id                                                 \n",
       "2100                      NaN                1.0   \n",
       "6464                     11.0                NaN   \n",
       "8203                      9.0                2.0   \n",
       "10882                     2.0                NaN   \n",
       "11391                     NaN                2.0   \n",
       "11430                     3.0                0.0   \n",
       "15696                    19.0                4.0   \n",
       "16553                    11.0                2.0   \n",
       "18057                    16.0                1.0   \n",
       "19805                    15.0                2.0   \n",
       "20193                    12.0                NaN   \n",
       "20628                     6.0                2.0   \n",
       "25337                    11.0                1.0   \n",
       "29236                    33.0                3.0   \n",
       "29578                     8.0                2.0   \n",
       "32549                    18.0                2.0   \n",
       "32589                    17.0                6.0   \n",
       "32602                     NaN                1.0   \n",
       "33681                    12.0                4.0   \n",
       "34084                     8.0                2.0   \n",
       "35952                     3.0                0.0   \n",
       "36616                     6.0                1.0   \n",
       "37269                    19.0                1.0   \n",
       "41729                     4.0                1.0   \n",
       "41975                     5.0                2.0   \n",
       "43438                     4.0                1.0   \n",
       "49347                     NaN                1.0   \n",
       "53754                    15.0                4.0   \n",
       "55203                     9.0                5.0   \n",
       "55338                     2.0                0.0   \n",
       "56348                     4.0                0.0   \n",
       "64157                     6.0                0.0   \n",
       "66605                     NaN                1.0   \n",
       "67377                     NaN                NaN   \n",
       "67468                     6.0                2.0   \n",
       "68454                    10.0                2.0   \n",
       "72094                    11.0                2.0   \n",
       "\n",
       "       ratio_debt_payment_to_income credit_line_utilization  \\\n",
       "Id                                                            \n",
       "2100                       0.008671                     0,0   \n",
       "6464                       0.004003             0.439684124   \n",
       "8203                       0.004537                     NaN   \n",
       "10882                      0.002459             0.946866643   \n",
       "11391                      0.038005             0.404801425   \n",
       "11430                      0.000000                     0.0   \n",
       "15696                      0.092633             0.320561439   \n",
       "16553                      0.017841             0.828865884   \n",
       "18057                           NaN             0.000559034   \n",
       "19805                      0.021373             0.177332627   \n",
       "20193                      0.012160     0.19640396100000002   \n",
       "20628                      0.024933             0,176144318   \n",
       "25337                      0.009691             0.007982621   \n",
       "29236                      0.092043             0.416125575   \n",
       "29578                      0.033728             0.746407316   \n",
       "32549                      0.024297             0.257346394   \n",
       "32589                      0.050533                     0.0   \n",
       "32602                      0.031744             0.105132294   \n",
       "33681                      0.004013             0.163856205   \n",
       "34084                      0.015478                     0.0   \n",
       "35952                      0.000665             0.195704966   \n",
       "36616                      0.027895      0.9999998999999999   \n",
       "37269                      0.022389    0,056339905999999995   \n",
       "41729                      0.037758             0.253306668   \n",
       "41975                      0.018196             0.385876454   \n",
       "43438                      0.030424             1.007832028   \n",
       "49347                      0.130473             0.006473484   \n",
       "53754                      0.109151             0.471148598   \n",
       "55203                      0.011941     0.15135675699999998   \n",
       "55338                      0.002845                     NaN   \n",
       "56348                      0.006752              0.17840065   \n",
       "64157                      0.000096    0.020141898000000002   \n",
       "66605                      0.033475             0.362211345   \n",
       "67377                      0.006033                     NaN   \n",
       "67468                      0.013891     0.10856832699999999   \n",
       "68454                      0.015973             0.190131667   \n",
       "72094                      0.003698     0.06415536299999999   \n",
       "\n",
       "       number_of_previous_late_payments_up_to_59_days  \\\n",
       "Id                                                      \n",
       "2100                                              0.0   \n",
       "6464                                              0.0   \n",
       "8203                                              1.0   \n",
       "10882                                             2.0   \n",
       "11391                                             0.0   \n",
       "11430                                             0.0   \n",
       "15696                                             0.0   \n",
       "16553                                             0.0   \n",
       "18057                                             0.0   \n",
       "19805                                             0.0   \n",
       "20193                                             1.0   \n",
       "20628                                             0.0   \n",
       "25337                                             1.0   \n",
       "29236                                             0.0   \n",
       "29578                                             0.0   \n",
       "32549                                             0.0   \n",
       "32589                                             4.0   \n",
       "32602                                             0.0   \n",
       "33681                                             0.0   \n",
       "34084                                             0.0   \n",
       "35952                                             0.0   \n",
       "36616                                             0.0   \n",
       "37269                                             0.0   \n",
       "41729                                             0.0   \n",
       "41975                                             0.0   \n",
       "43438                                             1.0   \n",
       "49347                                             0.0   \n",
       "53754                                             0.0   \n",
       "55203                                             NaN   \n",
       "55338                                             1.0   \n",
       "56348                                             0.0   \n",
       "64157                                             0.0   \n",
       "66605                                             1.0   \n",
       "67377                                             0.0   \n",
       "67468                                             0.0   \n",
       "68454                                             0.0   \n",
       "72094                                             0.0   \n",
       "\n",
       "       number_of_previous_late_payments_up_to_89_days  \\\n",
       "Id                                                      \n",
       "2100                                              0.0   \n",
       "6464                                              0.0   \n",
       "8203                                              0.0   \n",
       "10882                                             1.0   \n",
       "11391                                             0.0   \n",
       "11430                                             0.0   \n",
       "15696                                             0.0   \n",
       "16553                                             0.0   \n",
       "18057                                             0.0   \n",
       "19805                                             0.0   \n",
       "20193                                             0.0   \n",
       "20628                                             0.0   \n",
       "25337                                             0.0   \n",
       "29236                                             0.0   \n",
       "29578                                             0.0   \n",
       "32549                                             NaN   \n",
       "32589                                             1.0   \n",
       "32602                                             0.0   \n",
       "33681                                             0.0   \n",
       "34084                                             0.0   \n",
       "35952                                             0.0   \n",
       "36616                                             0.0   \n",
       "37269                                             0.0   \n",
       "41729                                             0.0   \n",
       "41975                                             0.0   \n",
       "43438                                             1.0   \n",
       "49347                                             0.0   \n",
       "53754                                             0.0   \n",
       "55203                                             0.0   \n",
       "55338                                             0.0   \n",
       "56348                                             0.0   \n",
       "64157                                             0.0   \n",
       "66605                                             0.0   \n",
       "67377                                             0.0   \n",
       "67468                                             0.0   \n",
       "68454                                             0.0   \n",
       "72094                                             0.0   \n",
       "\n",
       "       number_of_previous_late_payments_90_days_or_more  defaulted_on_loan  \n",
       "Id                                                                          \n",
       "2100                                                0.0                  0  \n",
       "6464                                                0.0                  0  \n",
       "8203                                                0.0                  0  \n",
       "10882                                               0.0                  0  \n",
       "11391                                               0.0                  0  \n",
       "11430                                               0.0                  0  \n",
       "15696                                               0.0                  0  \n",
       "16553                                               0.0                  0  \n",
       "18057                                               0.0                  0  \n",
       "19805                                               0.0                  0  \n",
       "20193                                               0.0                  0  \n",
       "20628                                               0.0                  0  \n",
       "25337                                               0.0                  0  \n",
       "29236                                               1.0                  0  \n",
       "29578                                               0.0                  0  \n",
       "32549                                               0.0                  0  \n",
       "32589                                               1.0                  1  \n",
       "32602                                               NaN                  0  \n",
       "33681                                               0.0                  0  \n",
       "34084                                               0.0                  0  \n",
       "35952                                               0.0                  0  \n",
       "36616                                               0.0                  0  \n",
       "37269                                               0.0                  0  \n",
       "41729                                               0.0                  0  \n",
       "41975                                               0.0                  0  \n",
       "43438                                               3.0                  0  \n",
       "49347                                               0.0                  0  \n",
       "53754                                               0.0                  0  \n",
       "55203                                               0.0                  0  \n",
       "55338                                               0.0                  0  \n",
       "56348                                               0.0                  0  \n",
       "64157                                               0.0                  0  \n",
       "66605                                               0.0                  0  \n",
       "67377                                               0.0                  0  \n",
       "67468                                               0.0                  0  \n",
       "68454                                               0.0                  0  \n",
       "72094                                               0.0                  0  "
      ]
     },
     "execution_count": 42,
     "metadata": {},
     "output_type": "execute_result"
    }
   ],
   "source": [
    "df[df['monthly_income'] > 100000]"
   ]
  },
  {
   "cell_type": "markdown",
   "id": "a47cc6a6",
   "metadata": {},
   "source": [
    "<i>We have 37 rows with monthly_income over than 100,000$."
   ]
  },
  {
   "cell_type": "raw",
   "id": "e13f78dc",
   "metadata": {},
   "source": []
  },
  {
   "cell_type": "markdown",
   "id": "095cbca3",
   "metadata": {},
   "source": [
    "#### <font size='5'><i> 4. Number_of_credit_lines"
   ]
  },
  {
   "cell_type": "code",
   "execution_count": 43,
   "id": "c929732e",
   "metadata": {
    "scrolled": true
   },
   "outputs": [
    {
     "data": {
      "text/plain": [
       "6.0     5955\n",
       "7.0     5840\n",
       "5.0     5535\n",
       "8.0     5524\n",
       "9.0     5183\n",
       "4.0     4855\n",
       "10.0    4463\n",
       "11.0    3821\n",
       "3.0     3628\n",
       "12.0    3279\n",
       "13.0    2683\n",
       "2.0     2556\n",
       "14.0    2119\n",
       "15.0    1744\n",
       "1.0     1633\n",
       "16.0    1390\n",
       "17.0    1099\n",
       "18.0     881\n",
       "19.0     657\n",
       "0.0      638\n",
       "20.0     587\n",
       "21.0     415\n",
       "22.0     331\n",
       "23.0     252\n",
       "24.0     208\n",
       "25.0     160\n",
       "26.0     113\n",
       "27.0     100\n",
       "28.0      75\n",
       "29.0      57\n",
       "30.0      45\n",
       "31.0      36\n",
       "32.0      32\n",
       "33.0      20\n",
       "34.0      19\n",
       "36.0      11\n",
       "35.0      11\n",
       "40.0       6\n",
       "39.0       5\n",
       "42.0       5\n",
       "45.0       5\n",
       "38.0       4\n",
       "37.0       3\n",
       "48.0       3\n",
       "43.0       3\n",
       "49.0       3\n",
       "54.0       3\n",
       "46.0       2\n",
       "52.0       2\n",
       "57.0       2\n",
       "53.0       1\n",
       "51.0       1\n",
       "44.0       1\n",
       "50.0       1\n",
       "56.0       1\n",
       "47.0       1\n",
       "Name: number_of_credit_lines, dtype: int64"
      ]
     },
     "execution_count": 43,
     "metadata": {},
     "output_type": "execute_result"
    }
   ],
   "source": [
    "df['number_of_credit_lines'].value_counts()"
   ]
  },
  {
   "cell_type": "code",
   "execution_count": 44,
   "id": "80ca9bac",
   "metadata": {},
   "outputs": [
    {
     "name": "stdout",
     "output_type": "stream",
     "text": [
      "0.0\n",
      "57.0\n"
     ]
    }
   ],
   "source": [
    "print(df.number_of_credit_lines.min())\n",
    "print(df.number_of_credit_lines.max())"
   ]
  },
  {
   "cell_type": "code",
   "execution_count": 45,
   "id": "5febc11c",
   "metadata": {},
   "outputs": [
    {
     "name": "stdout",
     "output_type": "stream",
     "text": [
      "Minimum number of credit lines in our dataset is 0.0.\n",
      "Maximum number of credit lines in our dataset is 57.0.\n"
     ]
    }
   ],
   "source": [
    "print(f'Minimum number of credit lines in our dataset is {df.number_of_credit_lines.min()}.')\n",
    "print(f'Maximum number of credit lines in our dataset is {df.number_of_credit_lines.max()}.')"
   ]
  },
  {
   "cell_type": "code",
   "execution_count": 46,
   "id": "8cbf9816",
   "metadata": {},
   "outputs": [
    {
     "name": "stdout",
     "output_type": "stream",
     "text": [
      "Number of unique values in the \"number_of_credit_lines\" column is 56.\n"
     ]
    }
   ],
   "source": [
    "df['number_of_credit_lines'].nunique() # We can see there are 56 unique values in this column.\n",
    "print(f'Number of unique values in the \"number_of_credit_lines\" column is {df.number_of_credit_lines.nunique()}.')"
   ]
  },
  {
   "cell_type": "code",
   "execution_count": 47,
   "id": "e7ce6cbe",
   "metadata": {
    "scrolled": false
   },
   "outputs": [
    {
     "data": {
      "text/plain": [
       "<AxesSubplot:xlabel='number_of_credit_lines', ylabel='Density'>"
      ]
     },
     "execution_count": 47,
     "metadata": {},
     "output_type": "execute_result"
    },
    {
     "data": {
      "image/png": "[encoded data removed]",
      "text/plain": [
       "<Figure size 864x576 with 1 Axes>"
      ]
     },
     "metadata": {},
     "output_type": "display_data"
    }
   ],
   "source": [
    "sns.distplot(df['number_of_credit_lines'])"
   ]
  },
  {
   "cell_type": "markdown",
   "id": "48d89e48",
   "metadata": {},
   "source": [
    "<i><font size='3'> As it is seen from the distribution plot, we have right-skewed distribution and a few outliers."
   ]
  },
  {
   "cell_type": "code",
   "execution_count": 48,
   "id": "22888c2c",
   "metadata": {},
   "outputs": [
    {
     "name": "stdout",
     "output_type": "stream",
     "text": [
      "Median number_of_credit_lines is: 8.0\n",
      "Mean number_of_credit_lines is: 8.756192525035223\n"
     ]
    }
   ],
   "source": [
    "print(f'Median number_of_credit_lines is: {df.number_of_credit_lines.median()}')\n",
    "print(f'Mean number_of_credit_lines is: {df.number_of_credit_lines.mean()}')"
   ]
  },
  {
   "cell_type": "code",
   "execution_count": 49,
   "id": "36f375f7",
   "metadata": {
    "scrolled": false
   },
   "outputs": [
    {
     "data": {
      "text/plain": [
       "<AxesSubplot:xlabel='number_of_credit_lines'>"
      ]
     },
     "execution_count": 49,
     "metadata": {},
     "output_type": "execute_result"
    },
    {
     "data": {
      "image/png": "[encoded data removed]",
      "text/plain": [
       "<Figure size 864x576 with 1 Axes>"
      ]
     },
     "metadata": {},
     "output_type": "display_data"
    }
   ],
   "source": [
    "sns.boxplot(df['number_of_credit_lines'],color='navy')"
   ]
  },
  {
   "cell_type": "markdown",
   "id": "b648d83e",
   "metadata": {},
   "source": [
    "<i>Same applies to the BoxPlot as well. We have very much outliers and in case of model builing we definitely need to deal with these Outliers."
   ]
  },
  {
   "cell_type": "code",
   "execution_count": 50,
   "id": "93494006",
   "metadata": {},
   "outputs": [
    {
     "data": {
      "text/html": [
       "<div>\n",
       "<style scoped>\n",
       "    .dataframe tbody tr th:only-of-type {\n",
       "        vertical-align: middle;\n",
       "    }\n",
       "\n",
       "    .dataframe tbody tr th {\n",
       "        vertical-align: top;\n",
       "    }\n",
       "\n",
       "    .dataframe thead th {\n",
       "        text-align: right;\n",
       "    }\n",
       "</style>\n",
       "<table border=\"1\" class=\"dataframe\">\n",
       "  <thead>\n",
       "    <tr style=\"text-align: right;\">\n",
       "      <th></th>\n",
       "      <th>age</th>\n",
       "      <th>number_dependent_family_members</th>\n",
       "      <th>monthly_income</th>\n",
       "      <th>number_of_credit_lines</th>\n",
       "      <th>real_estate_loans</th>\n",
       "      <th>ratio_debt_payment_to_income</th>\n",
       "      <th>credit_line_utilization</th>\n",
       "      <th>number_of_previous_late_payments_up_to_59_days</th>\n",
       "      <th>number_of_previous_late_payments_up_to_89_days</th>\n",
       "      <th>number_of_previous_late_payments_90_days_or_more</th>\n",
       "      <th>defaulted_on_loan</th>\n",
       "    </tr>\n",
       "    <tr>\n",
       "      <th>Id</th>\n",
       "      <th></th>\n",
       "      <th></th>\n",
       "      <th></th>\n",
       "      <th></th>\n",
       "      <th></th>\n",
       "      <th></th>\n",
       "      <th></th>\n",
       "      <th></th>\n",
       "      <th></th>\n",
       "      <th></th>\n",
       "      <th></th>\n",
       "    </tr>\n",
       "  </thead>\n",
       "  <tbody>\n",
       "    <tr>\n",
       "      <th>85</th>\n",
       "      <td>48.0</td>\n",
       "      <td>1.0</td>\n",
       "      <td>3000.0</td>\n",
       "      <td>32.0</td>\n",
       "      <td>1.0</td>\n",
       "      <td>0.775075</td>\n",
       "      <td>0.088946475</td>\n",
       "      <td>0.0</td>\n",
       "      <td>0.0</td>\n",
       "      <td>0.0</td>\n",
       "      <td>0</td>\n",
       "    </tr>\n",
       "    <tr>\n",
       "      <th>655</th>\n",
       "      <td>67.0</td>\n",
       "      <td>0.0</td>\n",
       "      <td>7966.0</td>\n",
       "      <td>32.0</td>\n",
       "      <td>NaN</td>\n",
       "      <td>0.413832</td>\n",
       "      <td>0.418062726</td>\n",
       "      <td>0.0</td>\n",
       "      <td>0.0</td>\n",
       "      <td>0.0</td>\n",
       "      <td>0</td>\n",
       "    </tr>\n",
       "    <tr>\n",
       "      <th>708</th>\n",
       "      <td>54.0</td>\n",
       "      <td>1.0</td>\n",
       "      <td>6416.0</td>\n",
       "      <td>32.0</td>\n",
       "      <td>1.0</td>\n",
       "      <td>0.390681</td>\n",
       "      <td>NaN</td>\n",
       "      <td>NaN</td>\n",
       "      <td>0.0</td>\n",
       "      <td>0.0</td>\n",
       "      <td>0</td>\n",
       "    </tr>\n",
       "    <tr>\n",
       "      <th>1295</th>\n",
       "      <td>74.0</td>\n",
       "      <td>0.0</td>\n",
       "      <td>10500.0</td>\n",
       "      <td>36.0</td>\n",
       "      <td>1.0</td>\n",
       "      <td>0.206742</td>\n",
       "      <td>0.152357769</td>\n",
       "      <td>0.0</td>\n",
       "      <td>0.0</td>\n",
       "      <td>0.0</td>\n",
       "      <td>0</td>\n",
       "    </tr>\n",
       "    <tr>\n",
       "      <th>1398</th>\n",
       "      <td>33.0</td>\n",
       "      <td>1.0</td>\n",
       "      <td>8500.0</td>\n",
       "      <td>35.0</td>\n",
       "      <td>2.0</td>\n",
       "      <td>0.469357</td>\n",
       "      <td>0.38843440799999995</td>\n",
       "      <td>0.0</td>\n",
       "      <td>0.0</td>\n",
       "      <td>0.0</td>\n",
       "      <td>0</td>\n",
       "    </tr>\n",
       "    <tr>\n",
       "      <th>...</th>\n",
       "      <td>...</td>\n",
       "      <td>...</td>\n",
       "      <td>...</td>\n",
       "      <td>...</td>\n",
       "      <td>...</td>\n",
       "      <td>...</td>\n",
       "      <td>...</td>\n",
       "      <td>...</td>\n",
       "      <td>...</td>\n",
       "      <td>...</td>\n",
       "      <td>...</td>\n",
       "    </tr>\n",
       "    <tr>\n",
       "      <th>70920</th>\n",
       "      <td>64.0</td>\n",
       "      <td>1.0</td>\n",
       "      <td>9916.0</td>\n",
       "      <td>50.0</td>\n",
       "      <td>2.0</td>\n",
       "      <td>0.793284</td>\n",
       "      <td>0.155242463</td>\n",
       "      <td>NaN</td>\n",
       "      <td>0.0</td>\n",
       "      <td>0.0</td>\n",
       "      <td>0</td>\n",
       "    </tr>\n",
       "    <tr>\n",
       "      <th>71314</th>\n",
       "      <td>70.0</td>\n",
       "      <td>2.0</td>\n",
       "      <td>NaN</td>\n",
       "      <td>56.0</td>\n",
       "      <td>0.0</td>\n",
       "      <td>0.074935</td>\n",
       "      <td>0,020225958</td>\n",
       "      <td>0.0</td>\n",
       "      <td>0.0</td>\n",
       "      <td>0.0</td>\n",
       "      <td>0</td>\n",
       "    </tr>\n",
       "    <tr>\n",
       "      <th>71585</th>\n",
       "      <td>62.0</td>\n",
       "      <td>NaN</td>\n",
       "      <td>12500.0</td>\n",
       "      <td>47.0</td>\n",
       "      <td>2.0</td>\n",
       "      <td>0.269178</td>\n",
       "      <td>0.001821271</td>\n",
       "      <td>0.0</td>\n",
       "      <td>NaN</td>\n",
       "      <td>0.0</td>\n",
       "      <td>0</td>\n",
       "    </tr>\n",
       "    <tr>\n",
       "      <th>71703</th>\n",
       "      <td>72.0</td>\n",
       "      <td>0.0</td>\n",
       "      <td>10500.0</td>\n",
       "      <td>32.0</td>\n",
       "      <td>1.0</td>\n",
       "      <td>0.109609</td>\n",
       "      <td>0.08702933199999999</td>\n",
       "      <td>0.0</td>\n",
       "      <td>0.0</td>\n",
       "      <td>0.0</td>\n",
       "      <td>0</td>\n",
       "    </tr>\n",
       "    <tr>\n",
       "      <th>71981</th>\n",
       "      <td>44.0</td>\n",
       "      <td>2.0</td>\n",
       "      <td>NaN</td>\n",
       "      <td>42.0</td>\n",
       "      <td>25.0</td>\n",
       "      <td>1.237481</td>\n",
       "      <td>0,297748298</td>\n",
       "      <td>0.0</td>\n",
       "      <td>0.0</td>\n",
       "      <td>0.0</td>\n",
       "      <td>0</td>\n",
       "    </tr>\n",
       "  </tbody>\n",
       "</table>\n",
       "<p>181 rows × 11 columns</p>\n",
       "</div>"
      ],
      "text/plain": [
       "        age  number_dependent_family_members  monthly_income  \\\n",
       "Id                                                             \n",
       "85     48.0                              1.0          3000.0   \n",
       "655    67.0                              0.0          7966.0   \n",
       "708    54.0                              1.0          6416.0   \n",
       "1295   74.0                              0.0         10500.0   \n",
       "1398   33.0                              1.0          8500.0   \n",
       "...     ...                              ...             ...   \n",
       "70920  64.0                              1.0          9916.0   \n",
       "71314  70.0                              2.0             NaN   \n",
       "71585  62.0                              NaN         12500.0   \n",
       "71703  72.0                              0.0         10500.0   \n",
       "71981  44.0                              2.0             NaN   \n",
       "\n",
       "       number_of_credit_lines  real_estate_loans  \\\n",
       "Id                                                 \n",
       "85                       32.0                1.0   \n",
       "655                      32.0                NaN   \n",
       "708                      32.0                1.0   \n",
       "1295                     36.0                1.0   \n",
       "1398                     35.0                2.0   \n",
       "...                       ...                ...   \n",
       "70920                    50.0                2.0   \n",
       "71314                    56.0                0.0   \n",
       "71585                    47.0                2.0   \n",
       "71703                    32.0                1.0   \n",
       "71981                    42.0               25.0   \n",
       "\n",
       "       ratio_debt_payment_to_income credit_line_utilization  \\\n",
       "Id                                                            \n",
       "85                         0.775075             0.088946475   \n",
       "655                        0.413832             0.418062726   \n",
       "708                        0.390681                     NaN   \n",
       "1295                       0.206742             0.152357769   \n",
       "1398                       0.469357     0.38843440799999995   \n",
       "...                             ...                     ...   \n",
       "70920                      0.793284             0.155242463   \n",
       "71314                      0.074935             0,020225958   \n",
       "71585                      0.269178             0.001821271   \n",
       "71703                      0.109609     0.08702933199999999   \n",
       "71981                      1.237481             0,297748298   \n",
       "\n",
       "       number_of_previous_late_payments_up_to_59_days  \\\n",
       "Id                                                      \n",
       "85                                                0.0   \n",
       "655                                               0.0   \n",
       "708                                               NaN   \n",
       "1295                                              0.0   \n",
       "1398                                              0.0   \n",
       "...                                               ...   \n",
       "70920                                             NaN   \n",
       "71314                                             0.0   \n",
       "71585                                             0.0   \n",
       "71703                                             0.0   \n",
       "71981                                             0.0   \n",
       "\n",
       "       number_of_previous_late_payments_up_to_89_days  \\\n",
       "Id                                                      \n",
       "85                                                0.0   \n",
       "655                                               0.0   \n",
       "708                                               0.0   \n",
       "1295                                              0.0   \n",
       "1398                                              0.0   \n",
       "...                                               ...   \n",
       "70920                                             0.0   \n",
       "71314                                             0.0   \n",
       "71585                                             NaN   \n",
       "71703                                             0.0   \n",
       "71981                                             0.0   \n",
       "\n",
       "       number_of_previous_late_payments_90_days_or_more  defaulted_on_loan  \n",
       "Id                                                                          \n",
       "85                                                  0.0                  0  \n",
       "655                                                 0.0                  0  \n",
       "708                                                 0.0                  0  \n",
       "1295                                                0.0                  0  \n",
       "1398                                                0.0                  0  \n",
       "...                                                 ...                ...  \n",
       "70920                                               0.0                  0  \n",
       "71314                                               0.0                  0  \n",
       "71585                                               0.0                  0  \n",
       "71703                                               0.0                  0  \n",
       "71981                                               0.0                  0  \n",
       "\n",
       "[181 rows x 11 columns]"
      ]
     },
     "execution_count": 50,
     "metadata": {},
     "output_type": "execute_result"
    }
   ],
   "source": [
    "df[df['number_of_credit_lines'] > 30]"
   ]
  },
  {
   "cell_type": "raw",
   "id": "f7fcf03f",
   "metadata": {},
   "source": []
  },
  {
   "cell_type": "markdown",
   "id": "15067143",
   "metadata": {},
   "source": [
    "#### <font size='5'><i> 5. Real_estate_loans"
   ]
  },
  {
   "cell_type": "code",
   "execution_count": 51,
   "id": "7d4f1cbe",
   "metadata": {},
   "outputs": [
    {
     "data": {
      "text/plain": [
       "0.0     24767\n",
       "1.0     23657\n",
       "2.0     15070\n",
       "3.0      3097\n",
       "4.0      1061\n",
       "5.0       333\n",
       "6.0       172\n",
       "7.0        73\n",
       "8.0        41\n",
       "9.0        30\n",
       "10.0       21\n",
       "13.0        8\n",
       "11.0        7\n",
       "12.0        7\n",
       "15.0        4\n",
       "14.0        3\n",
       "19.0        1\n",
       "18.0        1\n",
       "16.0        1\n",
       "25.0        1\n",
       "Name: real_estate_loans, dtype: int64"
      ]
     },
     "execution_count": 51,
     "metadata": {},
     "output_type": "execute_result"
    }
   ],
   "source": [
    "df['real_estate_loans'].value_counts()"
   ]
  },
  {
   "cell_type": "code",
   "execution_count": 52,
   "id": "b5327a72",
   "metadata": {
    "scrolled": false
   },
   "outputs": [
    {
     "data": {
      "text/plain": [
       "0.0     0.362329\n",
       "1.0     0.346090\n",
       "2.0     0.220467\n",
       "3.0     0.045308\n",
       "4.0     0.015522\n",
       "5.0     0.004872\n",
       "6.0     0.002516\n",
       "7.0     0.001068\n",
       "8.0     0.000600\n",
       "9.0     0.000439\n",
       "10.0    0.000307\n",
       "13.0    0.000117\n",
       "11.0    0.000102\n",
       "12.0    0.000102\n",
       "15.0    0.000059\n",
       "14.0    0.000044\n",
       "19.0    0.000015\n",
       "18.0    0.000015\n",
       "16.0    0.000015\n",
       "25.0    0.000015\n",
       "Name: real_estate_loans, dtype: float64"
      ]
     },
     "execution_count": 52,
     "metadata": {},
     "output_type": "execute_result"
    }
   ],
   "source": [
    "df['real_estate_loans'].value_counts(normalize='True')"
   ]
  },
  {
   "cell_type": "markdown",
   "id": "f582c00d",
   "metadata": {},
   "source": [
    "<i> Number of real estate loans are mainly consist of 0 , 1 and 2"
   ]
  },
  {
   "cell_type": "code",
   "execution_count": 53,
   "id": "6cf8d101",
   "metadata": {},
   "outputs": [
    {
     "name": "stdout",
     "output_type": "stream",
     "text": [
      "0.0\n",
      "25.0\n"
     ]
    }
   ],
   "source": [
    "print(df['real_estate_loans'].min())\n",
    "print(df['real_estate_loans'].max())"
   ]
  },
  {
   "cell_type": "code",
   "execution_count": 54,
   "id": "72d35ba3",
   "metadata": {},
   "outputs": [
    {
     "name": "stdout",
     "output_type": "stream",
     "text": [
      "Minimum real_estate_loans in our dataset is 0.0.\n",
      "Maximum real_estate_loans in our dataset is 25.0.\n"
     ]
    }
   ],
   "source": [
    "print(f'Minimum real_estate_loans in our dataset is {df.real_estate_loans.min()}.')\n",
    "print(f'Maximum real_estate_loans in our dataset is {df.real_estate_loans.max()}.')"
   ]
  },
  {
   "cell_type": "code",
   "execution_count": 55,
   "id": "2816f1e0",
   "metadata": {},
   "outputs": [
    {
     "name": "stdout",
     "output_type": "stream",
     "text": [
      "Number of unique values in the \"real_estate_loans\" column is 20.\n"
     ]
    }
   ],
   "source": [
    "df['real_estate_loans'].nunique() # We can see there are 20 unique values in this column.\n",
    "print(f'Number of unique values in the \"real_estate_loans\" column is {df.real_estate_loans.nunique()}.')"
   ]
  },
  {
   "cell_type": "code",
   "execution_count": 56,
   "id": "4fef2842",
   "metadata": {
    "scrolled": false
   },
   "outputs": [
    {
     "data": {
      "text/plain": [
       "<AxesSubplot:xlabel='real_estate_loans', ylabel='Density'>"
      ]
     },
     "execution_count": 56,
     "metadata": {},
     "output_type": "execute_result"
    },
    {
     "data": {
      "image/png": "[encoded data removed]",
      "text/plain": [
       "<Figure size 864x576 with 1 Axes>"
      ]
     },
     "metadata": {},
     "output_type": "display_data"
    }
   ],
   "source": [
    "plt.xlim(0,15)\n",
    "sns.distplot(df['real_estate_loans'])"
   ]
  },
  {
   "cell_type": "markdown",
   "id": "d639245a",
   "metadata": {},
   "source": [
    "<i> We, can say we have some <font color='red'> Outliers."
   ]
  },
  {
   "cell_type": "code",
   "execution_count": 57,
   "id": "bee90e79",
   "metadata": {},
   "outputs": [
    {
     "name": "stdout",
     "output_type": "stream",
     "text": [
      "Median real_estate_loans is: 1.0\n",
      "Mean real_estate_loans is: 1.0502962475312705\n"
     ]
    }
   ],
   "source": [
    "print(f'Median real_estate_loans is: {df.real_estate_loans.median()}')\n",
    "print(f'Mean real_estate_loans is: {df.real_estate_loans.mean()}')"
   ]
  },
  {
   "cell_type": "code",
   "execution_count": 58,
   "id": "a5da47de",
   "metadata": {},
   "outputs": [
    {
     "data": {
      "text/plain": [
       "<AxesSubplot:xlabel='real_estate_loans'>"
      ]
     },
     "execution_count": 58,
     "metadata": {},
     "output_type": "execute_result"
    },
    {
     "data": {
      "image/png": "[encoded data removed]",
      "text/plain": [
       "<Figure size 864x576 with 1 Axes>"
      ]
     },
     "metadata": {},
     "output_type": "display_data"
    }
   ],
   "source": [
    "sns.boxplot(df['real_estate_loans'],color='navy')"
   ]
  },
  {
   "cell_type": "code",
   "execution_count": 59,
   "id": "77198ebc",
   "metadata": {
    "scrolled": true
   },
   "outputs": [
    {
     "data": {
      "text/html": [
       "<div>\n",
       "<style scoped>\n",
       "    .dataframe tbody tr th:only-of-type {\n",
       "        vertical-align: middle;\n",
       "    }\n",
       "\n",
       "    .dataframe tbody tr th {\n",
       "        vertical-align: top;\n",
       "    }\n",
       "\n",
       "    .dataframe thead th {\n",
       "        text-align: right;\n",
       "    }\n",
       "</style>\n",
       "<table border=\"1\" class=\"dataframe\">\n",
       "  <thead>\n",
       "    <tr style=\"text-align: right;\">\n",
       "      <th></th>\n",
       "      <th>age</th>\n",
       "      <th>number_dependent_family_members</th>\n",
       "      <th>monthly_income</th>\n",
       "      <th>number_of_credit_lines</th>\n",
       "      <th>real_estate_loans</th>\n",
       "      <th>ratio_debt_payment_to_income</th>\n",
       "      <th>credit_line_utilization</th>\n",
       "      <th>number_of_previous_late_payments_up_to_59_days</th>\n",
       "      <th>number_of_previous_late_payments_up_to_89_days</th>\n",
       "      <th>number_of_previous_late_payments_90_days_or_more</th>\n",
       "      <th>defaulted_on_loan</th>\n",
       "    </tr>\n",
       "    <tr>\n",
       "      <th>Id</th>\n",
       "      <th></th>\n",
       "      <th></th>\n",
       "      <th></th>\n",
       "      <th></th>\n",
       "      <th></th>\n",
       "      <th></th>\n",
       "      <th></th>\n",
       "      <th></th>\n",
       "      <th></th>\n",
       "      <th></th>\n",
       "      <th></th>\n",
       "    </tr>\n",
       "  </thead>\n",
       "  <tbody>\n",
       "    <tr>\n",
       "      <th>2007</th>\n",
       "      <td>67.0</td>\n",
       "      <td>0.0</td>\n",
       "      <td>10000.0</td>\n",
       "      <td>29.0</td>\n",
       "      <td>18.0</td>\n",
       "      <td>3.489351</td>\n",
       "      <td>0.065386865</td>\n",
       "      <td>0.0</td>\n",
       "      <td>0.0</td>\n",
       "      <td>0.0</td>\n",
       "      <td>0</td>\n",
       "    </tr>\n",
       "    <tr>\n",
       "      <th>4534</th>\n",
       "      <td>69.0</td>\n",
       "      <td>0.0</td>\n",
       "      <td>5083.0</td>\n",
       "      <td>34.0</td>\n",
       "      <td>16.0</td>\n",
       "      <td>2.242329</td>\n",
       "      <td>0.009371143</td>\n",
       "      <td>0.0</td>\n",
       "      <td>0.0</td>\n",
       "      <td>0.0</td>\n",
       "      <td>0</td>\n",
       "    </tr>\n",
       "    <tr>\n",
       "      <th>4597</th>\n",
       "      <td>NaN</td>\n",
       "      <td>0.0</td>\n",
       "      <td>4500.0</td>\n",
       "      <td>23.0</td>\n",
       "      <td>11.0</td>\n",
       "      <td>1.789158</td>\n",
       "      <td>0,34429737299999996</td>\n",
       "      <td>0.0</td>\n",
       "      <td>1.0</td>\n",
       "      <td>14.0</td>\n",
       "      <td>1</td>\n",
       "    </tr>\n",
       "    <tr>\n",
       "      <th>7963</th>\n",
       "      <td>57.0</td>\n",
       "      <td>0.0</td>\n",
       "      <td>19250.0</td>\n",
       "      <td>21.0</td>\n",
       "      <td>12.0</td>\n",
       "      <td>0.711028</td>\n",
       "      <td>0,012037866000000001</td>\n",
       "      <td>1.0</td>\n",
       "      <td>0.0</td>\n",
       "      <td>0.0</td>\n",
       "      <td>0</td>\n",
       "    </tr>\n",
       "    <tr>\n",
       "      <th>8477</th>\n",
       "      <td>57.0</td>\n",
       "      <td>0.0</td>\n",
       "      <td>2512.0</td>\n",
       "      <td>19.0</td>\n",
       "      <td>11.0</td>\n",
       "      <td>2.504576</td>\n",
       "      <td>0,0</td>\n",
       "      <td>0.0</td>\n",
       "      <td>0.0</td>\n",
       "      <td>0.0</td>\n",
       "      <td>0</td>\n",
       "    </tr>\n",
       "    <tr>\n",
       "      <th>13255</th>\n",
       "      <td>33.0</td>\n",
       "      <td>0.0</td>\n",
       "      <td>18500.0</td>\n",
       "      <td>36.0</td>\n",
       "      <td>13.0</td>\n",
       "      <td>0.702016</td>\n",
       "      <td>0.15859664699999998</td>\n",
       "      <td>0.0</td>\n",
       "      <td>0.0</td>\n",
       "      <td>0.0</td>\n",
       "      <td>1</td>\n",
       "    </tr>\n",
       "    <tr>\n",
       "      <th>13462</th>\n",
       "      <td>63.0</td>\n",
       "      <td>0.0</td>\n",
       "      <td>11600.0</td>\n",
       "      <td>36.0</td>\n",
       "      <td>11.0</td>\n",
       "      <td>0.452030</td>\n",
       "      <td>0.036079078</td>\n",
       "      <td>0.0</td>\n",
       "      <td>0.0</td>\n",
       "      <td>0.0</td>\n",
       "      <td>0</td>\n",
       "    </tr>\n",
       "    <tr>\n",
       "      <th>17196</th>\n",
       "      <td>65.0</td>\n",
       "      <td>0.0</td>\n",
       "      <td>19950.0</td>\n",
       "      <td>25.0</td>\n",
       "      <td>13.0</td>\n",
       "      <td>1.308005</td>\n",
       "      <td>0.045296114000000005</td>\n",
       "      <td>0.0</td>\n",
       "      <td>0.0</td>\n",
       "      <td>0.0</td>\n",
       "      <td>0</td>\n",
       "    </tr>\n",
       "    <tr>\n",
       "      <th>24655</th>\n",
       "      <td>36.0</td>\n",
       "      <td>0.0</td>\n",
       "      <td>12500.0</td>\n",
       "      <td>NaN</td>\n",
       "      <td>15.0</td>\n",
       "      <td>2.516039</td>\n",
       "      <td>0.152836788</td>\n",
       "      <td>1.0</td>\n",
       "      <td>0.0</td>\n",
       "      <td>0.0</td>\n",
       "      <td>1</td>\n",
       "    </tr>\n",
       "    <tr>\n",
       "      <th>26163</th>\n",
       "      <td>NaN</td>\n",
       "      <td>0.0</td>\n",
       "      <td>5000.0</td>\n",
       "      <td>28.0</td>\n",
       "      <td>15.0</td>\n",
       "      <td>2.597281</td>\n",
       "      <td>NaN</td>\n",
       "      <td>0.0</td>\n",
       "      <td>NaN</td>\n",
       "      <td>0.0</td>\n",
       "      <td>1</td>\n",
       "    </tr>\n",
       "    <tr>\n",
       "      <th>26297</th>\n",
       "      <td>53.0</td>\n",
       "      <td>3.0</td>\n",
       "      <td>19500.0</td>\n",
       "      <td>34.0</td>\n",
       "      <td>19.0</td>\n",
       "      <td>0.602277</td>\n",
       "      <td>0.324100791</td>\n",
       "      <td>0.0</td>\n",
       "      <td>0.0</td>\n",
       "      <td>0.0</td>\n",
       "      <td>0</td>\n",
       "    </tr>\n",
       "    <tr>\n",
       "      <th>26620</th>\n",
       "      <td>50.0</td>\n",
       "      <td>2.0</td>\n",
       "      <td>43208.0</td>\n",
       "      <td>28.0</td>\n",
       "      <td>12.0</td>\n",
       "      <td>0.378717</td>\n",
       "      <td>0.34303079299999995</td>\n",
       "      <td>0.0</td>\n",
       "      <td>0.0</td>\n",
       "      <td>0.0</td>\n",
       "      <td>0</td>\n",
       "    </tr>\n",
       "    <tr>\n",
       "      <th>28835</th>\n",
       "      <td>60.0</td>\n",
       "      <td>1.0</td>\n",
       "      <td>12000.0</td>\n",
       "      <td>22.0</td>\n",
       "      <td>14.0</td>\n",
       "      <td>0.661195</td>\n",
       "      <td>0.12399701199999999</td>\n",
       "      <td>1.0</td>\n",
       "      <td>0.0</td>\n",
       "      <td>0.0</td>\n",
       "      <td>0</td>\n",
       "    </tr>\n",
       "    <tr>\n",
       "      <th>29352</th>\n",
       "      <td>63.0</td>\n",
       "      <td>2.0</td>\n",
       "      <td>10692.0</td>\n",
       "      <td>27.0</td>\n",
       "      <td>11.0</td>\n",
       "      <td>1.276536</td>\n",
       "      <td>NaN</td>\n",
       "      <td>1.0</td>\n",
       "      <td>0.0</td>\n",
       "      <td>0.0</td>\n",
       "      <td>0</td>\n",
       "    </tr>\n",
       "    <tr>\n",
       "      <th>31989</th>\n",
       "      <td>65.0</td>\n",
       "      <td>0.0</td>\n",
       "      <td>17570.0</td>\n",
       "      <td>20.0</td>\n",
       "      <td>11.0</td>\n",
       "      <td>0.986113</td>\n",
       "      <td>0.04045749</td>\n",
       "      <td>0.0</td>\n",
       "      <td>0.0</td>\n",
       "      <td>0.0</td>\n",
       "      <td>0</td>\n",
       "    </tr>\n",
       "    <tr>\n",
       "      <th>32489</th>\n",
       "      <td>41.0</td>\n",
       "      <td>3.0</td>\n",
       "      <td>15000.0</td>\n",
       "      <td>23.0</td>\n",
       "      <td>12.0</td>\n",
       "      <td>0.860609</td>\n",
       "      <td>0,239849079</td>\n",
       "      <td>1.0</td>\n",
       "      <td>0.0</td>\n",
       "      <td>0.0</td>\n",
       "      <td>1</td>\n",
       "    </tr>\n",
       "    <tr>\n",
       "      <th>33474</th>\n",
       "      <td>75.0</td>\n",
       "      <td>1.0</td>\n",
       "      <td>7500.0</td>\n",
       "      <td>33.0</td>\n",
       "      <td>11.0</td>\n",
       "      <td>NaN</td>\n",
       "      <td>0.463568862</td>\n",
       "      <td>0.0</td>\n",
       "      <td>NaN</td>\n",
       "      <td>0.0</td>\n",
       "      <td>0</td>\n",
       "    </tr>\n",
       "    <tr>\n",
       "      <th>35503</th>\n",
       "      <td>46.0</td>\n",
       "      <td>0.0</td>\n",
       "      <td>21500.0</td>\n",
       "      <td>19.0</td>\n",
       "      <td>13.0</td>\n",
       "      <td>0.559881</td>\n",
       "      <td>0.647466112</td>\n",
       "      <td>0.0</td>\n",
       "      <td>NaN</td>\n",
       "      <td>0.0</td>\n",
       "      <td>0</td>\n",
       "    </tr>\n",
       "    <tr>\n",
       "      <th>39097</th>\n",
       "      <td>66.0</td>\n",
       "      <td>0.0</td>\n",
       "      <td>NaN</td>\n",
       "      <td>20.0</td>\n",
       "      <td>11.0</td>\n",
       "      <td>0.654390</td>\n",
       "      <td>0.090163645</td>\n",
       "      <td>0.0</td>\n",
       "      <td>0.0</td>\n",
       "      <td>0.0</td>\n",
       "      <td>0</td>\n",
       "    </tr>\n",
       "    <tr>\n",
       "      <th>42471</th>\n",
       "      <td>NaN</td>\n",
       "      <td>4.0</td>\n",
       "      <td>8000.0</td>\n",
       "      <td>18.0</td>\n",
       "      <td>13.0</td>\n",
       "      <td>1.114611</td>\n",
       "      <td>0.383538575</td>\n",
       "      <td>1.0</td>\n",
       "      <td>0.0</td>\n",
       "      <td>0.0</td>\n",
       "      <td>0</td>\n",
       "    </tr>\n",
       "    <tr>\n",
       "      <th>45195</th>\n",
       "      <td>63.0</td>\n",
       "      <td>1.0</td>\n",
       "      <td>16593.0</td>\n",
       "      <td>25.0</td>\n",
       "      <td>15.0</td>\n",
       "      <td>NaN</td>\n",
       "      <td>0.026327301</td>\n",
       "      <td>0.0</td>\n",
       "      <td>0.0</td>\n",
       "      <td>0.0</td>\n",
       "      <td>0</td>\n",
       "    </tr>\n",
       "    <tr>\n",
       "      <th>45867</th>\n",
       "      <td>49.0</td>\n",
       "      <td>3.0</td>\n",
       "      <td>17500.0</td>\n",
       "      <td>18.0</td>\n",
       "      <td>12.0</td>\n",
       "      <td>0.855094</td>\n",
       "      <td>0,8489325790000001</td>\n",
       "      <td>0.0</td>\n",
       "      <td>0.0</td>\n",
       "      <td>0.0</td>\n",
       "      <td>1</td>\n",
       "    </tr>\n",
       "    <tr>\n",
       "      <th>46150</th>\n",
       "      <td>72.0</td>\n",
       "      <td>0.0</td>\n",
       "      <td>16550.0</td>\n",
       "      <td>26.0</td>\n",
       "      <td>12.0</td>\n",
       "      <td>0.595130</td>\n",
       "      <td>0,152000411</td>\n",
       "      <td>0.0</td>\n",
       "      <td>0.0</td>\n",
       "      <td>0.0</td>\n",
       "      <td>0</td>\n",
       "    </tr>\n",
       "    <tr>\n",
       "      <th>47505</th>\n",
       "      <td>NaN</td>\n",
       "      <td>1.0</td>\n",
       "      <td>8377.0</td>\n",
       "      <td>27.0</td>\n",
       "      <td>15.0</td>\n",
       "      <td>2.054309</td>\n",
       "      <td>0.034578644</td>\n",
       "      <td>2.0</td>\n",
       "      <td>0.0</td>\n",
       "      <td>0.0</td>\n",
       "      <td>0</td>\n",
       "    </tr>\n",
       "    <tr>\n",
       "      <th>55831</th>\n",
       "      <td>41.0</td>\n",
       "      <td>0.0</td>\n",
       "      <td>NaN</td>\n",
       "      <td>21.0</td>\n",
       "      <td>14.0</td>\n",
       "      <td>0.483109</td>\n",
       "      <td>0.112477316</td>\n",
       "      <td>0.0</td>\n",
       "      <td>0.0</td>\n",
       "      <td>NaN</td>\n",
       "      <td>0</td>\n",
       "    </tr>\n",
       "    <tr>\n",
       "      <th>56582</th>\n",
       "      <td>47.0</td>\n",
       "      <td>0.0</td>\n",
       "      <td>8333.0</td>\n",
       "      <td>NaN</td>\n",
       "      <td>13.0</td>\n",
       "      <td>NaN</td>\n",
       "      <td>0.30338986100000004</td>\n",
       "      <td>1.0</td>\n",
       "      <td>0.0</td>\n",
       "      <td>0.0</td>\n",
       "      <td>0</td>\n",
       "    </tr>\n",
       "    <tr>\n",
       "      <th>57880</th>\n",
       "      <td>65.0</td>\n",
       "      <td>NaN</td>\n",
       "      <td>12250.0</td>\n",
       "      <td>24.0</td>\n",
       "      <td>13.0</td>\n",
       "      <td>0.636683</td>\n",
       "      <td>0,061987342</td>\n",
       "      <td>1.0</td>\n",
       "      <td>0.0</td>\n",
       "      <td>0.0</td>\n",
       "      <td>1</td>\n",
       "    </tr>\n",
       "    <tr>\n",
       "      <th>59381</th>\n",
       "      <td>44.0</td>\n",
       "      <td>3.0</td>\n",
       "      <td>15572.0</td>\n",
       "      <td>30.0</td>\n",
       "      <td>13.0</td>\n",
       "      <td>1.000899</td>\n",
       "      <td>0.324621569</td>\n",
       "      <td>1.0</td>\n",
       "      <td>0.0</td>\n",
       "      <td>0.0</td>\n",
       "      <td>1</td>\n",
       "    </tr>\n",
       "    <tr>\n",
       "      <th>63666</th>\n",
       "      <td>46.0</td>\n",
       "      <td>1.0</td>\n",
       "      <td>10666.0</td>\n",
       "      <td>18.0</td>\n",
       "      <td>13.0</td>\n",
       "      <td>0.704228</td>\n",
       "      <td>0.62296035</td>\n",
       "      <td>4.0</td>\n",
       "      <td>0.0</td>\n",
       "      <td>0.0</td>\n",
       "      <td>1</td>\n",
       "    </tr>\n",
       "    <tr>\n",
       "      <th>64896</th>\n",
       "      <td>NaN</td>\n",
       "      <td>2.0</td>\n",
       "      <td>5916.0</td>\n",
       "      <td>19.0</td>\n",
       "      <td>12.0</td>\n",
       "      <td>3.173399</td>\n",
       "      <td>0.9630116190000001</td>\n",
       "      <td>2.0</td>\n",
       "      <td>0.0</td>\n",
       "      <td>0.0</td>\n",
       "      <td>1</td>\n",
       "    </tr>\n",
       "    <tr>\n",
       "      <th>66953</th>\n",
       "      <td>70.0</td>\n",
       "      <td>0.0</td>\n",
       "      <td>17403.0</td>\n",
       "      <td>25.0</td>\n",
       "      <td>12.0</td>\n",
       "      <td>0.561423</td>\n",
       "      <td>0.252407449</td>\n",
       "      <td>0.0</td>\n",
       "      <td>0.0</td>\n",
       "      <td>NaN</td>\n",
       "      <td>0</td>\n",
       "    </tr>\n",
       "    <tr>\n",
       "      <th>70743</th>\n",
       "      <td>59.0</td>\n",
       "      <td>0.0</td>\n",
       "      <td>NaN</td>\n",
       "      <td>34.0</td>\n",
       "      <td>14.0</td>\n",
       "      <td>1.280078</td>\n",
       "      <td>NaN</td>\n",
       "      <td>5.0</td>\n",
       "      <td>NaN</td>\n",
       "      <td>6.0</td>\n",
       "      <td>0</td>\n",
       "    </tr>\n",
       "    <tr>\n",
       "      <th>71981</th>\n",
       "      <td>44.0</td>\n",
       "      <td>2.0</td>\n",
       "      <td>NaN</td>\n",
       "      <td>42.0</td>\n",
       "      <td>25.0</td>\n",
       "      <td>1.237481</td>\n",
       "      <td>0,297748298</td>\n",
       "      <td>0.0</td>\n",
       "      <td>0.0</td>\n",
       "      <td>0.0</td>\n",
       "      <td>0</td>\n",
       "    </tr>\n",
       "  </tbody>\n",
       "</table>\n",
       "</div>"
      ],
      "text/plain": [
       "        age  number_dependent_family_members  monthly_income  \\\n",
       "Id                                                             \n",
       "2007   67.0                              0.0         10000.0   \n",
       "4534   69.0                              0.0          5083.0   \n",
       "4597    NaN                              0.0          4500.0   \n",
       "7963   57.0                              0.0         19250.0   \n",
       "8477   57.0                              0.0          2512.0   \n",
       "13255  33.0                              0.0         18500.0   \n",
       "13462  63.0                              0.0         11600.0   \n",
       "17196  65.0                              0.0         19950.0   \n",
       "24655  36.0                              0.0         12500.0   \n",
       "26163   NaN                              0.0          5000.0   \n",
       "26297  53.0                              3.0         19500.0   \n",
       "26620  50.0                              2.0         43208.0   \n",
       "28835  60.0                              1.0         12000.0   \n",
       "29352  63.0                              2.0         10692.0   \n",
       "31989  65.0                              0.0         17570.0   \n",
       "32489  41.0                              3.0         15000.0   \n",
       "33474  75.0                              1.0          7500.0   \n",
       "35503  46.0                              0.0         21500.0   \n",
       "39097  66.0                              0.0             NaN   \n",
       "42471   NaN                              4.0          8000.0   \n",
       "45195  63.0                              1.0         16593.0   \n",
       "45867  49.0                              3.0         17500.0   \n",
       "46150  72.0                              0.0         16550.0   \n",
       "47505   NaN                              1.0          8377.0   \n",
       "55831  41.0                              0.0             NaN   \n",
       "56582  47.0                              0.0          8333.0   \n",
       "57880  65.0                              NaN         12250.0   \n",
       "59381  44.0                              3.0         15572.0   \n",
       "63666  46.0                              1.0         10666.0   \n",
       "64896   NaN                              2.0          5916.0   \n",
       "66953  70.0                              0.0         17403.0   \n",
       "70743  59.0                              0.0             NaN   \n",
       "71981  44.0                              2.0             NaN   \n",
       "\n",
       "       number_of_credit_lines  real_estate_loans  \\\n",
       "Id                                                 \n",
       "2007                     29.0               18.0   \n",
       "4534                     34.0               16.0   \n",
       "4597                     23.0               11.0   \n",
       "7963                     21.0               12.0   \n",
       "8477                     19.0               11.0   \n",
       "13255                    36.0               13.0   \n",
       "13462                    36.0               11.0   \n",
       "17196                    25.0               13.0   \n",
       "24655                     NaN               15.0   \n",
       "26163                    28.0               15.0   \n",
       "26297                    34.0               19.0   \n",
       "26620                    28.0               12.0   \n",
       "28835                    22.0               14.0   \n",
       "29352                    27.0               11.0   \n",
       "31989                    20.0               11.0   \n",
       "32489                    23.0               12.0   \n",
       "33474                    33.0               11.0   \n",
       "35503                    19.0               13.0   \n",
       "39097                    20.0               11.0   \n",
       "42471                    18.0               13.0   \n",
       "45195                    25.0               15.0   \n",
       "45867                    18.0               12.0   \n",
       "46150                    26.0               12.0   \n",
       "47505                    27.0               15.0   \n",
       "55831                    21.0               14.0   \n",
       "56582                     NaN               13.0   \n",
       "57880                    24.0               13.0   \n",
       "59381                    30.0               13.0   \n",
       "63666                    18.0               13.0   \n",
       "64896                    19.0               12.0   \n",
       "66953                    25.0               12.0   \n",
       "70743                    34.0               14.0   \n",
       "71981                    42.0               25.0   \n",
       "\n",
       "       ratio_debt_payment_to_income credit_line_utilization  \\\n",
       "Id                                                            \n",
       "2007                       3.489351             0.065386865   \n",
       "4534                       2.242329             0.009371143   \n",
       "4597                       1.789158     0,34429737299999996   \n",
       "7963                       0.711028    0,012037866000000001   \n",
       "8477                       2.504576                     0,0   \n",
       "13255                      0.702016     0.15859664699999998   \n",
       "13462                      0.452030             0.036079078   \n",
       "17196                      1.308005    0.045296114000000005   \n",
       "24655                      2.516039             0.152836788   \n",
       "26163                      2.597281                     NaN   \n",
       "26297                      0.602277             0.324100791   \n",
       "26620                      0.378717     0.34303079299999995   \n",
       "28835                      0.661195     0.12399701199999999   \n",
       "29352                      1.276536                     NaN   \n",
       "31989                      0.986113              0.04045749   \n",
       "32489                      0.860609             0,239849079   \n",
       "33474                           NaN             0.463568862   \n",
       "35503                      0.559881             0.647466112   \n",
       "39097                      0.654390             0.090163645   \n",
       "42471                      1.114611             0.383538575   \n",
       "45195                           NaN             0.026327301   \n",
       "45867                      0.855094      0,8489325790000001   \n",
       "46150                      0.595130             0,152000411   \n",
       "47505                      2.054309             0.034578644   \n",
       "55831                      0.483109             0.112477316   \n",
       "56582                           NaN     0.30338986100000004   \n",
       "57880                      0.636683             0,061987342   \n",
       "59381                      1.000899             0.324621569   \n",
       "63666                      0.704228              0.62296035   \n",
       "64896                      3.173399      0.9630116190000001   \n",
       "66953                      0.561423             0.252407449   \n",
       "70743                      1.280078                     NaN   \n",
       "71981                      1.237481             0,297748298   \n",
       "\n",
       "       number_of_previous_late_payments_up_to_59_days  \\\n",
       "Id                                                      \n",
       "2007                                              0.0   \n",
       "4534                                              0.0   \n",
       "4597                                              0.0   \n",
       "7963                                              1.0   \n",
       "8477                                              0.0   \n",
       "13255                                             0.0   \n",
       "13462                                             0.0   \n",
       "17196                                             0.0   \n",
       "24655                                             1.0   \n",
       "26163                                             0.0   \n",
       "26297                                             0.0   \n",
       "26620                                             0.0   \n",
       "28835                                             1.0   \n",
       "29352                                             1.0   \n",
       "31989                                             0.0   \n",
       "32489                                             1.0   \n",
       "33474                                             0.0   \n",
       "35503                                             0.0   \n",
       "39097                                             0.0   \n",
       "42471                                             1.0   \n",
       "45195                                             0.0   \n",
       "45867                                             0.0   \n",
       "46150                                             0.0   \n",
       "47505                                             2.0   \n",
       "55831                                             0.0   \n",
       "56582                                             1.0   \n",
       "57880                                             1.0   \n",
       "59381                                             1.0   \n",
       "63666                                             4.0   \n",
       "64896                                             2.0   \n",
       "66953                                             0.0   \n",
       "70743                                             5.0   \n",
       "71981                                             0.0   \n",
       "\n",
       "       number_of_previous_late_payments_up_to_89_days  \\\n",
       "Id                                                      \n",
       "2007                                              0.0   \n",
       "4534                                              0.0   \n",
       "4597                                              1.0   \n",
       "7963                                              0.0   \n",
       "8477                                              0.0   \n",
       "13255                                             0.0   \n",
       "13462                                             0.0   \n",
       "17196                                             0.0   \n",
       "24655                                             0.0   \n",
       "26163                                             NaN   \n",
       "26297                                             0.0   \n",
       "26620                                             0.0   \n",
       "28835                                             0.0   \n",
       "29352                                             0.0   \n",
       "31989                                             0.0   \n",
       "32489                                             0.0   \n",
       "33474                                             NaN   \n",
       "35503                                             NaN   \n",
       "39097                                             0.0   \n",
       "42471                                             0.0   \n",
       "45195                                             0.0   \n",
       "45867                                             0.0   \n",
       "46150                                             0.0   \n",
       "47505                                             0.0   \n",
       "55831                                             0.0   \n",
       "56582                                             0.0   \n",
       "57880                                             0.0   \n",
       "59381                                             0.0   \n",
       "63666                                             0.0   \n",
       "64896                                             0.0   \n",
       "66953                                             0.0   \n",
       "70743                                             NaN   \n",
       "71981                                             0.0   \n",
       "\n",
       "       number_of_previous_late_payments_90_days_or_more  defaulted_on_loan  \n",
       "Id                                                                          \n",
       "2007                                                0.0                  0  \n",
       "4534                                                0.0                  0  \n",
       "4597                                               14.0                  1  \n",
       "7963                                                0.0                  0  \n",
       "8477                                                0.0                  0  \n",
       "13255                                               0.0                  1  \n",
       "13462                                               0.0                  0  \n",
       "17196                                               0.0                  0  \n",
       "24655                                               0.0                  1  \n",
       "26163                                               0.0                  1  \n",
       "26297                                               0.0                  0  \n",
       "26620                                               0.0                  0  \n",
       "28835                                               0.0                  0  \n",
       "29352                                               0.0                  0  \n",
       "31989                                               0.0                  0  \n",
       "32489                                               0.0                  1  \n",
       "33474                                               0.0                  0  \n",
       "35503                                               0.0                  0  \n",
       "39097                                               0.0                  0  \n",
       "42471                                               0.0                  0  \n",
       "45195                                               0.0                  0  \n",
       "45867                                               0.0                  1  \n",
       "46150                                               0.0                  0  \n",
       "47505                                               0.0                  0  \n",
       "55831                                               NaN                  0  \n",
       "56582                                               0.0                  0  \n",
       "57880                                               0.0                  1  \n",
       "59381                                               0.0                  1  \n",
       "63666                                               0.0                  1  \n",
       "64896                                               0.0                  1  \n",
       "66953                                               NaN                  0  \n",
       "70743                                               6.0                  0  \n",
       "71981                                               0.0                  0  "
      ]
     },
     "execution_count": 59,
     "metadata": {},
     "output_type": "execute_result"
    }
   ],
   "source": [
    "df[df['real_estate_loans'] > 10]"
   ]
  },
  {
   "cell_type": "raw",
   "id": "01ede40d",
   "metadata": {},
   "source": []
  },
  {
   "cell_type": "markdown",
   "id": "963d1ca6",
   "metadata": {},
   "source": [
    "#### <font size='5'><i> 6. Ratio_debt_payment_to_income"
   ]
  },
  {
   "cell_type": "code",
   "execution_count": 60,
   "id": "97e87105",
   "metadata": {},
   "outputs": [
    {
     "data": {
      "text/plain": [
       "0.000000    1408\n",
       "1.000000      12\n",
       "0.001200      11\n",
       "8.000000      11\n",
       "2.000000       9\n",
       "            ... \n",
       "0.399049       1\n",
       "0.058801       1\n",
       "0.108820       1\n",
       "0.380680       1\n",
       "0.304626       1\n",
       "Name: ratio_debt_payment_to_income, Length: 62311, dtype: int64"
      ]
     },
     "execution_count": 60,
     "metadata": {},
     "output_type": "execute_result"
    }
   ],
   "source": [
    "df['ratio_debt_payment_to_income'].value_counts()"
   ]
  },
  {
   "cell_type": "code",
   "execution_count": 61,
   "id": "bfc1cbb5",
   "metadata": {},
   "outputs": [
    {
     "name": "stdout",
     "output_type": "stream",
     "text": [
      "0.0\n",
      "61106.5\n"
     ]
    }
   ],
   "source": [
    "print(df['ratio_debt_payment_to_income'].min())\n",
    "print(df['ratio_debt_payment_to_income'].max())"
   ]
  },
  {
   "cell_type": "code",
   "execution_count": 62,
   "id": "3c8ed133",
   "metadata": {},
   "outputs": [
    {
     "name": "stdout",
     "output_type": "stream",
     "text": [
      "Minimum ratio_debt_payment_to_income in our dataset is 0.0.\n",
      "Maximum ratio_debt_payment_to_income in our dataset is 61106.5.\n"
     ]
    }
   ],
   "source": [
    "print(f'Minimum ratio_debt_payment_to_income in our dataset is {df.ratio_debt_payment_to_income.min()}.')\n",
    "print(f'Maximum ratio_debt_payment_to_income in our dataset is {df.ratio_debt_payment_to_income.max()}.')"
   ]
  },
  {
   "cell_type": "code",
   "execution_count": 63,
   "id": "6c51e733",
   "metadata": {},
   "outputs": [
    {
     "data": {
      "text/plain": [
       "<AxesSubplot:xlabel='ratio_debt_payment_to_income', ylabel='Density'>"
      ]
     },
     "execution_count": 63,
     "metadata": {},
     "output_type": "execute_result"
    },
    {
     "data": {
      "image/png": "[encoded data removed]",
      "text/plain": [
       "<Figure size 864x576 with 1 Axes>"
      ]
     },
     "metadata": {},
     "output_type": "display_data"
    }
   ],
   "source": [
    "plt.xlim(0,12)\n",
    "sns.distplot(df['ratio_debt_payment_to_income'])"
   ]
  },
  {
   "cell_type": "code",
   "execution_count": 64,
   "id": "4f8f2719",
   "metadata": {},
   "outputs": [
    {
     "name": "stdout",
     "output_type": "stream",
     "text": [
      "Median ratio_debt_payment_to_income is: 0.294672852\n",
      "Mean ratio_debt_payment_to_income is: 26.524004587192582\n"
     ]
    }
   ],
   "source": [
    "print(f'Median ratio_debt_payment_to_income is: {df.ratio_debt_payment_to_income.median()}')\n",
    "print(f'Mean ratio_debt_payment_to_income is: {df.ratio_debt_payment_to_income.mean()}')"
   ]
  },
  {
   "cell_type": "code",
   "execution_count": 65,
   "id": "bde57aba",
   "metadata": {
    "scrolled": false
   },
   "outputs": [
    {
     "data": {
      "text/plain": [
       "<AxesSubplot:xlabel='ratio_debt_payment_to_income'>"
      ]
     },
     "execution_count": 65,
     "metadata": {},
     "output_type": "execute_result"
    },
    {
     "data": {
      "image/png": "[encoded data removed]",
      "text/plain": [
       "<Figure size 864x576 with 1 Axes>"
      ]
     },
     "metadata": {},
     "output_type": "display_data"
    }
   ],
   "source": [
    "plt.xlim(0,10)\n",
    "sns.boxplot(df['ratio_debt_payment_to_income'],color='navy')"
   ]
  },
  {
   "cell_type": "markdown",
   "id": "5288605c",
   "metadata": {},
   "source": [
    "<i><font size='4'>There are very much outliers in this column."
   ]
  },
  {
   "cell_type": "code",
   "execution_count": 66,
   "id": "59bae1b3",
   "metadata": {},
   "outputs": [
    {
     "data": {
      "text/html": [
       "<div>\n",
       "<style scoped>\n",
       "    .dataframe tbody tr th:only-of-type {\n",
       "        vertical-align: middle;\n",
       "    }\n",
       "\n",
       "    .dataframe tbody tr th {\n",
       "        vertical-align: top;\n",
       "    }\n",
       "\n",
       "    .dataframe thead th {\n",
       "        text-align: right;\n",
       "    }\n",
       "</style>\n",
       "<table border=\"1\" class=\"dataframe\">\n",
       "  <thead>\n",
       "    <tr style=\"text-align: right;\">\n",
       "      <th></th>\n",
       "      <th>age</th>\n",
       "      <th>number_dependent_family_members</th>\n",
       "      <th>monthly_income</th>\n",
       "      <th>number_of_credit_lines</th>\n",
       "      <th>real_estate_loans</th>\n",
       "      <th>ratio_debt_payment_to_income</th>\n",
       "      <th>credit_line_utilization</th>\n",
       "      <th>number_of_previous_late_payments_up_to_59_days</th>\n",
       "      <th>number_of_previous_late_payments_up_to_89_days</th>\n",
       "      <th>number_of_previous_late_payments_90_days_or_more</th>\n",
       "      <th>defaulted_on_loan</th>\n",
       "    </tr>\n",
       "    <tr>\n",
       "      <th>Id</th>\n",
       "      <th></th>\n",
       "      <th></th>\n",
       "      <th></th>\n",
       "      <th></th>\n",
       "      <th></th>\n",
       "      <th></th>\n",
       "      <th></th>\n",
       "      <th></th>\n",
       "      <th></th>\n",
       "      <th></th>\n",
       "      <th></th>\n",
       "    </tr>\n",
       "  </thead>\n",
       "  <tbody>\n",
       "    <tr>\n",
       "      <th>56</th>\n",
       "      <td>52.0</td>\n",
       "      <td>2.0</td>\n",
       "      <td>1.0</td>\n",
       "      <td>9.0</td>\n",
       "      <td>1.0</td>\n",
       "      <td>1100.5</td>\n",
       "      <td>0.008197396</td>\n",
       "      <td>0.0</td>\n",
       "      <td>0.0</td>\n",
       "      <td>0.0</td>\n",
       "      <td>0</td>\n",
       "    </tr>\n",
       "    <tr>\n",
       "      <th>264</th>\n",
       "      <td>62.0</td>\n",
       "      <td>0.0</td>\n",
       "      <td>1.0</td>\n",
       "      <td>8.0</td>\n",
       "      <td>1.0</td>\n",
       "      <td>1151.0</td>\n",
       "      <td>0.095732237</td>\n",
       "      <td>0.0</td>\n",
       "      <td>0.0</td>\n",
       "      <td>0.0</td>\n",
       "      <td>0</td>\n",
       "    </tr>\n",
       "    <tr>\n",
       "      <th>639</th>\n",
       "      <td>NaN</td>\n",
       "      <td>3.0</td>\n",
       "      <td>0.0</td>\n",
       "      <td>NaN</td>\n",
       "      <td>1.0</td>\n",
       "      <td>1471.0</td>\n",
       "      <td>0,110583625</td>\n",
       "      <td>0.0</td>\n",
       "      <td>NaN</td>\n",
       "      <td>0.0</td>\n",
       "      <td>0</td>\n",
       "    </tr>\n",
       "    <tr>\n",
       "      <th>743</th>\n",
       "      <td>43.0</td>\n",
       "      <td>0.0</td>\n",
       "      <td>0.0</td>\n",
       "      <td>8.0</td>\n",
       "      <td>2.0</td>\n",
       "      <td>9908.0</td>\n",
       "      <td>NaN</td>\n",
       "      <td>NaN</td>\n",
       "      <td>0.0</td>\n",
       "      <td>0.0</td>\n",
       "      <td>0</td>\n",
       "    </tr>\n",
       "    <tr>\n",
       "      <th>748</th>\n",
       "      <td>50.0</td>\n",
       "      <td>1.0</td>\n",
       "      <td>0.0</td>\n",
       "      <td>11.0</td>\n",
       "      <td>2.0</td>\n",
       "      <td>3740.0</td>\n",
       "      <td>0.085941332</td>\n",
       "      <td>0.0</td>\n",
       "      <td>0.0</td>\n",
       "      <td>0.0</td>\n",
       "      <td>1</td>\n",
       "    </tr>\n",
       "    <tr>\n",
       "      <th>...</th>\n",
       "      <td>...</td>\n",
       "      <td>...</td>\n",
       "      <td>...</td>\n",
       "      <td>...</td>\n",
       "      <td>...</td>\n",
       "      <td>...</td>\n",
       "      <td>...</td>\n",
       "      <td>...</td>\n",
       "      <td>...</td>\n",
       "      <td>...</td>\n",
       "      <td>...</td>\n",
       "    </tr>\n",
       "    <tr>\n",
       "      <th>71864</th>\n",
       "      <td>41.0</td>\n",
       "      <td>0.0</td>\n",
       "      <td>0.0</td>\n",
       "      <td>13.0</td>\n",
       "      <td>1.0</td>\n",
       "      <td>1118.0</td>\n",
       "      <td>0.018737181999999998</td>\n",
       "      <td>0.0</td>\n",
       "      <td>0.0</td>\n",
       "      <td>NaN</td>\n",
       "      <td>0</td>\n",
       "    </tr>\n",
       "    <tr>\n",
       "      <th>71902</th>\n",
       "      <td>36.0</td>\n",
       "      <td>3.0</td>\n",
       "      <td>0.0</td>\n",
       "      <td>7.0</td>\n",
       "      <td>1.0</td>\n",
       "      <td>1695.0</td>\n",
       "      <td>0.027256155</td>\n",
       "      <td>0.0</td>\n",
       "      <td>0.0</td>\n",
       "      <td>0.0</td>\n",
       "      <td>0</td>\n",
       "    </tr>\n",
       "    <tr>\n",
       "      <th>71936</th>\n",
       "      <td>69.0</td>\n",
       "      <td>1.0</td>\n",
       "      <td>0.0</td>\n",
       "      <td>8.0</td>\n",
       "      <td>NaN</td>\n",
       "      <td>1248.0</td>\n",
       "      <td>0.080083629</td>\n",
       "      <td>0.0</td>\n",
       "      <td>0.0</td>\n",
       "      <td>0.0</td>\n",
       "      <td>0</td>\n",
       "    </tr>\n",
       "    <tr>\n",
       "      <th>72049</th>\n",
       "      <td>45.0</td>\n",
       "      <td>2.0</td>\n",
       "      <td>0.0</td>\n",
       "      <td>7.0</td>\n",
       "      <td>NaN</td>\n",
       "      <td>1888.0</td>\n",
       "      <td>0.041735062</td>\n",
       "      <td>0.0</td>\n",
       "      <td>0.0</td>\n",
       "      <td>0.0</td>\n",
       "      <td>0</td>\n",
       "    </tr>\n",
       "    <tr>\n",
       "      <th>72051</th>\n",
       "      <td>45.0</td>\n",
       "      <td>0.0</td>\n",
       "      <td>1.0</td>\n",
       "      <td>9.0</td>\n",
       "      <td>1.0</td>\n",
       "      <td>1276.5</td>\n",
       "      <td>0.427476407</td>\n",
       "      <td>0.0</td>\n",
       "      <td>0.0</td>\n",
       "      <td>0.0</td>\n",
       "      <td>0</td>\n",
       "    </tr>\n",
       "  </tbody>\n",
       "</table>\n",
       "<p>556 rows × 11 columns</p>\n",
       "</div>"
      ],
      "text/plain": [
       "        age  number_dependent_family_members  monthly_income  \\\n",
       "Id                                                             \n",
       "56     52.0                              2.0             1.0   \n",
       "264    62.0                              0.0             1.0   \n",
       "639     NaN                              3.0             0.0   \n",
       "743    43.0                              0.0             0.0   \n",
       "748    50.0                              1.0             0.0   \n",
       "...     ...                              ...             ...   \n",
       "71864  41.0                              0.0             0.0   \n",
       "71902  36.0                              3.0             0.0   \n",
       "71936  69.0                              1.0             0.0   \n",
       "72049  45.0                              2.0             0.0   \n",
       "72051  45.0                              0.0             1.0   \n",
       "\n",
       "       number_of_credit_lines  real_estate_loans  \\\n",
       "Id                                                 \n",
       "56                        9.0                1.0   \n",
       "264                       8.0                1.0   \n",
       "639                       NaN                1.0   \n",
       "743                       8.0                2.0   \n",
       "748                      11.0                2.0   \n",
       "...                       ...                ...   \n",
       "71864                    13.0                1.0   \n",
       "71902                     7.0                1.0   \n",
       "71936                     8.0                NaN   \n",
       "72049                     7.0                NaN   \n",
       "72051                     9.0                1.0   \n",
       "\n",
       "       ratio_debt_payment_to_income credit_line_utilization  \\\n",
       "Id                                                            \n",
       "56                           1100.5             0.008197396   \n",
       "264                          1151.0             0.095732237   \n",
       "639                          1471.0             0,110583625   \n",
       "743                          9908.0                     NaN   \n",
       "748                          3740.0             0.085941332   \n",
       "...                             ...                     ...   \n",
       "71864                        1118.0    0.018737181999999998   \n",
       "71902                        1695.0             0.027256155   \n",
       "71936                        1248.0             0.080083629   \n",
       "72049                        1888.0             0.041735062   \n",
       "72051                        1276.5             0.427476407   \n",
       "\n",
       "       number_of_previous_late_payments_up_to_59_days  \\\n",
       "Id                                                      \n",
       "56                                                0.0   \n",
       "264                                               0.0   \n",
       "639                                               0.0   \n",
       "743                                               NaN   \n",
       "748                                               0.0   \n",
       "...                                               ...   \n",
       "71864                                             0.0   \n",
       "71902                                             0.0   \n",
       "71936                                             0.0   \n",
       "72049                                             0.0   \n",
       "72051                                             0.0   \n",
       "\n",
       "       number_of_previous_late_payments_up_to_89_days  \\\n",
       "Id                                                      \n",
       "56                                                0.0   \n",
       "264                                               0.0   \n",
       "639                                               NaN   \n",
       "743                                               0.0   \n",
       "748                                               0.0   \n",
       "...                                               ...   \n",
       "71864                                             0.0   \n",
       "71902                                             0.0   \n",
       "71936                                             0.0   \n",
       "72049                                             0.0   \n",
       "72051                                             0.0   \n",
       "\n",
       "       number_of_previous_late_payments_90_days_or_more  defaulted_on_loan  \n",
       "Id                                                                          \n",
       "56                                                  0.0                  0  \n",
       "264                                                 0.0                  0  \n",
       "639                                                 0.0                  0  \n",
       "743                                                 0.0                  0  \n",
       "748                                                 0.0                  1  \n",
       "...                                                 ...                ...  \n",
       "71864                                               NaN                  0  \n",
       "71902                                               0.0                  0  \n",
       "71936                                               0.0                  0  \n",
       "72049                                               0.0                  0  \n",
       "72051                                               0.0                  0  \n",
       "\n",
       "[556 rows x 11 columns]"
      ]
     },
     "execution_count": 66,
     "metadata": {},
     "output_type": "execute_result"
    }
   ],
   "source": [
    "df[df['ratio_debt_payment_to_income'] > 1000]"
   ]
  },
  {
   "cell_type": "markdown",
   "id": "43ff37b8",
   "metadata": {},
   "source": [
    "#### <font size='5'><i> 7. Credit_line_utilization"
   ]
  },
  {
   "cell_type": "code",
   "execution_count": 67,
   "id": "c475ca83",
   "metadata": {},
   "outputs": [],
   "source": [
    "df['credit_line_utilization'] = df['credit_line_utilization'].str.replace(',' , '.').astype(float) "
   ]
  },
  {
   "cell_type": "code",
   "execution_count": 68,
   "id": "e64713f9",
   "metadata": {},
   "outputs": [],
   "source": [
    "df_test['credit_line_utilization'] = df_test['credit_line_utilization'].str.replace(',' , '.').astype(float)"
   ]
  },
  {
   "cell_type": "markdown",
   "id": "fc822efb",
   "metadata": {},
   "source": [
    "<i><font size='4' color='black'> Credit_line_utilization column had \"object\" datatype. Therefore, after removing unnecessary commas, I have changed the type to float </font>"
   ]
  },
  {
   "cell_type": "code",
   "execution_count": 69,
   "id": "cf27ad84",
   "metadata": {},
   "outputs": [
    {
     "data": {
      "text/plain": [
       "0.000000    4364\n",
       "1.000000    4071\n",
       "1.000000       8\n",
       "0.950100       6\n",
       "1.003322       4\n",
       "            ... \n",
       "0.169971       1\n",
       "0.063527       1\n",
       "0.412815       1\n",
       "0.013290       1\n",
       "0.447266       1\n",
       "Name: credit_line_utilization, Length: 56814, dtype: int64"
      ]
     },
     "execution_count": 69,
     "metadata": {},
     "output_type": "execute_result"
    }
   ],
   "source": [
    "df['credit_line_utilization'].value_counts()"
   ]
  },
  {
   "cell_type": "code",
   "execution_count": 70,
   "id": "61cb5e43",
   "metadata": {},
   "outputs": [
    {
     "name": "stdout",
     "output_type": "stream",
     "text": [
      "0.0\n",
      "29110.0\n"
     ]
    }
   ],
   "source": [
    "print(df['credit_line_utilization'].min())\n",
    "print(df['credit_line_utilization'].max())"
   ]
  },
  {
   "cell_type": "code",
   "execution_count": 71,
   "id": "e1336656",
   "metadata": {},
   "outputs": [
    {
     "name": "stdout",
     "output_type": "stream",
     "text": [
      "Minimum credit_line_utilization in our dataset is 0.0.\n",
      "Maximum credit_line_utilization in our dataset is 29110.0.\n"
     ]
    }
   ],
   "source": [
    "print(f'Minimum credit_line_utilization in our dataset is {df.credit_line_utilization.min()}.')\n",
    "print(f'Maximum credit_line_utilization in our dataset is {df.credit_line_utilization.max()}.')"
   ]
  },
  {
   "cell_type": "code",
   "execution_count": 72,
   "id": "d51ac56e",
   "metadata": {},
   "outputs": [
    {
     "data": {
      "text/plain": [
       "<AxesSubplot:xlabel='credit_line_utilization', ylabel='Density'>"
      ]
     },
     "execution_count": 72,
     "metadata": {},
     "output_type": "execute_result"
    },
    {
     "data": {
      "image/png": "[encoded data removed]",
      "text/plain": [
       "<Figure size 864x576 with 1 Axes>"
      ]
     },
     "metadata": {},
     "output_type": "display_data"
    }
   ],
   "source": [
    "plt.xlim(0,3)\n",
    "sns.distplot(df['credit_line_utilization'])"
   ]
  },
  {
   "cell_type": "code",
   "execution_count": 73,
   "id": "b0aceb73",
   "metadata": {},
   "outputs": [
    {
     "name": "stdout",
     "output_type": "stream",
     "text": [
      "Median credit_line_utilization is: 0.176499646\n",
      "Mean credit_line_utilization is: 5.225039965916414\n"
     ]
    }
   ],
   "source": [
    "print(f'Median credit_line_utilization is: {df.credit_line_utilization.median()}')\n",
    "print(f'Mean credit_line_utilization is: {df.credit_line_utilization.mean()}')"
   ]
  },
  {
   "cell_type": "code",
   "execution_count": 74,
   "id": "bfaa19e8",
   "metadata": {
    "scrolled": false
   },
   "outputs": [
    {
     "data": {
      "text/plain": [
       "<AxesSubplot:xlabel='credit_line_utilization'>"
      ]
     },
     "execution_count": 74,
     "metadata": {},
     "output_type": "execute_result"
    },
    {
     "data": {
      "image/png": "[encoded data removed]",
      "text/plain": [
       "<Figure size 864x576 with 1 Axes>"
      ]
     },
     "metadata": {},
     "output_type": "display_data"
    }
   ],
   "source": [
    "plt.xlim(0,3)\n",
    "sns.boxplot(df['credit_line_utilization'],color='navy')"
   ]
  },
  {
   "cell_type": "markdown",
   "id": "5504a6bd",
   "metadata": {},
   "source": [
    "<I> In order to see the boxplot clearly, I put limit for xlim between 0 and 3"
   ]
  },
  {
   "cell_type": "markdown",
   "id": "4744dd5f",
   "metadata": {},
   "source": [
    "<i><font size='4'>There are very much outliers in this column."
   ]
  },
  {
   "cell_type": "raw",
   "id": "d0d5054d",
   "metadata": {},
   "source": []
  },
  {
   "cell_type": "markdown",
   "id": "9dacd244",
   "metadata": {},
   "source": [
    "#### <font size='5'><i> 8. Number_of_previous_late_payments_up_to_59_days"
   ]
  },
  {
   "cell_type": "code",
   "execution_count": 75,
   "id": "8562a40f",
   "metadata": {
    "scrolled": true
   },
   "outputs": [
    {
     "data": {
      "text/plain": [
       "0.0     56577\n",
       "1.0      7573\n",
       "2.0      2213\n",
       "3.0       863\n",
       "4.0       374\n",
       "5.0       156\n",
       "98.0       90\n",
       "6.0        73\n",
       "7.0        25\n",
       "8.0        14\n",
       "96.0        3\n",
       "9.0         3\n",
       "10.0        2\n",
       "Name: number_of_previous_late_payments_up_to_59_days, dtype: int64"
      ]
     },
     "execution_count": 75,
     "metadata": {},
     "output_type": "execute_result"
    }
   ],
   "source": [
    "df['number_of_previous_late_payments_up_to_59_days'].value_counts()"
   ]
  },
  {
   "cell_type": "code",
   "execution_count": 76,
   "id": "5a4f59b6",
   "metadata": {},
   "outputs": [
    {
     "data": {
      "text/plain": [
       "0.0     0.832431\n",
       "1.0     0.111423\n",
       "2.0     0.032560\n",
       "3.0     0.012698\n",
       "4.0     0.005503\n",
       "5.0     0.002295\n",
       "98.0    0.001324\n",
       "6.0     0.001074\n",
       "7.0     0.000368\n",
       "8.0     0.000206\n",
       "96.0    0.000044\n",
       "9.0     0.000044\n",
       "10.0    0.000029\n",
       "Name: number_of_previous_late_payments_up_to_59_days, dtype: float64"
      ]
     },
     "execution_count": 76,
     "metadata": {},
     "output_type": "execute_result"
    }
   ],
   "source": [
    "df['number_of_previous_late_payments_up_to_59_days'].value_counts(normalize=True)"
   ]
  },
  {
   "cell_type": "code",
   "execution_count": 77,
   "id": "55e105f3",
   "metadata": {},
   "outputs": [
    {
     "name": "stdout",
     "output_type": "stream",
     "text": [
      "0.0\n",
      "98.0\n"
     ]
    }
   ],
   "source": [
    "print(df['number_of_previous_late_payments_up_to_59_days'].min())\n",
    "print(df['number_of_previous_late_payments_up_to_59_days'].max())"
   ]
  },
  {
   "cell_type": "code",
   "execution_count": 78,
   "id": "502f46b6",
   "metadata": {},
   "outputs": [
    {
     "name": "stdout",
     "output_type": "stream",
     "text": [
      "Minimum number_of_previous_late_payments_up_to_59_days in our dataset is 0.0.\n",
      "Maximum number_of_previous_late_payments_up_to_59_days in our dataset is 98.0.\n"
     ]
    }
   ],
   "source": [
    "print(f'Minimum number_of_previous_late_payments_up_to_59_days in our dataset is {df.number_of_previous_late_payments_up_to_59_days.min()}.')\n",
    "print(f'Maximum number_of_previous_late_payments_up_to_59_days in our dataset is {df.number_of_previous_late_payments_up_to_59_days.max()}.')"
   ]
  },
  {
   "cell_type": "code",
   "execution_count": 79,
   "id": "eafe977d",
   "metadata": {},
   "outputs": [
    {
     "name": "stdout",
     "output_type": "stream",
     "text": [
      "Number of unique values in the \"number_of_previous_late_payments_up_to_59_days\" column is 13.\n"
     ]
    }
   ],
   "source": [
    "df['number_of_previous_late_payments_up_to_59_days'].nunique() # We can see there are 13 unique values in this column.\n",
    "print(f'Number of unique values in the \"number_of_previous_late_payments_up_to_59_days\" column is {df.number_of_previous_late_payments_up_to_59_days.nunique()}.')"
   ]
  },
  {
   "cell_type": "code",
   "execution_count": 80,
   "id": "38d5eda1",
   "metadata": {},
   "outputs": [
    {
     "data": {
      "image/png": "[encoded data removed]",
      "text/plain": [
       "<Figure size 864x576 with 1 Axes>"
      ]
     },
     "metadata": {},
     "output_type": "display_data"
    }
   ],
   "source": [
    "plt.xlim(0,10)\n",
    "sns.distplot(df['number_of_previous_late_payments_up_to_59_days'])\n",
    "plt.show()  "
   ]
  },
  {
   "cell_type": "code",
   "execution_count": 81,
   "id": "edeaed4b",
   "metadata": {},
   "outputs": [
    {
     "name": "stdout",
     "output_type": "stream",
     "text": [
      "Median number_of_previous_late_payments_up_to_59_days is: 0.0\n",
      "Mean number_of_previous_late_payments_up_to_59_days is: 0.3934908630785981\n"
     ]
    }
   ],
   "source": [
    "print(f'Median number_of_previous_late_payments_up_to_59_days is: {df.number_of_previous_late_payments_up_to_59_days.median()}')\n",
    "print(f'Mean number_of_previous_late_payments_up_to_59_days is: {df.number_of_previous_late_payments_up_to_59_days.mean()}')"
   ]
  },
  {
   "cell_type": "code",
   "execution_count": 82,
   "id": "96409e14",
   "metadata": {},
   "outputs": [
    {
     "data": {
      "text/plain": [
       "<AxesSubplot:xlabel='number_of_previous_late_payments_up_to_59_days'>"
      ]
     },
     "execution_count": 82,
     "metadata": {},
     "output_type": "execute_result"
    },
    {
     "data": {
      "image/png": "[encoded data removed]",
      "text/plain": [
       "<Figure size 864x576 with 1 Axes>"
      ]
     },
     "metadata": {},
     "output_type": "display_data"
    }
   ],
   "source": [
    "sns.boxplot(df['number_of_previous_late_payments_up_to_59_days'],color='navy')"
   ]
  },
  {
   "cell_type": "markdown",
   "id": "d4ad925b",
   "metadata": {},
   "source": [
    "<i> As, more than 80 percent rows has 0 late payments, we cannot see much from the boxplot, but the existing outliers"
   ]
  },
  {
   "cell_type": "raw",
   "id": "38c12203",
   "metadata": {},
   "source": []
  },
  {
   "cell_type": "markdown",
   "id": "dfcc1818",
   "metadata": {},
   "source": [
    "#### <font size='5'><i> 9. Number_of_previous_late_payments_up_to_89_days"
   ]
  },
  {
   "cell_type": "code",
   "execution_count": 83,
   "id": "06f78972",
   "metadata": {},
   "outputs": [
    {
     "data": {
      "text/plain": [
       "0.0     62824\n",
       "1.0      2672\n",
       "2.0       499\n",
       "3.0       154\n",
       "98.0       90\n",
       "4.0        50\n",
       "5.0        13\n",
       "6.0         7\n",
       "96.0        4\n",
       "7.0         2\n",
       "9.0         1\n",
       "Name: number_of_previous_late_payments_up_to_89_days, dtype: int64"
      ]
     },
     "execution_count": 83,
     "metadata": {},
     "output_type": "execute_result"
    }
   ],
   "source": [
    "df['number_of_previous_late_payments_up_to_89_days'].value_counts()"
   ]
  },
  {
   "cell_type": "code",
   "execution_count": 84,
   "id": "e996f04a",
   "metadata": {},
   "outputs": [
    {
     "data": {
      "text/plain": [
       "0.0     0.947343\n",
       "1.0     0.040292\n",
       "2.0     0.007525\n",
       "3.0     0.002322\n",
       "98.0    0.001357\n",
       "4.0     0.000754\n",
       "5.0     0.000196\n",
       "6.0     0.000106\n",
       "96.0    0.000060\n",
       "7.0     0.000030\n",
       "9.0     0.000015\n",
       "Name: number_of_previous_late_payments_up_to_89_days, dtype: float64"
      ]
     },
     "execution_count": 84,
     "metadata": {},
     "output_type": "execute_result"
    }
   ],
   "source": [
    "df['number_of_previous_late_payments_up_to_89_days'].value_counts(normalize=True)"
   ]
  },
  {
   "cell_type": "code",
   "execution_count": 85,
   "id": "f38ce7ea",
   "metadata": {},
   "outputs": [
    {
     "name": "stdout",
     "output_type": "stream",
     "text": [
      "0.0\n",
      "98.0\n"
     ]
    }
   ],
   "source": [
    "print(df['number_of_previous_late_payments_up_to_89_days'].min())\n",
    "print(df['number_of_previous_late_payments_up_to_89_days'].max())"
   ]
  },
  {
   "cell_type": "code",
   "execution_count": 86,
   "id": "570151de",
   "metadata": {},
   "outputs": [
    {
     "name": "stdout",
     "output_type": "stream",
     "text": [
      "Minimum number_of_previous_late_payments_up_to_89_days in our dataset is 0.0.\n",
      "Maximum number_of_previous_late_payments_up_to_89_days in our dataset is 98.0.\n"
     ]
    }
   ],
   "source": [
    "print(f'Minimum number_of_previous_late_payments_up_to_89_days in our dataset is {df.number_of_previous_late_payments_up_to_89_days.min()}.')\n",
    "print(f'Maximum number_of_previous_late_payments_up_to_89_days in our dataset is {df.number_of_previous_late_payments_up_to_89_days.max()}.')"
   ]
  },
  {
   "cell_type": "code",
   "execution_count": 87,
   "id": "fe7df631",
   "metadata": {},
   "outputs": [
    {
     "name": "stdout",
     "output_type": "stream",
     "text": [
      "Number of unique values in the \"number_of_previous_late_payments_up_to_89_days\" column is 11.\n"
     ]
    }
   ],
   "source": [
    "df['number_of_previous_late_payments_up_to_89_days'].nunique() # We can see there are 11 unique values in this column.\n",
    "print(f'Number of unique values in the \"number_of_previous_late_payments_up_to_89_days\" column is {df.number_of_previous_late_payments_up_to_89_days.nunique()}.')"
   ]
  },
  {
   "cell_type": "code",
   "execution_count": 88,
   "id": "4f609769",
   "metadata": {},
   "outputs": [
    {
     "data": {
      "image/png": "[encoded data removed]",
      "text/plain": [
       "<Figure size 864x576 with 1 Axes>"
      ]
     },
     "metadata": {},
     "output_type": "display_data"
    }
   ],
   "source": [
    "plt.xlim(0,10)\n",
    "sns.distplot(df['number_of_previous_late_payments_up_to_89_days'])\n",
    "plt.show()  "
   ]
  },
  {
   "cell_type": "code",
   "execution_count": 89,
   "id": "75eb31ad",
   "metadata": {},
   "outputs": [
    {
     "name": "stdout",
     "output_type": "stream",
     "text": [
      "Median number_of_previous_late_payments_up_to_89_days is: 0.0\n",
      "Mean number_of_previous_late_payments_up_to_89_days is: 0.20607394897159056\n"
     ]
    }
   ],
   "source": [
    "print(f'Median number_of_previous_late_payments_up_to_89_days is: {df.number_of_previous_late_payments_up_to_89_days.median()}')\n",
    "print(f'Mean number_of_previous_late_payments_up_to_89_days is: {df.number_of_previous_late_payments_up_to_89_days.mean()}')"
   ]
  },
  {
   "cell_type": "code",
   "execution_count": 90,
   "id": "070fc0ae",
   "metadata": {},
   "outputs": [
    {
     "data": {
      "text/plain": [
       "<AxesSubplot:xlabel='number_of_previous_late_payments_up_to_89_days'>"
      ]
     },
     "execution_count": 90,
     "metadata": {},
     "output_type": "execute_result"
    },
    {
     "data": {
      "image/png": "[encoded data removed]",
      "text/plain": [
       "<Figure size 864x576 with 1 Axes>"
      ]
     },
     "metadata": {},
     "output_type": "display_data"
    }
   ],
   "source": [
    "# plt.xlim(0,3)\n",
    "sns.boxplot(df['number_of_previous_late_payments_up_to_89_days'],color='navy')"
   ]
  },
  {
   "cell_type": "markdown",
   "id": "90140d08",
   "metadata": {},
   "source": [
    "<i> As, more than 94 percent rows has 0 late payments, we cannot see much from the boxplot, but the existing outliers"
   ]
  },
  {
   "cell_type": "raw",
   "id": "9856e2e3",
   "metadata": {},
   "source": []
  },
  {
   "cell_type": "markdown",
   "id": "0a7978c3",
   "metadata": {},
   "source": [
    "#### <font size='5'><i> 10. Number_of_previous_late_payments_90_days_or_more"
   ]
  },
  {
   "cell_type": "code",
   "execution_count": 91,
   "id": "34a5069e",
   "metadata": {},
   "outputs": [
    {
     "data": {
      "text/plain": [
       "0.0     64702\n",
       "1.0      2474\n",
       "2.0       681\n",
       "3.0       317\n",
       "4.0       133\n",
       "98.0       89\n",
       "5.0        55\n",
       "6.0        39\n",
       "7.0        15\n",
       "8.0        10\n",
       "9.0         8\n",
       "96.0        4\n",
       "10.0        3\n",
       "13.0        3\n",
       "14.0        2\n",
       "15.0        2\n",
       "11.0        2\n",
       "17.0        1\n",
       "Name: number_of_previous_late_payments_90_days_or_more, dtype: int64"
      ]
     },
     "execution_count": 91,
     "metadata": {},
     "output_type": "execute_result"
    }
   ],
   "source": [
    "df['number_of_previous_late_payments_90_days_or_more'].value_counts()"
   ]
  },
  {
   "cell_type": "code",
   "execution_count": 92,
   "id": "b6d36029",
   "metadata": {},
   "outputs": [
    {
     "data": {
      "text/plain": [
       "0.0     0.944004\n",
       "1.0     0.036096\n",
       "2.0     0.009936\n",
       "3.0     0.004625\n",
       "4.0     0.001940\n",
       "98.0    0.001299\n",
       "5.0     0.000802\n",
       "6.0     0.000569\n",
       "7.0     0.000219\n",
       "8.0     0.000146\n",
       "9.0     0.000117\n",
       "96.0    0.000058\n",
       "10.0    0.000044\n",
       "13.0    0.000044\n",
       "14.0    0.000029\n",
       "15.0    0.000029\n",
       "11.0    0.000029\n",
       "17.0    0.000015\n",
       "Name: number_of_previous_late_payments_90_days_or_more, dtype: float64"
      ]
     },
     "execution_count": 92,
     "metadata": {},
     "output_type": "execute_result"
    }
   ],
   "source": [
    "df['number_of_previous_late_payments_90_days_or_more'].value_counts(normalize=True)"
   ]
  },
  {
   "cell_type": "code",
   "execution_count": 93,
   "id": "ec3fe837",
   "metadata": {},
   "outputs": [
    {
     "name": "stdout",
     "output_type": "stream",
     "text": [
      "0.0\n",
      "98.0\n"
     ]
    }
   ],
   "source": [
    "print(df['number_of_previous_late_payments_90_days_or_more'].min())\n",
    "print(df['number_of_previous_late_payments_90_days_or_more'].max())"
   ]
  },
  {
   "cell_type": "code",
   "execution_count": 94,
   "id": "755d5b4f",
   "metadata": {},
   "outputs": [
    {
     "name": "stdout",
     "output_type": "stream",
     "text": [
      "Minimum number_of_previous_late_payments_90_days_or_more in our dataset is 0.0.\n",
      "Maximum number_of_previous_late_payments_90_days_or_more in our dataset is 98.0.\n"
     ]
    }
   ],
   "source": [
    "print(f'Minimum number_of_previous_late_payments_90_days_or_more in our dataset is {df.number_of_previous_late_payments_90_days_or_more.min()}.')\n",
    "print(f'Maximum number_of_previous_late_payments_90_days_or_more in our dataset is {df.number_of_previous_late_payments_90_days_or_more.max()}.')"
   ]
  },
  {
   "cell_type": "code",
   "execution_count": 95,
   "id": "c6e16314",
   "metadata": {},
   "outputs": [
    {
     "name": "stdout",
     "output_type": "stream",
     "text": [
      "Number of unique values in the \"number_of_previous_late_payments_90_days_or_more\" column is 18.\n"
     ]
    }
   ],
   "source": [
    "df['number_of_previous_late_payments_90_days_or_more'].nunique() # We can see there are 18 unique values in this column.\n",
    "print(f'Number of unique values in the \"number_of_previous_late_payments_90_days_or_more\" column is {df.number_of_previous_late_payments_90_days_or_more.nunique()}.')"
   ]
  },
  {
   "cell_type": "code",
   "execution_count": 96,
   "id": "2a1e03de",
   "metadata": {},
   "outputs": [
    {
     "data": {
      "image/png": "[encoded data removed]",
      "text/plain": [
       "<Figure size 864x576 with 1 Axes>"
      ]
     },
     "metadata": {},
     "output_type": "display_data"
    }
   ],
   "source": [
    "plt.xlim(0,10)\n",
    "sns.distplot(df['number_of_previous_late_payments_90_days_or_more'])\n",
    "plt.show()  "
   ]
  },
  {
   "cell_type": "code",
   "execution_count": 97,
   "id": "2704395f",
   "metadata": {},
   "outputs": [
    {
     "name": "stdout",
     "output_type": "stream",
     "text": [
      "Median number_of_previous_late_payments_90_days_or_more is: 0.0\n",
      "Mean number_of_previous_late_payments_90_days_or_more is: 0.22405894368252116\n"
     ]
    }
   ],
   "source": [
    "print(f'Median number_of_previous_late_payments_90_days_or_more is: {df.number_of_previous_late_payments_90_days_or_more.median()}')\n",
    "print(f'Mean number_of_previous_late_payments_90_days_or_more is: {df.number_of_previous_late_payments_90_days_or_more.mean()}')"
   ]
  },
  {
   "cell_type": "code",
   "execution_count": 98,
   "id": "8e7aa953",
   "metadata": {},
   "outputs": [
    {
     "data": {
      "text/plain": [
       "<AxesSubplot:xlabel='number_of_previous_late_payments_90_days_or_more'>"
      ]
     },
     "execution_count": 98,
     "metadata": {},
     "output_type": "execute_result"
    },
    {
     "data": {
      "image/png": "[encoded data removed]",
      "text/plain": [
       "<Figure size 864x576 with 1 Axes>"
      ]
     },
     "metadata": {},
     "output_type": "display_data"
    }
   ],
   "source": [
    "# plt.xlim(0,3)\n",
    "sns.boxplot(df['number_of_previous_late_payments_90_days_or_more'],color='navy')"
   ]
  },
  {
   "cell_type": "markdown",
   "id": "dd952992",
   "metadata": {},
   "source": [
    "<i> As, more than 80 percent rows has 0 late payments, we cannot see much from the boxplot, but the existing outliers"
   ]
  },
  {
   "cell_type": "code",
   "execution_count": null,
   "id": "846b5eb2",
   "metadata": {},
   "outputs": [],
   "source": []
  },
  {
   "cell_type": "markdown",
   "id": "2027d910",
   "metadata": {},
   "source": [
    "## Target column (y_train)"
   ]
  },
  {
   "cell_type": "markdown",
   "id": "05d4b60f",
   "metadata": {},
   "source": [
    "#### <font size='5'><i> Defaulted on Loan"
   ]
  },
  {
   "cell_type": "code",
   "execution_count": 99,
   "id": "9f292567",
   "metadata": {},
   "outputs": [
    {
     "data": {
      "text/plain": [
       "0    67148\n",
       "1     5013\n",
       "Name: defaulted_on_loan, dtype: int64"
      ]
     },
     "execution_count": 99,
     "metadata": {},
     "output_type": "execute_result"
    }
   ],
   "source": [
    "df['defaulted_on_loan'].value_counts()"
   ]
  },
  {
   "cell_type": "code",
   "execution_count": 100,
   "id": "a3c489ae",
   "metadata": {},
   "outputs": [
    {
     "data": {
      "text/plain": [
       "0    0.93053\n",
       "1    0.06947\n",
       "Name: defaulted_on_loan, dtype: float64"
      ]
     },
     "execution_count": 100,
     "metadata": {},
     "output_type": "execute_result"
    }
   ],
   "source": [
    "df['defaulted_on_loan'].value_counts(normalize=True)"
   ]
  },
  {
   "cell_type": "markdown",
   "id": "2b9ac9b9",
   "metadata": {},
   "source": [
    "<i><font size='4'>We definitely have very <font color='red'>imbalanced dataset</font>. Proportion of 1 is 7 percent whereas proportion of 0 is 93 percent."
   ]
  },
  {
   "cell_type": "code",
   "execution_count": 101,
   "id": "1ea0fbf6",
   "metadata": {},
   "outputs": [
    {
     "data": {
      "image/png": "[encoded data removed]",
      "text/plain": [
       "<Figure size 864x576 with 1 Axes>"
      ]
     },
     "metadata": {},
     "output_type": "display_data"
    }
   ],
   "source": [
    "df['defaulted_on_loan'].value_counts().plot(kind='bar', title='defaulted_on_loan',color='purple')\n",
    "plt.show()"
   ]
  },
  {
   "cell_type": "markdown",
   "id": "85f1c542",
   "metadata": {},
   "source": [
    "<i> We can see our target column is very <font color='red'> imbalanced </font>, therefore we can use Stratified Shuffle if we want to increase our accuracy."
   ]
  },
  {
   "cell_type": "raw",
   "id": "d897f030",
   "metadata": {},
   "source": []
  },
  {
   "cell_type": "code",
   "execution_count": 102,
   "id": "3b9e5e50",
   "metadata": {},
   "outputs": [],
   "source": [
    "# %%time\n",
    "# sns.pairplot(df, hue='defaulted_on_loan')"
   ]
  },
  {
   "cell_type": "code",
   "execution_count": null,
   "id": "0ac21470",
   "metadata": {},
   "outputs": [],
   "source": []
  },
  {
   "cell_type": "markdown",
   "id": "9a89a6c6",
   "metadata": {},
   "source": [
    "<i> Dividing data into Categorical and Numeric parts"
   ]
  },
  {
   "cell_type": "code",
   "execution_count": 103,
   "id": "d4360bd2",
   "metadata": {},
   "outputs": [],
   "source": [
    "numeric = df.loc[:, df.columns!= 'defaulted_on_loan'].columns.to_list() #(All of our columns are numeric except target column)"
   ]
  },
  {
   "cell_type": "code",
   "execution_count": 104,
   "id": "560a787c",
   "metadata": {},
   "outputs": [],
   "source": [
    "categorical = []"
   ]
  },
  {
   "cell_type": "markdown",
   "id": "44632177",
   "metadata": {},
   "source": [
    "### Dealing with Outliers"
   ]
  },
  {
   "cell_type": "markdown",
   "id": "62898f60",
   "metadata": {},
   "source": [
    "<i><font size='4'> During run of Models, I have tried detect Outliers through different methods, such us Isolation Forest and Elliptic Envelope. Hovewer, my model accuracy <font color='red'> increased significantly </font> a bit after dealing with the Outliers manually."
   ]
  },
  {
   "cell_type": "markdown",
   "id": "410d52aa",
   "metadata": {},
   "source": [
    "<i><font size='3'> I have dealt with each of the column separately in case of outliers. "
   ]
  },
  {
   "cell_type": "markdown",
   "id": "476bf81c",
   "metadata": {},
   "source": [
    "<i><font size='3.5'>For each column, I calculated z-score and changed value of the rows of column to 'NaN' whereas z-score is more than 3 which we can call Outliers. Later, inside of the pipeline, these NaN values will be imputed, which means we are not losing any rows with dropping outlier values."
   ]
  },
  {
   "cell_type": "code",
   "execution_count": 105,
   "id": "3fb1c660",
   "metadata": {},
   "outputs": [
    {
     "data": {
      "text/plain": [
       "age                                                 7144\n",
       "number_dependent_family_members                     4216\n",
       "monthly_income                                      6016\n",
       "number_of_credit_lines                              6154\n",
       "real_estate_loans                                   3806\n",
       "ratio_debt_payment_to_income                        5608\n",
       "credit_line_utilization                             6346\n",
       "number_of_previous_late_payments_up_to_59_days      4195\n",
       "number_of_previous_late_payments_up_to_89_days      5845\n",
       "number_of_previous_late_payments_90_days_or_more    3621\n",
       "defaulted_on_loan                                      0\n",
       "dtype: int64"
      ]
     },
     "execution_count": 105,
     "metadata": {},
     "output_type": "execute_result"
    }
   ],
   "source": [
    "df.isna().sum()"
   ]
  },
  {
   "cell_type": "code",
   "execution_count": 106,
   "id": "4a74ac01",
   "metadata": {},
   "outputs": [
    {
     "data": {
      "text/plain": [
       "52951"
      ]
     },
     "execution_count": 106,
     "metadata": {},
     "output_type": "execute_result"
    }
   ],
   "source": [
    "df.isna().sum().sum()"
   ]
  },
  {
   "cell_type": "markdown",
   "id": "6384e802",
   "metadata": {},
   "source": [
    "<i> Defining X and y for the pipeline and outlier handling will be done on X dataframe."
   ]
  },
  {
   "cell_type": "code",
   "execution_count": 107,
   "id": "aeba28c5",
   "metadata": {},
   "outputs": [],
   "source": [
    "X = df.drop(columns=\"defaulted_on_loan\",axis=1)\n",
    "y = df[\"defaulted_on_loan\"]   "
   ]
  },
  {
   "cell_type": "code",
   "execution_count": 108,
   "id": "6b3c36d6",
   "metadata": {
    "scrolled": true
   },
   "outputs": [
    {
     "data": {
      "text/plain": [
       "age                                                 7144\n",
       "number_dependent_family_members                     4216\n",
       "monthly_income                                      6016\n",
       "number_of_credit_lines                              6154\n",
       "real_estate_loans                                   3806\n",
       "ratio_debt_payment_to_income                        5608\n",
       "credit_line_utilization                             6346\n",
       "number_of_previous_late_payments_up_to_59_days      4195\n",
       "number_of_previous_late_payments_up_to_89_days      5845\n",
       "number_of_previous_late_payments_90_days_or_more    3621\n",
       "dtype: int64"
      ]
     },
     "execution_count": 108,
     "metadata": {},
     "output_type": "execute_result"
    }
   ],
   "source": [
    "X.isna().sum()"
   ]
  },
  {
   "cell_type": "code",
   "execution_count": 109,
   "id": "3dca6e71",
   "metadata": {},
   "outputs": [
    {
     "data": {
      "text/plain": [
       "52951"
      ]
     },
     "execution_count": 109,
     "metadata": {},
     "output_type": "execute_result"
    }
   ],
   "source": [
    "X.isna().sum().sum()"
   ]
  },
  {
   "cell_type": "markdown",
   "id": "da7209b1",
   "metadata": {},
   "source": [
    "<i> <font size='4'>Creating z-score columns for each of the columns, and later these z-score column will help us filter these values and replace them with NaN."
   ]
  },
  {
   "cell_type": "code",
   "execution_count": 110,
   "id": "3f162258",
   "metadata": {},
   "outputs": [],
   "source": [
    "X['age_z_score'] = (X['age'] - X.age.mean()) / X.age.std()\n",
    "X['number_dependent_family_members_score'] = (X['number_dependent_family_members'] - X.number_dependent_family_members.mean()) / X.number_dependent_family_members.std()\n",
    "X['monthly_income_score'] = (X['monthly_income'] - X.monthly_income.mean()) / X.monthly_income.std()\n",
    "X['number_of_credit_lines_score'] = (X['number_of_credit_lines'] - X.number_of_credit_lines.mean()) / X.number_of_credit_lines.std()\n",
    "X['real_estate_loans_score'] = (X['real_estate_loans'] - X.real_estate_loans.mean()) / X.real_estate_loans.std()\n",
    "X['ratio_debt_payment_to_income_score'] = (X['ratio_debt_payment_to_income'] - X.ratio_debt_payment_to_income.mean()) / X.ratio_debt_payment_to_income.std()\n",
    "X['credit_line_utilization_score'] = (X['credit_line_utilization'] - X.credit_line_utilization.mean()) / X.credit_line_utilization.std()\n",
    "X['number_of_previous_late_payments_up_to_59_days_score'] = (X['number_of_previous_late_payments_up_to_59_days'] - X.number_of_previous_late_payments_up_to_59_days.mean()) / X.number_of_previous_late_payments_up_to_59_days.std()\n",
    "X['number_of_previous_late_payments_up_to_89_days_score'] = (X['number_of_previous_late_payments_up_to_89_days'] - X.number_of_previous_late_payments_up_to_89_days.mean()) / X.number_of_previous_late_payments_up_to_89_days.std()\n",
    "X['number_of_previous_late_payments_90_days_or_more_score'] = (X['number_of_previous_late_payments_90_days_or_more'] - X.number_of_previous_late_payments_90_days_or_more.mean()) / X.number_of_previous_late_payments_90_days_or_more.std()\n"
   ]
  },
  {
   "cell_type": "markdown",
   "id": "e408758e",
   "metadata": {},
   "source": [
    "<i> <font size='4'>Replacing values of columns where z-score is more than 3."
   ]
  },
  {
   "cell_type": "code",
   "execution_count": 111,
   "id": "5a95c58f",
   "metadata": {},
   "outputs": [],
   "source": [
    "X.loc[X['number_dependent_family_members_score'] > 3, 'number_dependent_family_members'] = np.nan\n",
    "X.loc[X['monthly_income_score'] > 3, 'monthly_income'] = np.nan\n",
    "X.loc[X['number_of_credit_lines_score'] > 3, 'number_of_credit_lines'] = np.nan\n",
    "X.loc[X['real_estate_loans_score'] > 3, 'real_estate_loans'] = np.nan\n",
    "X.loc[X['ratio_debt_payment_to_income_score'] > 3, 'ratio_debt_payment_to_income'] = np.nan\n",
    "X.loc[X['credit_line_utilization_score'] > 3, 'credit_line_utilization'] = np.nan\n",
    "X.loc[X['number_of_previous_late_payments_up_to_59_days_score'] > 3, 'number_of_previous_late_payments_up_to_59_days'] = np.nan\n",
    "X.loc[X['number_of_previous_late_payments_up_to_89_days_score'] > 3, 'number_of_previous_late_payments_up_to_89_days'] = np.nan\n",
    "X.loc[X['number_of_previous_late_payments_90_days_or_more_score'] > 3, 'number_of_previous_late_payments_90_days_or_more'] = np.nan"
   ]
  },
  {
   "cell_type": "markdown",
   "id": "46a93664",
   "metadata": {},
   "source": [
    "<i> <font size='4'>Dropping the z-score columns as we achieved our goal."
   ]
  },
  {
   "cell_type": "code",
   "execution_count": 112,
   "id": "59c0c131",
   "metadata": {},
   "outputs": [],
   "source": [
    "X = X.drop(columns=['age_z_score', 'number_dependent_family_members_score','monthly_income_score','number_of_credit_lines_score','real_estate_loans_score','ratio_debt_payment_to_income_score','credit_line_utilization_score','number_of_previous_late_payments_up_to_59_days_score','number_of_previous_late_payments_up_to_89_days_score','number_of_previous_late_payments_90_days_or_more_score'])"
   ]
  },
  {
   "cell_type": "code",
   "execution_count": 113,
   "id": "46eadd3b",
   "metadata": {},
   "outputs": [
    {
     "data": {
      "text/plain": [
       "age                                                 7144\n",
       "number_dependent_family_members                     4732\n",
       "monthly_income                                      6297\n",
       "number_of_credit_lines                              6885\n",
       "real_estate_loans                                   4509\n",
       "ratio_debt_payment_to_income                        6094\n",
       "credit_line_utilization                             6416\n",
       "number_of_previous_late_payments_up_to_59_days      4288\n",
       "number_of_previous_late_payments_up_to_89_days      5939\n",
       "number_of_previous_late_payments_90_days_or_more    3722\n",
       "dtype: int64"
      ]
     },
     "execution_count": 113,
     "metadata": {},
     "output_type": "execute_result"
    }
   ],
   "source": [
    "X.isna().sum() # We can see the change in amounts of missing values for each column."
   ]
  },
  {
   "cell_type": "code",
   "execution_count": 114,
   "id": "710ac463",
   "metadata": {},
   "outputs": [
    {
     "data": {
      "text/plain": [
       "56026"
      ]
     },
     "execution_count": 114,
     "metadata": {},
     "output_type": "execute_result"
    }
   ],
   "source": [
    "X.isna().sum().sum() "
   ]
  },
  {
   "cell_type": "markdown",
   "id": "744ee470",
   "metadata": {},
   "source": [
    "<i> <font size='4'>Previously total number of missing values was 52,951, however after detecting outliers per each column and changing these values to NaN, total number of NaN values increased to 56,026."
   ]
  },
  {
   "cell_type": "raw",
   "id": "088e9f09",
   "metadata": {},
   "source": []
  }
 ],
 "metadata": {
  "kernelspec": {
   "display_name": "Python 3 (ipykernel)",
   "language": "python",
   "name": "python3"
  },
  "language_info": {
   "codemirror_mode": {
    "name": "ipython",
    "version": 3
   },
   "file_extension": ".py",
   "mimetype": "text/x-python",
   "name": "python",
   "nbconvert_exporter": "python",
   "pygments_lexer": "ipython3",
   "version": "3.9.7"
  }
 },
 "nbformat": 4,
 "nbformat_minor": 5
}
